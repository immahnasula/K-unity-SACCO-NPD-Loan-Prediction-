{
  "cells": [
    {
      "cell_type": "markdown",
      "metadata": {
        "id": "view-in-github",
        "colab_type": "text"
      },
      "source": [
        "<a href=\"https://colab.research.google.com/github/immahnasula/K-unity-SACCO-NPD-Loan-Prediction-/blob/main/churn_prediction_ii_triple_boost_stacking_optuna.ipynb\" target=\"_parent\"><img src=\"https://colab.research.google.com/assets/colab-badge.svg\" alt=\"Open In Colab\"/></a>"
      ]
    },
    {
      "cell_type": "markdown",
      "id": "82d29517",
      "metadata": {
        "id": "82d29517",
        "papermill": {
          "duration": 0.03792,
          "end_time": "2022-08-11T18:06:53.988459",
          "exception": false,
          "start_time": "2022-08-11T18:06:53.950539",
          "status": "completed"
        },
        "tags": []
      },
      "source": [
        "<h1><center>Churn Prediction Part 2</center></h1>\n",
        "<h2><center>Triple Boosting Stacking Ensemble Model, Optuna Hyperparameter Optimization</center></h2>\n",
        "<center><img src=\"https://uploads-ssl.webflow.com/60d45d63543dd9baaad4cb28/60d85fd90743e2299c711be5_1%20dqSLRSEC2GDV9bw_PplCYQ.png\" align=\"center\"/></center>"
      ]
    },
    {
      "cell_type": "markdown",
      "id": "83c3dd2b",
      "metadata": {
        "id": "83c3dd2b",
        "papermill": {
          "duration": 0.036674,
          "end_time": "2022-08-11T18:06:54.062665",
          "exception": false,
          "start_time": "2022-08-11T18:06:54.025991",
          "status": "completed"
        },
        "tags": []
      },
      "source": [
        "# Table of Contents\n",
        "\n",
        "* [1. Introduction ](#1)\n",
        "  * [1.1 Insights & Summary](#1.1)\n",
        "* [2. Libraries & Configurations ](#2)\n",
        "  * [2.1 Import Libraries](#2.1)\n",
        "  * [2.2 Configurations](#2.2)\n",
        "* [3 Dataset Overview](#3)\n",
        "* [4 Data Preparation](#4)\n",
        "  * [4.1 Prepare Train/Test dataset](#4.1)\n",
        "  * [4.2 Encoding & Scaling](#4.2)\n",
        "* [5 Modeling](#5)\n",
        "  * [5.1 Utility Function](#5.1)\n",
        "    * [5.1.1 Training](#5.1.1)\n",
        "    * [5.1.2 Model Interpretation](#10.1.2)\n",
        "  * [5.2 Catboost](#5.2)\n",
        "    * [5.2.1 Training](#5.2.1)\n",
        "    * [5.2.2 Optuna Tuning](#5.2.2)\n",
        "  * [5.3 XGBoost](#5.3)\n",
        "    * [5.3.1 Training](#5.3.1)\n",
        "    * [5.3.2 Optuna Tuning](#5.3.2)\n",
        "  * [5.4 LGBM](#5.4)\n",
        "    * [5.4.1 Training](#5.4.1)\n",
        "    * [5.4.2 Optuna Tuning](#5.4.2)\n",
        "  * [5.5 Stacking Ensemble](#5.5)\n",
        "    * [5.5.1 Level 0 : Base Models](#5.5.1)\n",
        "    * [5.5.2 Stacking Datasets](#5.5.2)\n",
        "    * [5.5.3 Level 1 : Meta Model](#5.5.3)\n",
        "    * [5.5.4 Stacking Model Evaluation](#5.5.4)\n",
        "    * [5.5.5 Stacking Ensemble Classic ML Models](#5.5.5)\n",
        "* [6 Load Model](#6)\n",
        "* [7 Conclusion](#7)\n",
        "* [8 References](#8)"
      ]
    },
    {
      "cell_type": "markdown",
      "id": "a36405ad",
      "metadata": {
        "id": "a36405ad",
        "papermill": {
          "duration": 0.036445,
          "end_time": "2022-08-11T18:06:54.135412",
          "exception": false,
          "start_time": "2022-08-11T18:06:54.098967",
          "status": "completed"
        },
        "tags": []
      },
      "source": [
        "<a id='1'></a>\n",
        "# 1 Introduction\n",
        "\n",
        "This is a continuation of my previous notebook [Churn Prediction Part1 : EDA+Statistical Analysis](https://www.kaggle.com/ahmedshahriarsakib/churn-prediction-part1-eda-statistical-analysis)\n",
        "\n",
        "In this notebook I applied triple gradient boosting algorithms - **XGBoost**, **Catboost** and **LightGBM** and tuned their hyperparameters using **Optuna** to predict the customer churn rate on **IBM Customer Churn Dataset**.\n",
        "\n",
        "Dataset Source :\n",
        "\n",
        "* [Kaggle Dataset URL](https://www.kaggle.com/blastchar/telco-customer-churn)\n",
        "* [GitHub Dataset URL](https://github.com/IBM/telco-customer-churn-on-icp4d/tree/master/data)\n",
        "\n",
        "You can also : \n",
        "* Check the **GitHub Project Repository**\n",
        "\n",
        "[![](https://img.shields.io/badge/Customer%20Churn%20Prediction-GitHub-100000?logo=github&logoColor=white)](https://github.com/ahmedshahriar/Customer-Churn-Prediction)\n",
        "\n",
        "* View the Project in **Jupyter Notebook Html**\n",
        "\n",
        "[![Open in HTML](https://img.shields.io/badge/Html-Open%20Notebook-blue?logo=HTML5)](https://nbviewer.org/github/ahmedshahriar/Customer-Churn-Prediction/blob/main/Telco-Customer-Churn-Prediction.html) \n",
        "\n",
        "* Open The GitHub Project in **Binder**\n",
        "\n",
        "[![Binder](https://mybinder.org/badge_logo.svg)](https://mybinder.org/v2/gh/ahmedshahriar/Customer-Churn-Prediction/main)\n",
        "\n",
        "* View the **Streamlit App** of this Project **Live**\n",
        "\n",
        "[![Live in Streamlit](https://static.streamlit.io/badges/streamlit_badge_black_white.svg)](https://share.streamlit.io//ahmedshahriar/Telco-Customer-Churn-Prediction-Streamlit-App/main/app.py)\n",
        "\n",
        "NB: This project also serves as my assignments for the courses below - \n",
        "1. [IBM Exploratory Data Analysis for Machine Learning](https://www.coursera.org/learn/ibm-exploratory-data-analysis-for-machine-learning?specialization=ibm-machine-learning)\n",
        "2. [IBM Supervised Machine Learning: Classification](https://www.coursera.org/learn/supervised-machine-learning-classification?specialization=ibm-machine-learning)\n"
      ]
    },
    {
      "cell_type": "markdown",
      "id": "9cc553ea",
      "metadata": {
        "id": "9cc553ea",
        "papermill": {
          "duration": 0.037021,
          "end_time": "2022-08-11T18:06:54.208965",
          "exception": false,
          "start_time": "2022-08-11T18:06:54.171944",
          "status": "completed"
        },
        "tags": []
      },
      "source": [
        "<a id='1.1'></a>\n",
        "\n",
        "## 1.1 Insights & Summary\n",
        "\n",
        "* Dataset mostly has categorical variables\n",
        "* Imbalanced dataset, did experiment with different sampling techniques(e.g stratifying, imblearn - SMOTE)\n",
        "* Optimized Hyperparameters using Optuna\n",
        "* Performed single level Stacking Ensemble with Triple Gradient boosting algorithms\n",
        "* Compare Boosting Stacking Ensemble with Stacking Ensemble of classic ML algorithms  "
      ]
    },
    {
      "cell_type": "markdown",
      "id": "dd6a8670",
      "metadata": {
        "id": "dd6a8670",
        "papermill": {
          "duration": 0.036784,
          "end_time": "2022-08-11T18:06:54.282514",
          "exception": false,
          "start_time": "2022-08-11T18:06:54.245730",
          "status": "completed"
        },
        "tags": []
      },
      "source": [
        "<a id='2'></a>\n",
        "# 2 Libraries & Configurations"
      ]
    },
    {
      "cell_type": "markdown",
      "id": "d262fed1",
      "metadata": {
        "id": "d262fed1",
        "papermill": {
          "duration": 0.087214,
          "end_time": "2022-08-11T18:06:54.406300",
          "exception": false,
          "start_time": "2022-08-11T18:06:54.319086",
          "status": "completed"
        },
        "tags": []
      },
      "source": [
        "<a id='2.1'></a>\n",
        "## 2.1 Import Libraries "
      ]
    },
    {
      "cell_type": "code",
      "source": [
        "!pip install catboost"
      ],
      "metadata": {
        "colab": {
          "base_uri": "https://localhost:8080/"
        },
        "id": "YQrNgjsDV5YI",
        "outputId": "83452472-f42d-49e4-96a0-f684494406f5"
      },
      "id": "YQrNgjsDV5YI",
      "execution_count": 2,
      "outputs": [
        {
          "output_type": "stream",
          "name": "stdout",
          "text": [
            "Looking in indexes: https://pypi.org/simple, https://us-python.pkg.dev/colab-wheels/public/simple/\n",
            "Collecting catboost\n",
            "  Downloading catboost-1.0.6-cp37-none-manylinux1_x86_64.whl (76.6 MB)\n",
            "\u001b[K     |████████████████████████████████| 76.6 MB 1.3 MB/s \n",
            "\u001b[?25hRequirement already satisfied: numpy>=1.16.0 in /usr/local/lib/python3.7/dist-packages (from catboost) (1.21.6)\n",
            "Requirement already satisfied: plotly in /usr/local/lib/python3.7/dist-packages (from catboost) (5.5.0)\n",
            "Requirement already satisfied: scipy in /usr/local/lib/python3.7/dist-packages (from catboost) (1.7.3)\n",
            "Requirement already satisfied: six in /usr/local/lib/python3.7/dist-packages (from catboost) (1.15.0)\n",
            "Requirement already satisfied: matplotlib in /usr/local/lib/python3.7/dist-packages (from catboost) (3.2.2)\n",
            "Requirement already satisfied: graphviz in /usr/local/lib/python3.7/dist-packages (from catboost) (0.10.1)\n",
            "Requirement already satisfied: pandas>=0.24.0 in /usr/local/lib/python3.7/dist-packages (from catboost) (1.3.5)\n",
            "Requirement already satisfied: python-dateutil>=2.7.3 in /usr/local/lib/python3.7/dist-packages (from pandas>=0.24.0->catboost) (2.8.2)\n",
            "Requirement already satisfied: pytz>=2017.3 in /usr/local/lib/python3.7/dist-packages (from pandas>=0.24.0->catboost) (2022.2.1)\n",
            "Requirement already satisfied: cycler>=0.10 in /usr/local/lib/python3.7/dist-packages (from matplotlib->catboost) (0.11.0)\n",
            "Requirement already satisfied: pyparsing!=2.0.4,!=2.1.2,!=2.1.6,>=2.0.1 in /usr/local/lib/python3.7/dist-packages (from matplotlib->catboost) (3.0.9)\n",
            "Requirement already satisfied: kiwisolver>=1.0.1 in /usr/local/lib/python3.7/dist-packages (from matplotlib->catboost) (1.4.4)\n",
            "Requirement already satisfied: typing-extensions in /usr/local/lib/python3.7/dist-packages (from kiwisolver>=1.0.1->matplotlib->catboost) (4.1.1)\n",
            "Requirement already satisfied: tenacity>=6.2.0 in /usr/local/lib/python3.7/dist-packages (from plotly->catboost) (8.0.1)\n",
            "Installing collected packages: catboost\n",
            "Successfully installed catboost-1.0.6\n"
          ]
        }
      ]
    },
    {
      "cell_type": "code",
      "source": [
        "!pip install optuna"
      ],
      "metadata": {
        "colab": {
          "base_uri": "https://localhost:8080/"
        },
        "id": "wRhjfKRtWIWB",
        "outputId": "0ef78675-ee61-4c37-d0ed-b2d8d7ead960"
      },
      "id": "wRhjfKRtWIWB",
      "execution_count": 4,
      "outputs": [
        {
          "output_type": "stream",
          "name": "stdout",
          "text": [
            "Looking in indexes: https://pypi.org/simple, https://us-python.pkg.dev/colab-wheels/public/simple/\n",
            "Collecting optuna\n",
            "  Downloading optuna-2.10.1-py3-none-any.whl (308 kB)\n",
            "\u001b[K     |████████████████████████████████| 308 kB 31.7 MB/s \n",
            "\u001b[?25hRequirement already satisfied: packaging>=20.0 in /usr/local/lib/python3.7/dist-packages (from optuna) (21.3)\n",
            "Collecting alembic\n",
            "  Downloading alembic-1.8.1-py3-none-any.whl (209 kB)\n",
            "\u001b[K     |████████████████████████████████| 209 kB 63.7 MB/s \n",
            "\u001b[?25hRequirement already satisfied: scipy!=1.4.0 in /usr/local/lib/python3.7/dist-packages (from optuna) (1.7.3)\n",
            "Requirement already satisfied: sqlalchemy>=1.1.0 in /usr/local/lib/python3.7/dist-packages (from optuna) (1.4.40)\n",
            "Collecting cliff\n",
            "  Downloading cliff-3.10.1-py3-none-any.whl (81 kB)\n",
            "\u001b[K     |████████████████████████████████| 81 kB 10.2 MB/s \n",
            "\u001b[?25hCollecting cmaes>=0.8.2\n",
            "  Downloading cmaes-0.8.2-py3-none-any.whl (15 kB)\n",
            "Collecting colorlog\n",
            "  Downloading colorlog-6.6.0-py2.py3-none-any.whl (11 kB)\n",
            "Requirement already satisfied: PyYAML in /usr/local/lib/python3.7/dist-packages (from optuna) (6.0)\n",
            "Requirement already satisfied: tqdm in /usr/local/lib/python3.7/dist-packages (from optuna) (4.64.0)\n",
            "Requirement already satisfied: numpy in /usr/local/lib/python3.7/dist-packages (from optuna) (1.21.6)\n",
            "Requirement already satisfied: pyparsing!=3.0.5,>=2.0.2 in /usr/local/lib/python3.7/dist-packages (from packaging>=20.0->optuna) (3.0.9)\n",
            "Requirement already satisfied: greenlet!=0.4.17 in /usr/local/lib/python3.7/dist-packages (from sqlalchemy>=1.1.0->optuna) (1.1.2)\n",
            "Requirement already satisfied: importlib-metadata in /usr/local/lib/python3.7/dist-packages (from sqlalchemy>=1.1.0->optuna) (4.12.0)\n",
            "Requirement already satisfied: importlib-resources in /usr/local/lib/python3.7/dist-packages (from alembic->optuna) (5.9.0)\n",
            "Collecting Mako\n",
            "  Downloading Mako-1.2.1-py3-none-any.whl (78 kB)\n",
            "\u001b[K     |████████████████████████████████| 78 kB 8.1 MB/s \n",
            "\u001b[?25hCollecting cmd2>=1.0.0\n",
            "  Downloading cmd2-2.4.2-py3-none-any.whl (147 kB)\n",
            "\u001b[K     |████████████████████████████████| 147 kB 74.8 MB/s \n",
            "\u001b[?25hCollecting pbr!=2.1.0,>=2.0.0\n",
            "  Downloading pbr-5.10.0-py2.py3-none-any.whl (112 kB)\n",
            "\u001b[K     |████████████████████████████████| 112 kB 64.5 MB/s \n",
            "\u001b[?25hCollecting stevedore>=2.0.1\n",
            "  Downloading stevedore-3.5.0-py3-none-any.whl (49 kB)\n",
            "\u001b[K     |████████████████████████████████| 49 kB 7.2 MB/s \n",
            "\u001b[?25hRequirement already satisfied: PrettyTable>=0.7.2 in /usr/local/lib/python3.7/dist-packages (from cliff->optuna) (3.3.0)\n",
            "Collecting autopage>=0.4.0\n",
            "  Downloading autopage-0.5.1-py3-none-any.whl (29 kB)\n",
            "Requirement already satisfied: attrs>=16.3.0 in /usr/local/lib/python3.7/dist-packages (from cmd2>=1.0.0->cliff->optuna) (22.1.0)\n",
            "Requirement already satisfied: wcwidth>=0.1.7 in /usr/local/lib/python3.7/dist-packages (from cmd2>=1.0.0->cliff->optuna) (0.2.5)\n",
            "Requirement already satisfied: typing-extensions in /usr/local/lib/python3.7/dist-packages (from cmd2>=1.0.0->cliff->optuna) (4.1.1)\n",
            "Collecting pyperclip>=1.6\n",
            "  Downloading pyperclip-1.8.2.tar.gz (20 kB)\n",
            "Requirement already satisfied: zipp>=0.5 in /usr/local/lib/python3.7/dist-packages (from importlib-metadata->sqlalchemy>=1.1.0->optuna) (3.8.1)\n",
            "Requirement already satisfied: MarkupSafe>=0.9.2 in /usr/local/lib/python3.7/dist-packages (from Mako->alembic->optuna) (2.0.1)\n",
            "Building wheels for collected packages: pyperclip\n",
            "  Building wheel for pyperclip (setup.py) ... \u001b[?25l\u001b[?25hdone\n",
            "  Created wheel for pyperclip: filename=pyperclip-1.8.2-py3-none-any.whl size=11137 sha256=738303945b6a38616234429707788e855e3a797c93d4924165972c290b98005b\n",
            "  Stored in directory: /root/.cache/pip/wheels/9f/18/84/8f69f8b08169c7bae2dde6bd7daf0c19fca8c8e500ee620a28\n",
            "Successfully built pyperclip\n",
            "Installing collected packages: pyperclip, pbr, stevedore, Mako, cmd2, autopage, colorlog, cmaes, cliff, alembic, optuna\n",
            "Successfully installed Mako-1.2.1 alembic-1.8.1 autopage-0.5.1 cliff-3.10.1 cmaes-0.8.2 cmd2-2.4.2 colorlog-6.6.0 optuna-2.10.1 pbr-5.10.0 pyperclip-1.8.2 stevedore-3.5.0\n"
          ]
        }
      ]
    },
    {
      "cell_type": "code",
      "execution_count": 5,
      "id": "177b8f9d",
      "metadata": {
        "_kg_hide-input": true,
        "execution": {
          "iopub.execute_input": "2022-08-11T18:06:54.486618Z",
          "iopub.status.busy": "2022-08-11T18:06:54.484823Z",
          "iopub.status.idle": "2022-08-11T18:06:57.625272Z",
          "shell.execute_reply": "2022-08-11T18:06:57.626304Z",
          "shell.execute_reply.started": "2022-04-25T18:16:36.95116Z"
        },
        "id": "177b8f9d",
        "outputId": "a4dbeaa2-99ca-47f1-90fd-2b914c6a354a",
        "papermill": {
          "duration": 3.181707,
          "end_time": "2022-08-11T18:06:57.626669",
          "exception": false,
          "start_time": "2022-08-11T18:06:54.444962",
          "status": "completed"
        },
        "tags": [],
        "colab": {
          "base_uri": "https://localhost:8080/",
          "height": 17
        }
      },
      "outputs": [
        {
          "output_type": "display_data",
          "data": {
            "text/html": [
              "        <script type=\"text/javascript\">\n",
              "        window.PlotlyConfig = {MathJaxConfig: 'local'};\n",
              "        if (window.MathJax) {MathJax.Hub.Config({SVG: {font: \"STIX-Web\"}});}\n",
              "        if (typeof require !== 'undefined') {\n",
              "        require.undef(\"plotly\");\n",
              "        requirejs.config({\n",
              "            paths: {\n",
              "                'plotly': ['https://cdn.plot.ly/plotly-2.8.3.min']\n",
              "            }\n",
              "        });\n",
              "        require(['plotly'], function(Plotly) {\n",
              "            window._Plotly = Plotly;\n",
              "        });\n",
              "        }\n",
              "        </script>\n",
              "        "
            ]
          },
          "metadata": {}
        }
      ],
      "source": [
        "\"\"\"Import basic modules.\"\"\"\n",
        "import math\n",
        "import os\n",
        "import gc\n",
        "import random\n",
        "import pprint\n",
        "import numpy as np               # For linear algebra\n",
        "import pandas as pd              # For data manipulation\n",
        "import matplotlib.pyplot as plt  # For 2D visualization\n",
        "import seaborn as sns\n",
        "\n",
        "# Warning Libraries \n",
        "import warnings\n",
        "warnings.filterwarnings(\"ignore\")\n",
        "# warnings.simplefilter(action='ignore', category=FutureWarning)\n",
        "\n",
        "from collections import Counter\n",
        "\n",
        "\"\"\"Plotly visualization\"\"\"\n",
        "from plotly.offline import init_notebook_mode\n",
        "\n",
        "from sklearn.preprocessing import (OrdinalEncoder, OneHotEncoder, LabelEncoder, \n",
        "                                   StandardScaler, MinMaxScaler, RobustScaler, MaxAbsScaler,\n",
        "                                   PowerTransformer) # convert to Gaussian-like data\n",
        "from sklearn.feature_selection import SelectKBest, f_classif, chi2\n",
        "from sklearn.model_selection import StratifiedShuffleSplit, StratifiedKFold, RepeatedStratifiedKFold, train_test_split, cross_val_score\n",
        "from sklearn.metrics import roc_auc_score, precision_recall_curve, confusion_matrix, classification_report, roc_curve, auc\n",
        "from sklearn.utils import resample\n",
        "\n",
        "from imblearn.over_sampling import SMOTE\n",
        "from imblearn.under_sampling import RandomUnderSampler\n",
        "\n",
        "# Classic Algorithms\n",
        "from sklearn.ensemble import StackingClassifier, RandomForestClassifier, ExtraTreesClassifier\n",
        "from sklearn.linear_model import LogisticRegression\n",
        "from sklearn.neighbors import KNeighborsClassifier\n",
        "from sklearn.svm import SVC\n",
        "\n",
        "# Boosting Algorithms \n",
        "import lightgbm as lgb\n",
        "# from lightgbm                         import LGBMClassifier\n",
        "from xgboost                          import XGBClassifier\n",
        "from catboost                         import CatBoostClassifier\n",
        "\n",
        "\n",
        "# optuna\n",
        "import optuna\n",
        "from optuna.visualization import plot_optimization_history, plot_param_importances\n",
        "\n",
        "import multiprocessing\n",
        "import pickle, joblib\n",
        "\n",
        "from IPython.display import Markdown, display\n",
        "\n",
        "# utility function to print markdown string\n",
        "def printmd(string):\n",
        "    display(Markdown(string))\n",
        "\n",
        "\n",
        "# customize as needed\n",
        "plt_params = {\n",
        "    # 'figure.facecolor': 'white',\n",
        "    'axes.facecolor' : 'white',\n",
        "\n",
        "    ## to set size \n",
        "    # 'legend.fontsize': 'x-large',\n",
        "    # 'figure.figsize': (15, 10),\n",
        "    # 'axes.labelsize': 'x-large',\n",
        "    # 'axes.titlesize': 'x-large',\n",
        "    # 'xtick.labelsize': 'x-large',\n",
        "    # 'ytick.labelsize': 'x-large'\n",
        "}\n",
        "\n",
        "plt.rcParams.update(plt_params)\n",
        "\n",
        "sns.set_style('whitegrid')\n",
        "\n",
        "init_notebook_mode(connected=True)\n",
        "# pio.renderers.default='notebook' # to display plotly graph\n",
        "%matplotlib inline"
      ]
    },
    {
      "cell_type": "markdown",
      "id": "3fae46dd",
      "metadata": {
        "id": "3fae46dd",
        "papermill": {
          "duration": 0.03782,
          "end_time": "2022-08-11T18:06:57.720713",
          "exception": false,
          "start_time": "2022-08-11T18:06:57.682893",
          "status": "completed"
        },
        "tags": []
      },
      "source": [
        "### Check Version"
      ]
    },
    {
      "cell_type": "code",
      "execution_count": null,
      "id": "9104d200",
      "metadata": {
        "_kg_hide-input": true,
        "execution": {
          "iopub.execute_input": "2022-08-11T18:06:57.805929Z",
          "iopub.status.busy": "2022-08-11T18:06:57.805230Z",
          "iopub.status.idle": "2022-08-11T18:07:16.681691Z",
          "shell.execute_reply": "2022-08-11T18:07:16.682129Z",
          "shell.execute_reply.started": "2022-04-25T18:16:40.911843Z"
        },
        "id": "9104d200",
        "outputId": "0e32a943-1d2f-4c7c-d954-e33a7cb35162",
        "papermill": {
          "duration": 18.924285,
          "end_time": "2022-08-11T18:07:16.682314",
          "exception": false,
          "start_time": "2022-08-11T18:06:57.758029",
          "status": "completed"
        },
        "tags": []
      },
      "outputs": [
        {
          "name": "stdout",
          "output_type": "stream",
          "text": [
            "Package                       Version\n",
            "----------------------------- --------------------\n",
            "aiohttp                       3.8.1\n",
            "aiosignal                     1.2.0\n",
            "alabaster                     0.7.12\n",
            "alembic                       1.8.1\n",
            "altair                        4.2.0\n",
            "anaconda-client               1.9.0\n",
            "anaconda-navigator            2.2.0\n",
            "anaconda-project              0.10.2\n",
            "anyio                         3.5.0\n",
            "appdirs                       1.4.4\n",
            "argon2-cffi                   21.3.0\n",
            "argon2-cffi-bindings          21.2.0\n",
            "arrow                         1.2.2\n",
            "astor                         0.8.1\n",
            "astroid                       2.6.6\n",
            "astropy                       5.0.4\n",
            "asttokens                     2.0.5\n",
            "async-timeout                 4.0.1\n",
            "atomicwrites                  1.4.0\n",
            "attrs                         21.4.0\n",
            "Automat                       20.2.0\n",
            "autopage                      0.5.1\n",
            "autopep8                      1.6.0\n",
            "Babel                         2.9.1\n",
            "backcall                      0.2.0\n",
            "backports.functools-lru-cache 1.6.4\n",
            "backports.tempfile            1.0\n",
            "backports.weakref             1.0.post1\n",
            "base58                        2.1.1\n",
            "bcrypt                        3.2.0\n",
            "beautifulsoup4                4.11.1\n",
            "binaryornot                   0.4.4\n",
            "bitarray                      2.4.1\n",
            "bkcharts                      0.2\n",
            "black                         19.10b0\n",
            "bleach                        4.1.0\n",
            "blinker                       1.5\n",
            "bokeh                         2.4.2\n",
            "boto3                         1.21.32\n",
            "botocore                      1.24.32\n",
            "Bottleneck                    1.3.4\n",
            "brotlipy                      0.7.0\n",
            "cachetools                    4.2.2\n",
            "catboost                      1.0.6\n",
            "certifi                       2021.10.8\n",
            "cffi                          1.15.0\n",
            "chardet                       4.0.0\n",
            "charset-normalizer            2.0.4\n",
            "click                         7.1.2\n",
            "cliff                         4.0.0\n",
            "cloudpickle                   2.0.0\n",
            "clyent                        1.2.2\n",
            "cmaes                         0.8.2\n",
            "cmd2                          2.4.2\n",
            "colorama                      0.4.4\n",
            "colorcet                      2.0.6\n",
            "colorlog                      6.6.0\n",
            "comtypes                      1.1.10\n",
            "conda                         4.13.0\n",
            "conda-build                   3.21.8\n",
            "conda-content-trust           0+unknown\n",
            "conda-pack                    0.6.0\n",
            "conda-package-handling        1.8.1\n",
            "conda-repo-cli                1.0.4\n",
            "conda-token                   0.3.0\n",
            "conda-verify                  3.4.2\n",
            "constantly                    15.1.0\n",
            "cookiecutter                  1.7.3\n",
            "cryptography                  3.4.8\n",
            "cssselect                     1.1.0\n",
            "cycler                        0.11.0\n",
            "Cython                        0.29.28\n",
            "cytoolz                       0.11.0\n",
            "daal4py                       2021.5.0\n",
            "dask                          2022.2.1\n",
            "datashader                    0.13.0\n",
            "datashape                     0.5.4\n",
            "debugpy                       1.5.1\n",
            "decorator                     5.1.1\n",
            "defusedxml                    0.7.1\n",
            "diff-match-patch              20200713\n",
            "distributed                   2022.2.1\n",
            "docutils                      0.17.1\n",
            "entrypoints                   0.4\n",
            "et-xmlfile                    1.1.0\n",
            "executing                     0.8.3\n",
            "factor-analyzer               0.2.3\n",
            "fastjsonschema                2.15.1\n",
            "filelock                      3.6.0\n",
            "flake8                        3.9.2\n",
            "Flask                         1.1.2\n",
            "fonttools                     4.25.0\n",
            "frozenlist                    1.2.0\n",
            "fsspec                        2022.2.0\n",
            "future                        0.18.2\n",
            "gensim                        4.1.2\n",
            "gitdb                         4.0.9\n",
            "GitPython                     3.1.27\n",
            "glob2                         0.7\n",
            "google-api-core               1.25.1\n",
            "google-auth                   1.33.0\n",
            "google-cloud-core             1.7.1\n",
            "google-cloud-storage          1.31.0\n",
            "google-crc32c                 1.1.2\n",
            "google-resumable-media        1.3.1\n",
            "googleapis-common-protos      1.53.0\n",
            "graphviz                      0.20.1\n",
            "greenlet                      1.1.1\n",
            "grpcio                        1.42.0\n",
            "h5py                          3.6.0\n",
            "HeapDict                      1.0.1\n",
            "holoviews                     1.14.8\n",
            "hvplot                        0.7.3\n",
            "hyperlink                     21.0.0\n",
            "idna                          3.3\n",
            "imagecodecs                   2021.8.26\n",
            "imageio                       2.9.0\n",
            "imagesize                     1.3.0\n",
            "imbalanced-learn              0.9.1\n",
            "imblearn                      0.0\n",
            "importlib-metadata            4.11.3\n",
            "incremental                   21.3.0\n",
            "inflection                    0.5.1\n",
            "iniconfig                     1.1.1\n",
            "intake                        0.6.5\n",
            "intervaltree                  3.1.0\n",
            "ipykernel                     6.9.1\n",
            "ipython                       8.2.0\n",
            "ipython-genutils              0.2.0\n",
            "ipywidgets                    7.6.5\n",
            "isort                         5.9.3\n",
            "itemadapter                   0.3.0\n",
            "itemloaders                   1.0.4\n",
            "itsdangerous                  2.0.1\n",
            "jdcal                         1.4.1\n",
            "jedi                          0.18.1\n",
            "Jinja2                        2.11.3\n",
            "jinja2-time                   0.2.0\n",
            "jmespath                      0.10.0\n",
            "joblib                        1.1.0\n",
            "json5                         0.9.6\n",
            "jsonschema                    4.4.0\n",
            "jupyter                       1.0.0\n",
            "jupyter-client                6.1.12\n",
            "jupyter-console               6.4.0\n",
            "jupyter-core                  4.9.2\n",
            "jupyter-server                1.13.5\n",
            "jupyterlab                    3.3.2\n",
            "jupyterlab-pygments           0.1.2\n",
            "jupyterlab-server             2.10.3\n",
            "jupyterlab-widgets            1.0.0\n",
            "keras                         2.9.0\n",
            "keyring                       23.4.0\n",
            "kiwisolver                    1.3.2\n",
            "lazy_loader                   0.1rc2\n",
            "lazy-object-proxy             1.6.0\n",
            "libarchive-c                  2.9\n",
            "lightgbm                      3.3.2\n",
            "littleutils                   0.2.2\n",
            "llvmlite                      0.38.0\n",
            "locket                        0.2.1\n",
            "lxml                          4.8.0\n",
            "Mako                          1.2.1\n",
            "Markdown                      3.3.4\n",
            "MarkupSafe                    2.0.1\n",
            "matplotlib                    3.5.1\n",
            "matplotlib-inline             0.1.2\n",
            "mccabe                        0.6.1\n",
            "menuinst                      1.4.18\n",
            "mistune                       0.8.4\n",
            "mkl-fft                       1.3.1\n",
            "mkl-random                    1.2.2\n",
            "mkl-service                   2.4.0\n",
            "mock                          4.0.3\n",
            "mpmath                        1.2.1\n",
            "msgpack                       1.0.2\n",
            "multidict                     5.1.0\n",
            "multipledispatch              0.6.0\n",
            "munkres                       1.1.4\n",
            "mypy-extensions               0.4.3\n",
            "navigator-updater             0.2.1\n",
            "nbclassic                     0.3.5\n",
            "nbclient                      0.5.13\n",
            "nbconvert                     6.4.4\n",
            "nbformat                      5.3.0\n",
            "nest-asyncio                  1.5.5\n",
            "networkx                      2.7.1\n",
            "nltk                          3.7\n",
            "nose                          1.3.7\n",
            "notebook                      6.4.8\n",
            "numba                         0.55.1\n",
            "numexpr                       2.8.1\n",
            "numpy                         1.21.5\n",
            "numpydoc                      1.2\n",
            "olefile                       0.46\n",
            "openpyxl                      3.0.9\n",
            "optuna                        2.10.1\n",
            "outdated                      0.2.1\n",
            "packaging                     21.3\n",
            "pandas                        1.4.2\n",
            "pandas-flavor                 0.3.0\n",
            "pandoc                        2.2\n",
            "pandocfilters                 1.5.0\n",
            "panel                         0.13.0\n",
            "param                         1.12.0\n",
            "paramiko                      2.8.1\n",
            "parsel                        1.6.0\n",
            "parso                         0.8.3\n",
            "partd                         1.2.0\n",
            "pathspec                      0.7.0\n",
            "patsy                         0.5.2\n",
            "pbr                           5.10.0\n",
            "pep8                          1.7.1\n",
            "pexpect                       4.8.0\n",
            "pickleshare                   0.7.5\n",
            "Pillow                        9.0.1\n",
            "pingouin                      0.5.1\n",
            "pip                           21.2.4\n",
            "pkginfo                       1.8.2\n",
            "plotly                        5.6.0\n",
            "pluggy                        1.0.0\n",
            "plumbum                       1.7.2\n",
            "ply                           3.11\n",
            "poyo                          0.5.0\n",
            "prettytable                   3.4.0\n",
            "prometheus-client             0.13.1\n",
            "prompt-toolkit                3.0.20\n",
            "Protego                       0.1.16\n",
            "protobuf                      3.19.1\n",
            "psutil                        5.8.0\n",
            "ptyprocess                    0.7.0\n",
            "pure-eval                     0.2.2\n",
            "py                            1.11.0\n",
            "pyarrow                       9.0.0\n",
            "pyasn1                        0.4.8\n",
            "pyasn1-modules                0.2.8\n",
            "pycodestyle                   2.7.0\n",
            "pycosat                       0.6.3\n",
            "pycparser                     2.21\n",
            "pyct                          0.4.6\n",
            "pycurl                        7.44.1\n",
            "pydeck                        0.7.1\n",
            "PyDispatcher                  2.0.5\n",
            "pydocstyle                    6.1.1\n",
            "pyerfa                        2.0.0\n",
            "pyflakes                      2.3.1\n",
            "Pygments                      2.11.2\n",
            "PyHamcrest                    2.0.2\n",
            "PyJWT                         2.1.0\n",
            "pylint                        2.9.6\n",
            "pyls-spyder                   0.4.0\n",
            "PyNaCl                        1.4.0\n",
            "pyodbc                        4.0.32\n",
            "pyOpenSSL                     21.0.0\n",
            "pyparsing                     3.0.4\n",
            "pyperclip                     1.8.2\n",
            "pyreadline                    2.1\n",
            "pyreadline3                   3.4.1\n",
            "pyrsistent                    0.18.0\n",
            "PySocks                       1.7.1\n",
            "pytest                        7.1.1\n",
            "python-dateutil               2.8.2\n",
            "python-lsp-black              1.0.0\n",
            "python-lsp-jsonrpc            1.0.0\n",
            "python-lsp-server             1.2.4\n",
            "python-slugify                5.0.2\n",
            "python-snappy                 0.6.0\n",
            "pytz                          2021.3\n",
            "pytz-deprecation-shim         0.1.0.post0\n",
            "pyviz-comms                   2.0.2\n",
            "PyWavelets                    1.3.0\n",
            "pywin32                       302\n",
            "pywin32-ctypes                0.2.0\n",
            "pywinpty                      2.0.2\n",
            "PyYAML                        6.0\n",
            "pyzmq                         22.3.0\n",
            "QDarkStyle                    3.0.2\n",
            "qstylizer                     0.1.10\n",
            "QtAwesome                     1.0.3\n",
            "qtconsole                     5.3.0\n",
            "QtPy                          2.0.1\n",
            "queuelib                      1.5.0\n"
          ]
        },
        {
          "name": "stdout",
          "output_type": "stream",
          "text": [
            "regex                         2022.3.15\n",
            "requests                      2.27.1\n",
            "requests-file                 1.5.1\n",
            "rope                          0.22.0\n",
            "rsa                           4.7.2\n",
            "Rtree                         0.9.7\n",
            "ruamel-yaml-conda             0.15.100\n",
            "s3transfer                    0.5.0\n",
            "scikit-image                  0.19.2\n",
            "scikit-learn                  1.1.2\n",
            "scikit-learn-intelex          2021.20220215.102710\n",
            "scipy                         1.7.3\n",
            "Scrapy                        2.6.1\n",
            "seaborn                       0.11.2\n",
            "Send2Trash                    1.8.0\n",
            "service-identity              18.1.0\n",
            "setuptools                    61.2.0\n",
            "sip                           4.19.13\n",
            "six                           1.16.0\n",
            "smart-open                    5.1.0\n",
            "smmap                         5.0.0\n",
            "sniffio                       1.2.0\n",
            "snowballstemmer               2.2.0\n",
            "sortedcollections             2.1.0\n",
            "sortedcontainers              2.4.0\n",
            "soupsieve                     2.3.1\n",
            "Sphinx                        4.4.0\n",
            "sphinxcontrib-applehelp       1.0.2\n",
            "sphinxcontrib-devhelp         1.0.2\n",
            "sphinxcontrib-htmlhelp        2.0.0\n",
            "sphinxcontrib-jsmath          1.0.1\n",
            "sphinxcontrib-qthelp          1.0.3\n",
            "sphinxcontrib-serializinghtml 1.1.5\n",
            "spyder                        5.1.5\n",
            "spyder-kernels                2.1.3\n",
            "SQLAlchemy                    1.4.32\n",
            "stack-data                    0.2.0\n",
            "statsmodels                   0.13.2\n",
            "stevedore                     4.0.0\n",
            "streamlit                     0.88.0\n",
            "sympy                         1.10.1\n",
            "tables                        3.6.1\n",
            "tabulate                      0.8.9\n",
            "TBB                           0.2\n",
            "tblib                         1.7.0\n",
            "tenacity                      8.0.1\n",
            "terminado                     0.13.1\n",
            "testpath                      0.5.0\n",
            "text-unidecode                1.3\n",
            "textblob                      0.17.1\n",
            "textdistance                  4.2.1\n",
            "threadpoolctl                 2.2.0\n",
            "three-merge                   0.1.1\n",
            "tifffile                      2021.7.2\n",
            "tinycss                       0.4\n",
            "tldextract                    3.2.0\n",
            "toml                          0.10.2\n",
            "tomli                         1.2.2\n",
            "toolz                         0.11.2\n",
            "tornado                       6.1\n",
            "tqdm                          4.64.0\n",
            "traitlets                     5.1.1\n",
            "Twisted                       22.2.0\n",
            "twisted-iocpsupport           1.0.2\n",
            "typed-ast                     1.4.3\n",
            "typing_extensions             4.1.1\n",
            "tzdata                        2022.2\n",
            "tzlocal                       4.2\n",
            "ujson                         5.1.0\n",
            "Unidecode                     1.2.0\n",
            "urllib3                       1.26.9\n",
            "validators                    0.20.0\n",
            "w3lib                         1.21.0\n",
            "watchdog                      2.1.6\n",
            "wcwidth                       0.2.5\n",
            "webencodings                  0.5.1\n",
            "websocket-client              0.58.0\n",
            "Werkzeug                      2.0.3\n",
            "wheel                         0.37.1\n",
            "widgetsnbextension            3.5.2\n",
            "win-inet-pton                 1.1.0\n",
            "win-unicode-console           0.5\n",
            "wincertstore                  0.2\n",
            "wrapt                         1.12.1\n",
            "xarray                        0.20.1\n",
            "xgboost                       1.6.2\n",
            "xlrd                          2.0.1\n",
            "XlsxWriter                    3.0.3\n",
            "xlwings                       0.24.9\n",
            "yapf                          0.31.0\n",
            "yarl                          1.6.3\n",
            "zict                          2.0.0\n",
            "zipp                          3.7.0\n",
            "zope.interface                5.4.0\n"
          ]
        }
      ],
      "source": [
        "#!pip freeze | optuna\n",
        "#!pip freeze | grep xgboost\n",
        "#!pip freeze | grep catboost\n",
        "#!pip freeze | grep lightgbm\n",
        "#!pip freeze | grep plotly\n",
        "#!pip freeze | grep scipy\n",
        "#!pip freeze | grep scikit-learn\n",
        "#!pip list"
      ]
    },
    {
      "cell_type": "markdown",
      "id": "3ff7d334",
      "metadata": {
        "id": "3ff7d334",
        "papermill": {
          "duration": 0.039127,
          "end_time": "2022-08-11T18:07:16.760279",
          "exception": false,
          "start_time": "2022-08-11T18:07:16.721152",
          "status": "completed"
        },
        "tags": []
      },
      "source": [
        "<a id='2.2'></a>\n",
        "## 2.2 Configurations"
      ]
    },
    {
      "cell_type": "code",
      "execution_count": 6,
      "id": "a362c637",
      "metadata": {
        "execution": {
          "iopub.execute_input": "2022-08-11T18:07:16.848855Z",
          "iopub.status.busy": "2022-08-11T18:07:16.847895Z",
          "iopub.status.idle": "2022-08-11T18:07:16.850811Z",
          "shell.execute_reply": "2022-08-11T18:07:16.850296Z",
          "shell.execute_reply.started": "2022-04-25T18:16:57.37696Z"
        },
        "id": "a362c637",
        "papermill": {
          "duration": 0.050127,
          "end_time": "2022-08-11T18:07:16.850946",
          "exception": false,
          "start_time": "2022-08-11T18:07:16.800819",
          "status": "completed"
        },
        "tags": []
      },
      "outputs": [],
      "source": [
        "# seed value\n",
        "SEED = 42\n",
        "\n",
        "# set optuna verbosity level\n",
        "# default 20 \n",
        "# optuna_verbosity = optuna.logging.WARNING # https://optuna.readthedocs.io/en/latest/reference/logging.html#module-optuna.logging\n",
        "\n",
        "def seed_everything(seed=42):\n",
        "    random.seed(seed)\n",
        "    os.environ['PYTHONHASHSEED'] = str(seed)\n",
        "    np.random.seed(seed)\n",
        "\n",
        "seed_everything(SEED)"
      ]
    },
    {
      "cell_type": "markdown",
      "id": "d220a9a6",
      "metadata": {
        "id": "d220a9a6",
        "papermill": {
          "duration": 0.042113,
          "end_time": "2022-08-11T18:07:16.936183",
          "exception": false,
          "start_time": "2022-08-11T18:07:16.894070",
          "status": "completed"
        },
        "tags": []
      },
      "source": [
        "<a id='3'></a>\n",
        "## 3 Dataset Overview"
      ]
    },
    {
      "cell_type": "code",
      "execution_count": 7,
      "id": "9416ca65",
      "metadata": {
        "execution": {
          "iopub.execute_input": "2022-08-11T18:07:17.031762Z",
          "iopub.status.busy": "2022-08-11T18:07:17.031056Z",
          "iopub.status.idle": "2022-08-11T18:07:17.113957Z",
          "shell.execute_reply": "2022-08-11T18:07:17.114455Z",
          "shell.execute_reply.started": "2022-04-25T18:16:57.386614Z"
        },
        "id": "9416ca65",
        "papermill": {
          "duration": 0.138605,
          "end_time": "2022-08-11T18:07:17.114623",
          "exception": false,
          "start_time": "2022-08-11T18:07:16.976018",
          "status": "completed"
        },
        "tags": [],
        "colab": {
          "base_uri": "https://localhost:8080/",
          "height": 424
        },
        "outputId": "77264743-b266-47fa-b0b2-4a93b1550cc5"
      },
      "outputs": [
        {
          "output_type": "execute_result",
          "data": {
            "text/plain": [
              "       Gender MaritalStatus Occupation  InterestRate  DisbursedAmount  Terms  \\\n",
              "0           F             M          F           8.0       1500000.00     36   \n",
              "1           F             M          F          14.0       1500333.33     36   \n",
              "2           F             M          F          15.0         50000.00     12   \n",
              "3           F             M          F          14.0       6000000.00     60   \n",
              "4           F             M          F          15.0       7500000.00     84   \n",
              "...       ...           ...        ...           ...              ...    ...   \n",
              "135600      F             S          F          40.0          3000.00      3   \n",
              "135601      F             S          F          40.0         30000.00      3   \n",
              "135602      F             S          F          40.0         30000.00      3   \n",
              "135603      F             S          F          40.0         10000.00      3   \n",
              "135604      F             S          F          40.0          5000.00      3   \n",
              "\n",
              "        OutstandingLoan  PercentageCompleted Terms-binned  cluster  \n",
              "0                 0.000               100.00       Medium      1.0  \n",
              "1           1338555.419                10.78       Medium      0.0  \n",
              "2             36705.950                26.59          Low      0.0  \n",
              "3           5739116.750                 4.35         High      0.0  \n",
              "4           7360562.101                 1.86         High      0.0  \n",
              "...                 ...                  ...          ...      ...  \n",
              "135600            0.000               100.00          Low      1.0  \n",
              "135601            0.000               100.00          Low      1.0  \n",
              "135602            0.000               100.00          Low      1.0  \n",
              "135603            0.000               100.00          Low      1.0  \n",
              "135604            0.000               100.00          Low      1.0  \n",
              "\n",
              "[135605 rows x 10 columns]"
            ],
            "text/html": [
              "\n",
              "  <div id=\"df-a2885595-b57a-4647-a897-c644622c5133\">\n",
              "    <div class=\"colab-df-container\">\n",
              "      <div>\n",
              "<style scoped>\n",
              "    .dataframe tbody tr th:only-of-type {\n",
              "        vertical-align: middle;\n",
              "    }\n",
              "\n",
              "    .dataframe tbody tr th {\n",
              "        vertical-align: top;\n",
              "    }\n",
              "\n",
              "    .dataframe thead th {\n",
              "        text-align: right;\n",
              "    }\n",
              "</style>\n",
              "<table border=\"1\" class=\"dataframe\">\n",
              "  <thead>\n",
              "    <tr style=\"text-align: right;\">\n",
              "      <th></th>\n",
              "      <th>Gender</th>\n",
              "      <th>MaritalStatus</th>\n",
              "      <th>Occupation</th>\n",
              "      <th>InterestRate</th>\n",
              "      <th>DisbursedAmount</th>\n",
              "      <th>Terms</th>\n",
              "      <th>OutstandingLoan</th>\n",
              "      <th>PercentageCompleted</th>\n",
              "      <th>Terms-binned</th>\n",
              "      <th>cluster</th>\n",
              "    </tr>\n",
              "  </thead>\n",
              "  <tbody>\n",
              "    <tr>\n",
              "      <th>0</th>\n",
              "      <td>F</td>\n",
              "      <td>M</td>\n",
              "      <td>F</td>\n",
              "      <td>8.0</td>\n",
              "      <td>1500000.00</td>\n",
              "      <td>36</td>\n",
              "      <td>0.000</td>\n",
              "      <td>100.00</td>\n",
              "      <td>Medium</td>\n",
              "      <td>1.0</td>\n",
              "    </tr>\n",
              "    <tr>\n",
              "      <th>1</th>\n",
              "      <td>F</td>\n",
              "      <td>M</td>\n",
              "      <td>F</td>\n",
              "      <td>14.0</td>\n",
              "      <td>1500333.33</td>\n",
              "      <td>36</td>\n",
              "      <td>1338555.419</td>\n",
              "      <td>10.78</td>\n",
              "      <td>Medium</td>\n",
              "      <td>0.0</td>\n",
              "    </tr>\n",
              "    <tr>\n",
              "      <th>2</th>\n",
              "      <td>F</td>\n",
              "      <td>M</td>\n",
              "      <td>F</td>\n",
              "      <td>15.0</td>\n",
              "      <td>50000.00</td>\n",
              "      <td>12</td>\n",
              "      <td>36705.950</td>\n",
              "      <td>26.59</td>\n",
              "      <td>Low</td>\n",
              "      <td>0.0</td>\n",
              "    </tr>\n",
              "    <tr>\n",
              "      <th>3</th>\n",
              "      <td>F</td>\n",
              "      <td>M</td>\n",
              "      <td>F</td>\n",
              "      <td>14.0</td>\n",
              "      <td>6000000.00</td>\n",
              "      <td>60</td>\n",
              "      <td>5739116.750</td>\n",
              "      <td>4.35</td>\n",
              "      <td>High</td>\n",
              "      <td>0.0</td>\n",
              "    </tr>\n",
              "    <tr>\n",
              "      <th>4</th>\n",
              "      <td>F</td>\n",
              "      <td>M</td>\n",
              "      <td>F</td>\n",
              "      <td>15.0</td>\n",
              "      <td>7500000.00</td>\n",
              "      <td>84</td>\n",
              "      <td>7360562.101</td>\n",
              "      <td>1.86</td>\n",
              "      <td>High</td>\n",
              "      <td>0.0</td>\n",
              "    </tr>\n",
              "    <tr>\n",
              "      <th>...</th>\n",
              "      <td>...</td>\n",
              "      <td>...</td>\n",
              "      <td>...</td>\n",
              "      <td>...</td>\n",
              "      <td>...</td>\n",
              "      <td>...</td>\n",
              "      <td>...</td>\n",
              "      <td>...</td>\n",
              "      <td>...</td>\n",
              "      <td>...</td>\n",
              "    </tr>\n",
              "    <tr>\n",
              "      <th>135600</th>\n",
              "      <td>F</td>\n",
              "      <td>S</td>\n",
              "      <td>F</td>\n",
              "      <td>40.0</td>\n",
              "      <td>3000.00</td>\n",
              "      <td>3</td>\n",
              "      <td>0.000</td>\n",
              "      <td>100.00</td>\n",
              "      <td>Low</td>\n",
              "      <td>1.0</td>\n",
              "    </tr>\n",
              "    <tr>\n",
              "      <th>135601</th>\n",
              "      <td>F</td>\n",
              "      <td>S</td>\n",
              "      <td>F</td>\n",
              "      <td>40.0</td>\n",
              "      <td>30000.00</td>\n",
              "      <td>3</td>\n",
              "      <td>0.000</td>\n",
              "      <td>100.00</td>\n",
              "      <td>Low</td>\n",
              "      <td>1.0</td>\n",
              "    </tr>\n",
              "    <tr>\n",
              "      <th>135602</th>\n",
              "      <td>F</td>\n",
              "      <td>S</td>\n",
              "      <td>F</td>\n",
              "      <td>40.0</td>\n",
              "      <td>30000.00</td>\n",
              "      <td>3</td>\n",
              "      <td>0.000</td>\n",
              "      <td>100.00</td>\n",
              "      <td>Low</td>\n",
              "      <td>1.0</td>\n",
              "    </tr>\n",
              "    <tr>\n",
              "      <th>135603</th>\n",
              "      <td>F</td>\n",
              "      <td>S</td>\n",
              "      <td>F</td>\n",
              "      <td>40.0</td>\n",
              "      <td>10000.00</td>\n",
              "      <td>3</td>\n",
              "      <td>0.000</td>\n",
              "      <td>100.00</td>\n",
              "      <td>Low</td>\n",
              "      <td>1.0</td>\n",
              "    </tr>\n",
              "    <tr>\n",
              "      <th>135604</th>\n",
              "      <td>F</td>\n",
              "      <td>S</td>\n",
              "      <td>F</td>\n",
              "      <td>40.0</td>\n",
              "      <td>5000.00</td>\n",
              "      <td>3</td>\n",
              "      <td>0.000</td>\n",
              "      <td>100.00</td>\n",
              "      <td>Low</td>\n",
              "      <td>1.0</td>\n",
              "    </tr>\n",
              "  </tbody>\n",
              "</table>\n",
              "<p>135605 rows × 10 columns</p>\n",
              "</div>\n",
              "      <button class=\"colab-df-convert\" onclick=\"convertToInteractive('df-a2885595-b57a-4647-a897-c644622c5133')\"\n",
              "              title=\"Convert this dataframe to an interactive table.\"\n",
              "              style=\"display:none;\">\n",
              "        \n",
              "  <svg xmlns=\"http://www.w3.org/2000/svg\" height=\"24px\"viewBox=\"0 0 24 24\"\n",
              "       width=\"24px\">\n",
              "    <path d=\"M0 0h24v24H0V0z\" fill=\"none\"/>\n",
              "    <path d=\"M18.56 5.44l.94 2.06.94-2.06 2.06-.94-2.06-.94-.94-2.06-.94 2.06-2.06.94zm-11 1L8.5 8.5l.94-2.06 2.06-.94-2.06-.94L8.5 2.5l-.94 2.06-2.06.94zm10 10l.94 2.06.94-2.06 2.06-.94-2.06-.94-.94-2.06-.94 2.06-2.06.94z\"/><path d=\"M17.41 7.96l-1.37-1.37c-.4-.4-.92-.59-1.43-.59-.52 0-1.04.2-1.43.59L10.3 9.45l-7.72 7.72c-.78.78-.78 2.05 0 2.83L4 21.41c.39.39.9.59 1.41.59.51 0 1.02-.2 1.41-.59l7.78-7.78 2.81-2.81c.8-.78.8-2.07 0-2.86zM5.41 20L4 18.59l7.72-7.72 1.47 1.35L5.41 20z\"/>\n",
              "  </svg>\n",
              "      </button>\n",
              "      \n",
              "  <style>\n",
              "    .colab-df-container {\n",
              "      display:flex;\n",
              "      flex-wrap:wrap;\n",
              "      gap: 12px;\n",
              "    }\n",
              "\n",
              "    .colab-df-convert {\n",
              "      background-color: #E8F0FE;\n",
              "      border: none;\n",
              "      border-radius: 50%;\n",
              "      cursor: pointer;\n",
              "      display: none;\n",
              "      fill: #1967D2;\n",
              "      height: 32px;\n",
              "      padding: 0 0 0 0;\n",
              "      width: 32px;\n",
              "    }\n",
              "\n",
              "    .colab-df-convert:hover {\n",
              "      background-color: #E2EBFA;\n",
              "      box-shadow: 0px 1px 2px rgba(60, 64, 67, 0.3), 0px 1px 3px 1px rgba(60, 64, 67, 0.15);\n",
              "      fill: #174EA6;\n",
              "    }\n",
              "\n",
              "    [theme=dark] .colab-df-convert {\n",
              "      background-color: #3B4455;\n",
              "      fill: #D2E3FC;\n",
              "    }\n",
              "\n",
              "    [theme=dark] .colab-df-convert:hover {\n",
              "      background-color: #434B5C;\n",
              "      box-shadow: 0px 1px 3px 1px rgba(0, 0, 0, 0.15);\n",
              "      filter: drop-shadow(0px 1px 2px rgba(0, 0, 0, 0.3));\n",
              "      fill: #FFFFFF;\n",
              "    }\n",
              "  </style>\n",
              "\n",
              "      <script>\n",
              "        const buttonEl =\n",
              "          document.querySelector('#df-a2885595-b57a-4647-a897-c644622c5133 button.colab-df-convert');\n",
              "        buttonEl.style.display =\n",
              "          google.colab.kernel.accessAllowed ? 'block' : 'none';\n",
              "\n",
              "        async function convertToInteractive(key) {\n",
              "          const element = document.querySelector('#df-a2885595-b57a-4647-a897-c644622c5133');\n",
              "          const dataTable =\n",
              "            await google.colab.kernel.invokeFunction('convertToInteractive',\n",
              "                                                     [key], {});\n",
              "          if (!dataTable) return;\n",
              "\n",
              "          const docLinkHtml = 'Like what you see? Visit the ' +\n",
              "            '<a target=\"_blank\" href=https://colab.research.google.com/notebooks/data_table.ipynb>data table notebook</a>'\n",
              "            + ' to learn more about interactive tables.';\n",
              "          element.innerHTML = '';\n",
              "          dataTable['output_type'] = 'display_data';\n",
              "          await google.colab.output.renderOutput(dataTable, element);\n",
              "          const docLink = document.createElement('div');\n",
              "          docLink.innerHTML = docLinkHtml;\n",
              "          element.appendChild(docLink);\n",
              "        }\n",
              "      </script>\n",
              "    </div>\n",
              "  </div>\n",
              "  "
            ]
          },
          "metadata": {},
          "execution_count": 7
        }
      ],
      "source": [
        "df_loan_cleaned = pd.read_csv(r'/new_loan_data-cleaned.csv')\n",
        "df_loan_cleaned"
      ]
    },
    {
      "cell_type": "code",
      "execution_count": 8,
      "id": "c054614b",
      "metadata": {
        "execution": {
          "iopub.execute_input": "2022-08-11T18:07:17.199733Z",
          "iopub.status.busy": "2022-08-11T18:07:17.198951Z",
          "iopub.status.idle": "2022-08-11T18:07:17.277156Z",
          "shell.execute_reply": "2022-08-11T18:07:17.277629Z",
          "shell.execute_reply.started": "2022-04-25T18:16:57.491089Z"
        },
        "papermill": {
          "duration": 0.121209,
          "end_time": "2022-08-11T18:07:17.277786",
          "exception": false,
          "start_time": "2022-08-11T18:07:17.156577",
          "status": "completed"
        },
        "tags": [],
        "colab": {
          "base_uri": "https://localhost:8080/",
          "height": 680
        },
        "id": "c054614b",
        "outputId": "4e6d38e7-9bdb-4599-c61b-5350b9065141"
      },
      "outputs": [
        {
          "output_type": "display_data",
          "data": {
            "text/plain": [
              "<IPython.core.display.Markdown object>"
            ],
            "text/markdown": "**Column Info**"
          },
          "metadata": {}
        },
        {
          "output_type": "stream",
          "name": "stdout",
          "text": [
            "<class 'pandas.core.frame.DataFrame'>\n",
            "RangeIndex: 135605 entries, 0 to 135604\n",
            "Data columns (total 10 columns):\n",
            " #   Column               Non-Null Count   Dtype  \n",
            "---  ------               --------------   -----  \n",
            " 0   Gender               135605 non-null  object \n",
            " 1   MaritalStatus        135605 non-null  object \n",
            " 2   Occupation           135605 non-null  object \n",
            " 3   InterestRate         135605 non-null  float64\n",
            " 4   DisbursedAmount      135605 non-null  float64\n",
            " 5   Terms                135605 non-null  int64  \n",
            " 6   OutstandingLoan      135605 non-null  float64\n",
            " 7   PercentageCompleted  135605 non-null  float64\n",
            " 8   Terms-binned         135605 non-null  object \n",
            " 9   cluster              135605 non-null  float64\n",
            "dtypes: float64(5), int64(1), object(4)\n",
            "memory usage: 10.3+ MB\n"
          ]
        },
        {
          "output_type": "display_data",
          "data": {
            "text/plain": [
              "None"
            ]
          },
          "metadata": {}
        },
        {
          "output_type": "display_data",
          "data": {
            "text/plain": [
              "<IPython.core.display.Markdown object>"
            ],
            "text/markdown": "<br>**Datatypes Count**"
          },
          "metadata": {}
        },
        {
          "output_type": "display_data",
          "data": {
            "text/plain": [
              "float64    5\n",
              "object     4\n",
              "int64      1\n",
              "dtype: int64"
            ]
          },
          "metadata": {}
        },
        {
          "output_type": "display_data",
          "data": {
            "text/plain": [
              "<IPython.core.display.Markdown object>"
            ],
            "text/markdown": "<br>**Categorical Features**"
          },
          "metadata": {}
        },
        {
          "output_type": "display_data",
          "data": {
            "text/plain": [
              "                count unique  top    freq\n",
              "Gender         135605      3    M   79825\n",
              "MaritalStatus  135605      3    M   97978\n",
              "Occupation     135605      4    F   86067\n",
              "Terms-binned   135605      3  Low  121298"
            ],
            "text/html": [
              "\n",
              "  <div id=\"df-d5eae2c4-202a-4ad9-b498-4c5fc30c44ee\">\n",
              "    <div class=\"colab-df-container\">\n",
              "      <div>\n",
              "<style scoped>\n",
              "    .dataframe tbody tr th:only-of-type {\n",
              "        vertical-align: middle;\n",
              "    }\n",
              "\n",
              "    .dataframe tbody tr th {\n",
              "        vertical-align: top;\n",
              "    }\n",
              "\n",
              "    .dataframe thead th {\n",
              "        text-align: right;\n",
              "    }\n",
              "</style>\n",
              "<table border=\"1\" class=\"dataframe\">\n",
              "  <thead>\n",
              "    <tr style=\"text-align: right;\">\n",
              "      <th></th>\n",
              "      <th>count</th>\n",
              "      <th>unique</th>\n",
              "      <th>top</th>\n",
              "      <th>freq</th>\n",
              "    </tr>\n",
              "  </thead>\n",
              "  <tbody>\n",
              "    <tr>\n",
              "      <th>Gender</th>\n",
              "      <td>135605</td>\n",
              "      <td>3</td>\n",
              "      <td>M</td>\n",
              "      <td>79825</td>\n",
              "    </tr>\n",
              "    <tr>\n",
              "      <th>MaritalStatus</th>\n",
              "      <td>135605</td>\n",
              "      <td>3</td>\n",
              "      <td>M</td>\n",
              "      <td>97978</td>\n",
              "    </tr>\n",
              "    <tr>\n",
              "      <th>Occupation</th>\n",
              "      <td>135605</td>\n",
              "      <td>4</td>\n",
              "      <td>F</td>\n",
              "      <td>86067</td>\n",
              "    </tr>\n",
              "    <tr>\n",
              "      <th>Terms-binned</th>\n",
              "      <td>135605</td>\n",
              "      <td>3</td>\n",
              "      <td>Low</td>\n",
              "      <td>121298</td>\n",
              "    </tr>\n",
              "  </tbody>\n",
              "</table>\n",
              "</div>\n",
              "      <button class=\"colab-df-convert\" onclick=\"convertToInteractive('df-d5eae2c4-202a-4ad9-b498-4c5fc30c44ee')\"\n",
              "              title=\"Convert this dataframe to an interactive table.\"\n",
              "              style=\"display:none;\">\n",
              "        \n",
              "  <svg xmlns=\"http://www.w3.org/2000/svg\" height=\"24px\"viewBox=\"0 0 24 24\"\n",
              "       width=\"24px\">\n",
              "    <path d=\"M0 0h24v24H0V0z\" fill=\"none\"/>\n",
              "    <path d=\"M18.56 5.44l.94 2.06.94-2.06 2.06-.94-2.06-.94-.94-2.06-.94 2.06-2.06.94zm-11 1L8.5 8.5l.94-2.06 2.06-.94-2.06-.94L8.5 2.5l-.94 2.06-2.06.94zm10 10l.94 2.06.94-2.06 2.06-.94-2.06-.94-.94-2.06-.94 2.06-2.06.94z\"/><path d=\"M17.41 7.96l-1.37-1.37c-.4-.4-.92-.59-1.43-.59-.52 0-1.04.2-1.43.59L10.3 9.45l-7.72 7.72c-.78.78-.78 2.05 0 2.83L4 21.41c.39.39.9.59 1.41.59.51 0 1.02-.2 1.41-.59l7.78-7.78 2.81-2.81c.8-.78.8-2.07 0-2.86zM5.41 20L4 18.59l7.72-7.72 1.47 1.35L5.41 20z\"/>\n",
              "  </svg>\n",
              "      </button>\n",
              "      \n",
              "  <style>\n",
              "    .colab-df-container {\n",
              "      display:flex;\n",
              "      flex-wrap:wrap;\n",
              "      gap: 12px;\n",
              "    }\n",
              "\n",
              "    .colab-df-convert {\n",
              "      background-color: #E8F0FE;\n",
              "      border: none;\n",
              "      border-radius: 50%;\n",
              "      cursor: pointer;\n",
              "      display: none;\n",
              "      fill: #1967D2;\n",
              "      height: 32px;\n",
              "      padding: 0 0 0 0;\n",
              "      width: 32px;\n",
              "    }\n",
              "\n",
              "    .colab-df-convert:hover {\n",
              "      background-color: #E2EBFA;\n",
              "      box-shadow: 0px 1px 2px rgba(60, 64, 67, 0.3), 0px 1px 3px 1px rgba(60, 64, 67, 0.15);\n",
              "      fill: #174EA6;\n",
              "    }\n",
              "\n",
              "    [theme=dark] .colab-df-convert {\n",
              "      background-color: #3B4455;\n",
              "      fill: #D2E3FC;\n",
              "    }\n",
              "\n",
              "    [theme=dark] .colab-df-convert:hover {\n",
              "      background-color: #434B5C;\n",
              "      box-shadow: 0px 1px 3px 1px rgba(0, 0, 0, 0.15);\n",
              "      filter: drop-shadow(0px 1px 2px rgba(0, 0, 0, 0.3));\n",
              "      fill: #FFFFFF;\n",
              "    }\n",
              "  </style>\n",
              "\n",
              "      <script>\n",
              "        const buttonEl =\n",
              "          document.querySelector('#df-d5eae2c4-202a-4ad9-b498-4c5fc30c44ee button.colab-df-convert');\n",
              "        buttonEl.style.display =\n",
              "          google.colab.kernel.accessAllowed ? 'block' : 'none';\n",
              "\n",
              "        async function convertToInteractive(key) {\n",
              "          const element = document.querySelector('#df-d5eae2c4-202a-4ad9-b498-4c5fc30c44ee');\n",
              "          const dataTable =\n",
              "            await google.colab.kernel.invokeFunction('convertToInteractive',\n",
              "                                                     [key], {});\n",
              "          if (!dataTable) return;\n",
              "\n",
              "          const docLinkHtml = 'Like what you see? Visit the ' +\n",
              "            '<a target=\"_blank\" href=https://colab.research.google.com/notebooks/data_table.ipynb>data table notebook</a>'\n",
              "            + ' to learn more about interactive tables.';\n",
              "          element.innerHTML = '';\n",
              "          dataTable['output_type'] = 'display_data';\n",
              "          await google.colab.output.renderOutput(dataTable, element);\n",
              "          const docLink = document.createElement('div');\n",
              "          docLink.innerHTML = docLinkHtml;\n",
              "          element.appendChild(docLink);\n",
              "        }\n",
              "      </script>\n",
              "    </div>\n",
              "  </div>\n",
              "  "
            ]
          },
          "metadata": {}
        }
      ],
      "source": [
        "printmd(\"**Column Info**\")\n",
        "display(df_loan_cleaned.info())\n",
        "printmd(\"<br>**Datatypes Count**\")\n",
        "display(df_loan_cleaned.dtypes.value_counts())\n",
        "printmd(\"<br>**Categorical Features**\")\n",
        "display(df_loan_cleaned.describe(include=['object']).T)"
      ]
    },
    {
      "cell_type": "markdown",
      "id": "415dcdf1",
      "metadata": {
        "id": "415dcdf1",
        "papermill": {
          "duration": 0.044264,
          "end_time": "2022-08-11T18:07:17.366414",
          "exception": false,
          "start_time": "2022-08-11T18:07:17.322150",
          "status": "completed"
        },
        "tags": []
      },
      "source": [
        "<a id='4'></a>\n",
        "# 4 Data Preparation"
      ]
    },
    {
      "cell_type": "markdown",
      "id": "032d5ab1",
      "metadata": {
        "id": "032d5ab1",
        "papermill": {
          "duration": 0.043026,
          "end_time": "2022-08-11T18:07:17.451563",
          "exception": false,
          "start_time": "2022-08-11T18:07:17.408537",
          "status": "completed"
        },
        "tags": []
      },
      "source": [
        "<a id='4.1'></a>\n",
        "## 4.1 Prepare Train/Test dataset"
      ]
    },
    {
      "cell_type": "code",
      "execution_count": 9,
      "id": "95c6543c",
      "metadata": {
        "execution": {
          "iopub.execute_input": "2022-08-11T18:07:17.545205Z",
          "iopub.status.busy": "2022-08-11T18:07:17.544193Z",
          "iopub.status.idle": "2022-08-11T18:07:17.560966Z",
          "shell.execute_reply": "2022-08-11T18:07:17.561546Z",
          "shell.execute_reply.started": "2022-04-25T18:16:57.602034Z"
        },
        "id": "95c6543c",
        "outputId": "118b1c48-9793-4fe1-fe11-ae3461c6c0fc",
        "papermill": {
          "duration": 0.066632,
          "end_time": "2022-08-11T18:07:17.561696",
          "exception": false,
          "start_time": "2022-08-11T18:07:17.495064",
          "status": "completed"
        },
        "tags": [],
        "colab": {
          "base_uri": "https://localhost:8080/"
        }
      },
      "outputs": [
        {
          "output_type": "stream",
          "name": "stdout",
          "text": [
            "Target Labels Ratio in Original Dataset\n",
            "\n",
            "0.0    0.46982\n",
            "1.0    0.53018\n",
            "Name: cluster, dtype: float64\n",
            "\n",
            "Target Labels Ratio in Test Dataset\n",
            "\n",
            "0.0    0.46982\n",
            "1.0    0.53018\n",
            "Name: cluster, dtype: float64\n"
          ]
        }
      ],
      "source": [
        "strat_split = StratifiedShuffleSplit(n_splits=1, test_size=0.2, random_state=SEED)\n",
        "for train_index, test_index in strat_split.split(df_loan_cleaned, df_loan_cleaned[\"cluster\"]):\n",
        "    strat_train_set = df_loan_cleaned.loc[train_index]\n",
        "    strat_test_set = df_loan_cleaned.loc[test_index]\n",
        "\n",
        "print('Target Labels Ratio in Original Dataset\\n')\n",
        "print(df_loan_cleaned[\"cluster\"].value_counts(normalize=True).sort_index())\n",
        "# df_loan_cleaned[\"cluster\"].value_counts() / len(strat_test_set)\n",
        "\n",
        "print('\\nTarget Labels Ratio in Test Dataset\\n')\n",
        "print(strat_test_set[\"cluster\"].value_counts(normalize=True).sort_index())\n",
        "# strat_test_set[\"cluster\"].value_counts() / len(strat_test_set)"
      ]
    },
    {
      "cell_type": "code",
      "execution_count": 10,
      "id": "6786f616",
      "metadata": {
        "execution": {
          "iopub.execute_input": "2022-08-11T18:07:17.655405Z",
          "iopub.status.busy": "2022-08-11T18:07:17.654497Z",
          "iopub.status.idle": "2022-08-11T18:07:17.661904Z",
          "shell.execute_reply": "2022-08-11T18:07:17.662381Z",
          "shell.execute_reply.started": "2022-04-25T18:16:57.632289Z"
        },
        "id": "6786f616",
        "outputId": "338881f8-003b-4da4-a5c6-a3e4aee91f90",
        "papermill": {
          "duration": 0.055984,
          "end_time": "2022-08-11T18:07:17.662527",
          "exception": false,
          "start_time": "2022-08-11T18:07:17.606543",
          "status": "completed"
        },
        "tags": [],
        "colab": {
          "base_uri": "https://localhost:8080/"
        }
      },
      "outputs": [
        {
          "output_type": "execute_result",
          "data": {
            "text/plain": [
              "((108484, 9), (108484,), (27121, 9), (27121,))"
            ]
          },
          "metadata": {},
          "execution_count": 10
        }
      ],
      "source": [
        "# train Dataset\n",
        "X = strat_train_set.drop(\"cluster\", axis=1)\n",
        "y = strat_train_set[\"cluster\"].copy()\n",
        "\n",
        "# test dataset\n",
        "y_test = strat_test_set['cluster'].values\n",
        "X_test = strat_test_set.drop('cluster',axis=1)\n",
        "\n",
        "X.shape, y.shape, X_test.shape, y_test.shape"
      ]
    },
    {
      "cell_type": "code",
      "execution_count": 11,
      "id": "c1575ddf",
      "metadata": {
        "execution": {
          "iopub.execute_input": "2022-08-11T18:07:17.755039Z",
          "iopub.status.busy": "2022-08-11T18:07:17.754185Z",
          "iopub.status.idle": "2022-08-11T18:07:17.779495Z",
          "shell.execute_reply": "2022-08-11T18:07:17.780086Z",
          "shell.execute_reply.started": "2022-04-25T18:16:57.647682Z"
        },
        "id": "c1575ddf",
        "outputId": "ae793111-a698-4fee-e1fb-e25eeab53894",
        "papermill": {
          "duration": 0.075223,
          "end_time": "2022-08-11T18:07:17.780277",
          "exception": false,
          "start_time": "2022-08-11T18:07:17.705054",
          "status": "completed"
        },
        "tags": [],
        "colab": {
          "base_uri": "https://localhost:8080/",
          "height": 291
        }
      },
      "outputs": [
        {
          "output_type": "stream",
          "name": "stdout",
          "text": [
            "Number of unique entries by column, in ascending order:\n",
            "\n"
          ]
        },
        {
          "output_type": "display_data",
          "data": {
            "text/plain": [
              "         Columns  Cardinality\n",
              "0  MaritalStatus            3\n",
              "1         Gender            3\n",
              "2   Terms-binned            3\n",
              "3     Occupation            4"
            ],
            "text/html": [
              "\n",
              "  <div id=\"df-0c67a7a7-4fbe-47a1-a934-5e132fc93fe5\">\n",
              "    <div class=\"colab-df-container\">\n",
              "      <div>\n",
              "<style scoped>\n",
              "    .dataframe tbody tr th:only-of-type {\n",
              "        vertical-align: middle;\n",
              "    }\n",
              "\n",
              "    .dataframe tbody tr th {\n",
              "        vertical-align: top;\n",
              "    }\n",
              "\n",
              "    .dataframe thead th {\n",
              "        text-align: right;\n",
              "    }\n",
              "</style>\n",
              "<table border=\"1\" class=\"dataframe\">\n",
              "  <thead>\n",
              "    <tr style=\"text-align: right;\">\n",
              "      <th></th>\n",
              "      <th>Columns</th>\n",
              "      <th>Cardinality</th>\n",
              "    </tr>\n",
              "  </thead>\n",
              "  <tbody>\n",
              "    <tr>\n",
              "      <th>0</th>\n",
              "      <td>MaritalStatus</td>\n",
              "      <td>3</td>\n",
              "    </tr>\n",
              "    <tr>\n",
              "      <th>1</th>\n",
              "      <td>Gender</td>\n",
              "      <td>3</td>\n",
              "    </tr>\n",
              "    <tr>\n",
              "      <th>2</th>\n",
              "      <td>Terms-binned</td>\n",
              "      <td>3</td>\n",
              "    </tr>\n",
              "    <tr>\n",
              "      <th>3</th>\n",
              "      <td>Occupation</td>\n",
              "      <td>4</td>\n",
              "    </tr>\n",
              "  </tbody>\n",
              "</table>\n",
              "</div>\n",
              "      <button class=\"colab-df-convert\" onclick=\"convertToInteractive('df-0c67a7a7-4fbe-47a1-a934-5e132fc93fe5')\"\n",
              "              title=\"Convert this dataframe to an interactive table.\"\n",
              "              style=\"display:none;\">\n",
              "        \n",
              "  <svg xmlns=\"http://www.w3.org/2000/svg\" height=\"24px\"viewBox=\"0 0 24 24\"\n",
              "       width=\"24px\">\n",
              "    <path d=\"M0 0h24v24H0V0z\" fill=\"none\"/>\n",
              "    <path d=\"M18.56 5.44l.94 2.06.94-2.06 2.06-.94-2.06-.94-.94-2.06-.94 2.06-2.06.94zm-11 1L8.5 8.5l.94-2.06 2.06-.94-2.06-.94L8.5 2.5l-.94 2.06-2.06.94zm10 10l.94 2.06.94-2.06 2.06-.94-2.06-.94-.94-2.06-.94 2.06-2.06.94z\"/><path d=\"M17.41 7.96l-1.37-1.37c-.4-.4-.92-.59-1.43-.59-.52 0-1.04.2-1.43.59L10.3 9.45l-7.72 7.72c-.78.78-.78 2.05 0 2.83L4 21.41c.39.39.9.59 1.41.59.51 0 1.02-.2 1.41-.59l7.78-7.78 2.81-2.81c.8-.78.8-2.07 0-2.86zM5.41 20L4 18.59l7.72-7.72 1.47 1.35L5.41 20z\"/>\n",
              "  </svg>\n",
              "      </button>\n",
              "      \n",
              "  <style>\n",
              "    .colab-df-container {\n",
              "      display:flex;\n",
              "      flex-wrap:wrap;\n",
              "      gap: 12px;\n",
              "    }\n",
              "\n",
              "    .colab-df-convert {\n",
              "      background-color: #E8F0FE;\n",
              "      border: none;\n",
              "      border-radius: 50%;\n",
              "      cursor: pointer;\n",
              "      display: none;\n",
              "      fill: #1967D2;\n",
              "      height: 32px;\n",
              "      padding: 0 0 0 0;\n",
              "      width: 32px;\n",
              "    }\n",
              "\n",
              "    .colab-df-convert:hover {\n",
              "      background-color: #E2EBFA;\n",
              "      box-shadow: 0px 1px 2px rgba(60, 64, 67, 0.3), 0px 1px 3px 1px rgba(60, 64, 67, 0.15);\n",
              "      fill: #174EA6;\n",
              "    }\n",
              "\n",
              "    [theme=dark] .colab-df-convert {\n",
              "      background-color: #3B4455;\n",
              "      fill: #D2E3FC;\n",
              "    }\n",
              "\n",
              "    [theme=dark] .colab-df-convert:hover {\n",
              "      background-color: #434B5C;\n",
              "      box-shadow: 0px 1px 3px 1px rgba(0, 0, 0, 0.15);\n",
              "      filter: drop-shadow(0px 1px 2px rgba(0, 0, 0, 0.3));\n",
              "      fill: #FFFFFF;\n",
              "    }\n",
              "  </style>\n",
              "\n",
              "      <script>\n",
              "        const buttonEl =\n",
              "          document.querySelector('#df-0c67a7a7-4fbe-47a1-a934-5e132fc93fe5 button.colab-df-convert');\n",
              "        buttonEl.style.display =\n",
              "          google.colab.kernel.accessAllowed ? 'block' : 'none';\n",
              "\n",
              "        async function convertToInteractive(key) {\n",
              "          const element = document.querySelector('#df-0c67a7a7-4fbe-47a1-a934-5e132fc93fe5');\n",
              "          const dataTable =\n",
              "            await google.colab.kernel.invokeFunction('convertToInteractive',\n",
              "                                                     [key], {});\n",
              "          if (!dataTable) return;\n",
              "\n",
              "          const docLinkHtml = 'Like what you see? Visit the ' +\n",
              "            '<a target=\"_blank\" href=https://colab.research.google.com/notebooks/data_table.ipynb>data table notebook</a>'\n",
              "            + ' to learn more about interactive tables.';\n",
              "          element.innerHTML = '';\n",
              "          dataTable['output_type'] = 'display_data';\n",
              "          await google.colab.output.renderOutput(dataTable, element);\n",
              "          const docLink = document.createElement('div');\n",
              "          docLink.innerHTML = docLinkHtml;\n",
              "          element.appendChild(docLink);\n",
              "        }\n",
              "      </script>\n",
              "    </div>\n",
              "  </div>\n",
              "  "
            ]
          },
          "metadata": {}
        },
        {
          "output_type": "stream",
          "name": "stdout",
          "text": [
            "Total Categorical Columns 4\n",
            "Total Numerical Columns 5\n"
          ]
        },
        {
          "output_type": "display_data",
          "data": {
            "text/plain": [
              "<IPython.core.display.Markdown object>"
            ],
            "text/markdown": "**<br>Dataset has maximum cardinality value of 4 which is comparatively low<br>**"
          },
          "metadata": {}
        }
      ],
      "source": [
        "# Check cardinality of categorical variables : \n",
        "\n",
        "# reinitiate cat_cols because 'customerID' is still included in cat_cols variable\n",
        "cat_cols = list(set(X.columns) - set(X._get_numeric_data().columns))\n",
        "num_cols = list(set(X._get_numeric_data().columns))# already converted\n",
        "# Get number of unique entries in each column with categorical data\n",
        "object_nunique = list(map(lambda col: X[col].nunique(), cat_cols))\n",
        "d = dict(zip(cat_cols, object_nunique))\n",
        "\n",
        "print(\"Number of unique entries by column, in ascending order:\\n\")\n",
        "\n",
        "sorted_cols_by_cardinality = sorted(d.items(), key=lambda x: x[1])\n",
        "display(pd.DataFrame(sorted_cols_by_cardinality, columns=['Columns', 'Cardinality']))\n",
        "\n",
        "print(\"Total Categorical Columns\",len(cat_cols))\n",
        "print(\"Total Numerical Columns\",len(num_cols))\n",
        "\n",
        "printmd(\"**<br>Dataset has maximum cardinality value of 4 which is comparatively low<br>**\")"
      ]
    },
    {
      "cell_type": "markdown",
      "id": "2c6df5ec",
      "metadata": {
        "id": "2c6df5ec",
        "papermill": {
          "duration": 0.044716,
          "end_time": "2022-08-11T18:07:17.871239",
          "exception": false,
          "start_time": "2022-08-11T18:07:17.826523",
          "status": "completed"
        },
        "tags": []
      },
      "source": [
        "<a id='4.2'></a>\n",
        "## 4.2 Encoding & Scaling"
      ]
    },
    {
      "cell_type": "code",
      "execution_count": 15,
      "id": "d7b7f1ac",
      "metadata": {
        "execution": {
          "iopub.execute_input": "2022-08-11T18:07:17.970649Z",
          "iopub.status.busy": "2022-08-11T18:07:17.969824Z",
          "iopub.status.idle": "2022-08-11T18:07:18.032031Z",
          "shell.execute_reply": "2022-08-11T18:07:18.031552Z",
          "shell.execute_reply.started": "2022-04-25T18:16:57.68468Z"
        },
        "id": "d7b7f1ac",
        "papermill": {
          "duration": 0.115487,
          "end_time": "2022-08-11T18:07:18.032167",
          "exception": false,
          "start_time": "2022-08-11T18:07:17.916680",
          "status": "completed"
        },
        "tags": []
      },
      "outputs": [],
      "source": [
        "ordinal_encoder = OrdinalEncoder()\n",
        "X[cat_cols] = ordinal_encoder.fit_transform(X[cat_cols])\n",
        "X_test[cat_cols] = ordinal_encoder.transform(X_test[cat_cols])\n",
        "\n",
        "le = LabelEncoder()\n",
        "y = le.fit_transform(y)\n",
        "\n",
        "y_test = le.fit_transform(y_test)\n",
        "\n",
        "\n",
        "num_cols = ['InterestRate', 'DisbursedAmount', 'Terms', 'OutstandingLoan', 'PercentageCompleted']\n",
        "\n",
        "transformer = RobustScaler()\n",
        "X[num_cols] = transformer.fit_transform(X[num_cols])\n",
        "X_test[num_cols] = transformer.transform(X_test[num_cols])"
      ]
    },
    {
      "cell_type": "markdown",
      "id": "52981845",
      "metadata": {
        "id": "52981845",
        "papermill": {
          "duration": 0.044206,
          "end_time": "2022-08-11T18:07:18.122244",
          "exception": false,
          "start_time": "2022-08-11T18:07:18.078038",
          "status": "completed"
        },
        "tags": []
      },
      "source": [
        "### Correlation Heatmap\n",
        "\n",
        "**Pearson’s R** (parametric) is not applicable when the data is categorical\n",
        "\n",
        "**Kendall’s Tau** is a non-parametric measure of relationships between continuous or ordinal features\n",
        "\n",
        "While Pearson's correlation assesses linear relationships, **Spearman's correlation** (non -parametric) assesses monotonic relationships (whether linear or not)\n",
        "\n",
        "\n",
        "Most of the features in this dataset are categorical and nominal, so it's ineffective for those non-numerical attributes \n",
        "\n",
        "Moreover, there are only **three numerical features** which are not normally distributed\n",
        "\n",
        "Therefore, `pandas.corr()` is not feasible to use for this case\n"
      ]
    },
    {
      "cell_type": "code",
      "execution_count": 16,
      "id": "320de409",
      "metadata": {
        "execution": {
          "iopub.execute_input": "2022-08-11T18:07:18.218693Z",
          "iopub.status.busy": "2022-08-11T18:07:18.217870Z",
          "iopub.status.idle": "2022-08-11T18:07:18.514211Z",
          "shell.execute_reply": "2022-08-11T18:07:18.514682Z",
          "shell.execute_reply.started": "2022-04-25T18:16:57.771486Z"
        },
        "id": "320de409",
        "outputId": "ad952df5-45b4-46b0-d117-e033fed6b44e",
        "papermill": {
          "duration": 0.348867,
          "end_time": "2022-08-11T18:07:18.514848",
          "exception": false,
          "start_time": "2022-08-11T18:07:18.165981",
          "status": "completed"
        },
        "tags": [],
        "colab": {
          "base_uri": "https://localhost:8080/",
          "height": 455
        }
      },
      "outputs": [
        {
          "output_type": "display_data",
          "data": {
            "text/plain": [
              "<Figure size 504x360 with 2 Axes>"
            ],
            "image/png": "[encoded data removed]"
          },
          "metadata": {}
        }
      ],
      "source": [
        "# Correlation Matrix\n",
        "# only numerical output\n",
        "corr_matrix = pd.concat([X[num_cols],strat_train_set[[\"cluster\"]]],axis=1).corr() # 'spearman' / 'pearson' / 'kendall'\n",
        "\n",
        "# Set Up Mask To Hide Upper Triangle\n",
        "mask = np.zeros_like(corr_matrix, dtype=np.bool)\n",
        "mask[np.triu_indices_from(mask)]= True\n",
        "\n",
        "with sns.axes_style(\"white\"):\n",
        "    f, ax = plt.subplots(figsize=(7, 5))\n",
        "    ax = sns.heatmap(corr_matrix,\n",
        "                      mask = mask,\n",
        "                      square = True,\n",
        "                      linewidths = .5,\n",
        "                      cmap = 'coolwarm',\n",
        "                      cbar_kws = {'shrink': .4,\n",
        "                                'ticks' : [-1, -.5, 0, 0.5, 1]},\n",
        "                      vmin = -1,\n",
        "                      vmax = 1,\n",
        "                      annot = True,\n",
        "                      annot_kws = {'size': 12})\n",
        "\n",
        "#add the column names as labels\n",
        "ax.set_yticklabels(corr_matrix.columns, rotation = 0, fontsize=13)\n",
        "ax.set_xticklabels(corr_matrix.columns, fontsize=13)\n",
        "\n",
        "sns.set_style({'xtick.bottom': True}, {'ytick.left': True})\n",
        "plt.show()\n"
      ]
    },
    {
      "cell_type": "markdown",
      "id": "012bc156",
      "metadata": {
        "id": "012bc156",
        "papermill": {
          "duration": 0.045643,
          "end_time": "2022-08-11T18:07:18.606031",
          "exception": false,
          "start_time": "2022-08-11T18:07:18.560388",
          "status": "completed"
        },
        "tags": []
      },
      "source": [
        "<a id='5'></a>\n",
        "# 5 Modeling"
      ]
    },
    {
      "cell_type": "markdown",
      "id": "78dcb0a8",
      "metadata": {
        "id": "78dcb0a8",
        "papermill": {
          "duration": 0.04538,
          "end_time": "2022-08-11T18:07:18.698589",
          "exception": false,
          "start_time": "2022-08-11T18:07:18.653209",
          "status": "completed"
        },
        "tags": []
      },
      "source": [
        "<a id='5.1'></a>\n",
        "## 5.1 Utility Function"
      ]
    },
    {
      "cell_type": "markdown",
      "id": "26c664e3",
      "metadata": {
        "id": "26c664e3",
        "papermill": {
          "duration": 0.045761,
          "end_time": "2022-08-11T18:07:18.790719",
          "exception": false,
          "start_time": "2022-08-11T18:07:18.744958",
          "status": "completed"
        },
        "tags": []
      },
      "source": [
        "<a id='5.1.1'></a>\n",
        "### 5.1.1 Training"
      ]
    },
    {
      "cell_type": "code",
      "execution_count": 19,
      "id": "652f5f73",
      "metadata": {
        "execution": {
          "iopub.execute_input": "2022-08-11T18:07:18.894033Z",
          "iopub.status.busy": "2022-08-11T18:07:18.889577Z",
          "iopub.status.idle": "2022-08-11T18:07:18.896463Z",
          "shell.execute_reply": "2022-08-11T18:07:18.896011Z",
          "shell.execute_reply.started": "2022-04-25T18:16:58.066047Z"
        },
        "id": "652f5f73",
        "papermill": {
          "duration": 0.061021,
          "end_time": "2022-08-11T18:07:18.896585",
          "exception": false,
          "start_time": "2022-08-11T18:07:18.835564",
          "status": "completed"
        },
        "tags": []
      },
      "outputs": [],
      "source": [
        "def train_model(model, model_name, X, y, X_test, fold):\n",
        "    printmd(f'**{model_name} Init**')\n",
        "    auc_scores = []\n",
        "\n",
        "    test_preds=None\n",
        "\n",
        "    strat_kf = StratifiedKFold(n_splits=fold, random_state=SEED, shuffle=True)\n",
        "\n",
        "    for fold, (train_index, valid_index) in enumerate(strat_kf.split(X, y)):\n",
        "        X_train, X_valid = X.iloc[train_index] , X.iloc[valid_index]\n",
        "        y_train, y_valid = y[train_index] , y[valid_index]\n",
        "\n",
        "\n",
        "        #### to SMOTE sampling\n",
        "        # sm = SMOTE(sampling_strategy='all', random_state=SEED)\n",
        "        # X_train_oversampled, y_train_oversampled = sm.fit_resample(X_train, y_train)\n",
        "        # X_val_oversampled, y_val_oversampled = sm.fit_resample(X_valid, y_valid)\n",
        "\n",
        "        eval_set = [(X_valid, y_valid)]\n",
        "\n",
        "        print(\"-\" * 50)\n",
        "        print(f\"Fold {fold + 1}\")\n",
        "\n",
        "        if model_name == 'cat':\n",
        "            model.fit(X_train, y_train, eval_set= eval_set, verbose=False)\n",
        "        elif model_name == 'xgb':\n",
        "            model.fit(X_train, y_train, eval_set= eval_set, eval_metric = 'auc', verbose = False, early_stopping_rounds = 200)\n",
        "        else:\n",
        "            model.fit(X_train, y_train, eval_set= eval_set, eval_metric = 'auc', verbose = False, early_stopping_rounds = 200)\n",
        "\n",
        "\n",
        "        val_pred = model.predict_proba(X_valid)[:,1]\n",
        "        auc = roc_auc_score(y_valid, val_pred) # AUROC requires probabilities of the predictions\n",
        "        print(\"AUC Score : \",auc)\n",
        "\n",
        "        auc_scores.append(auc)\n",
        "\n",
        "        if test_preds is None:\n",
        "            test_preds = model.predict_proba(X_test)[:,1] \n",
        "        else:\n",
        "            test_preds += model.predict_proba(X_test)[:,1] \n",
        "\n",
        "\n",
        "        del X_train, y_train, X_valid, y_valid\n",
        "        gc.collect()\n",
        "\n",
        "    print(\"-\" * 50)\n",
        "    test_preds /= fold\n",
        "\n",
        "    print(f'Train : Base Model - {model_name} - AUC score : mean ---> {np.mean(auc_scores)}, std ---> {np.std(auc_scores)}')\n",
        "\n",
        "    # evaluation on test set\n",
        "    print(f'Test  : Base Model - {model_name} - AUC score : {roc_auc_score(y_test, test_preds)}')\n",
        "\n",
        "    del test_preds\n",
        "    gc.collect()\n",
        "\n",
        "    print('Done!')\n",
        "\n",
        "    if model_name == 'cat':\n",
        "        plot_feature_importance(model.get_feature_importance(), X.columns, model_name)\n",
        "        model.save_model(\"model_catboost\")\n",
        "\n",
        "    elif model_name == 'xgb':\n",
        "        plot_feature_importance(model.feature_importances_, X.columns, model_name)\n",
        "\n",
        "        # https://xgboost.readthedocs.io/en/latest/tutorials/saving_model.html\n",
        "        # save the model\n",
        "        model.save_model('model_xgb.json')\n",
        "\n",
        "    else:\n",
        "        plot_feature_importance(model.feature_importances_, X.columns, model_name)\n",
        "        model.booster_.save_model('model_lgbm.txt') \n",
        "        joblib.dump(model, 'model_lgbm.pkl')"
      ]
    },
    {
      "cell_type": "markdown",
      "id": "61d2ff51",
      "metadata": {
        "id": "61d2ff51",
        "papermill": {
          "duration": 0.045369,
          "end_time": "2022-08-11T18:07:18.988081",
          "exception": false,
          "start_time": "2022-08-11T18:07:18.942712",
          "status": "completed"
        },
        "tags": []
      },
      "source": [
        "<a id='5.1.2'></a>\n",
        "### 5.1.2 Model Interpretation"
      ]
    },
    {
      "cell_type": "code",
      "execution_count": 26,
      "id": "cc2b562d",
      "metadata": {
        "execution": {
          "iopub.execute_input": "2022-08-11T18:07:19.086105Z",
          "iopub.status.busy": "2022-08-11T18:07:19.085241Z",
          "iopub.status.idle": "2022-08-11T18:07:19.087177Z",
          "shell.execute_reply": "2022-08-11T18:07:19.087728Z",
          "shell.execute_reply.started": "2022-04-25T18:16:58.081398Z"
        },
        "id": "cc2b562d",
        "papermill": {
          "duration": 0.054109,
          "end_time": "2022-08-11T18:07:19.087877",
          "exception": false,
          "start_time": "2022-08-11T18:07:19.033768",
          "status": "completed"
        },
        "tags": []
      },
      "outputs": [],
      "source": [
        "def plot_feature_importance(importance,names,model_type):\n",
        "\n",
        "    #Create arrays from feature importance and feature names\n",
        "    feature_importance = np.array(importance)\n",
        "    feature_names = np.array(names)\n",
        "\n",
        "    #Create a DataFrame using a Dictionary\n",
        "    data={'feature_names':feature_names,'feature_importance':feature_importance}\n",
        "    fi_df = pd.DataFrame(data)\n",
        "\n",
        "    #Sort the DataFrame in order decreasing feature importance\n",
        "    fi_df.sort_values(by=['feature_importance'], ascending=False,inplace=True)\n",
        "\n",
        "    #Define size of bar plot\n",
        "    plt.figure(figsize=(10,8),dpi=100)\n",
        "    #Plot Searborn bar chart\n",
        "    sns.barplot(x=fi_df['feature_importance'], y=fi_df['feature_names'])\n",
        "    #Add chart labels\n",
        "    plt.title(model_type + ' Feature Importance')\n",
        "    plt.xlabel('Feature Importance')\n",
        "    plt.ylabel('Feature Names')\n",
        "\n",
        "# credit : https://www.analyseup.com/learn-python-for-data-science/python-random-forest-feature-importance-plot.html"
      ]
    },
    {
      "cell_type": "markdown",
      "id": "47106417",
      "metadata": {
        "id": "47106417",
        "papermill": {
          "duration": 0.045956,
          "end_time": "2022-08-11T18:07:19.180895",
          "exception": false,
          "start_time": "2022-08-11T18:07:19.134939",
          "status": "completed"
        },
        "tags": []
      },
      "source": [
        "<a id='5.2'></a>\n",
        "## 5.2 Catboost"
      ]
    },
    {
      "cell_type": "markdown",
      "id": "b6f6a1a8",
      "metadata": {
        "id": "b6f6a1a8",
        "papermill": {
          "duration": 0.044746,
          "end_time": "2022-08-11T18:07:19.271999",
          "exception": false,
          "start_time": "2022-08-11T18:07:19.227253",
          "status": "completed"
        },
        "tags": []
      },
      "source": [
        "<a id='5.2.1'></a>\n",
        "### 5.2.1 Training"
      ]
    },
    {
      "cell_type": "code",
      "execution_count": 27,
      "id": "8eb53175",
      "metadata": {
        "execution": {
          "iopub.execute_input": "2022-08-11T18:07:19.375104Z",
          "iopub.status.busy": "2022-08-11T18:07:19.374283Z",
          "iopub.status.idle": "2022-08-11T18:08:30.292824Z",
          "shell.execute_reply": "2022-08-11T18:08:30.293222Z",
          "shell.execute_reply.started": "2022-04-25T18:16:58.095843Z"
        },
        "id": "8eb53175",
        "outputId": "6abccbc1-9823-4c90-9770-2424b596881f",
        "papermill": {
          "duration": 70.97498,
          "end_time": "2022-08-11T18:08:30.293415",
          "exception": false,
          "start_time": "2022-08-11T18:07:19.318435",
          "status": "completed"
        },
        "tags": [],
        "colab": {
          "base_uri": "https://localhost:8080/",
          "height": 1000
        }
      },
      "outputs": [
        {
          "output_type": "display_data",
          "data": {
            "text/plain": [
              "<IPython.core.display.Markdown object>"
            ],
            "text/markdown": "**cat Init**"
          },
          "metadata": {}
        },
        {
          "output_type": "stream",
          "name": "stdout",
          "text": [
            "--------------------------------------------------\n",
            "Fold 1\n",
            "AUC Score :  0.999998755028661\n",
            "--------------------------------------------------\n",
            "Fold 2\n",
            "AUC Score :  1.0\n",
            "--------------------------------------------------\n",
            "Fold 3\n",
            "AUC Score :  0.9999990620078952\n",
            "--------------------------------------------------\n",
            "Fold 4\n",
            "AUC Score :  1.0\n",
            "--------------------------------------------------\n",
            "Fold 5\n",
            "AUC Score :  0.999999744133772\n",
            "--------------------------------------------------\n",
            "Fold 6\n",
            "AUC Score :  0.9999999658845029\n",
            "--------------------------------------------------\n",
            "Fold 7\n",
            "AUC Score :  0.9999994541642441\n",
            "--------------------------------------------------\n",
            "Fold 8\n",
            "AUC Score :  0.9999991471316314\n",
            "--------------------------------------------------\n",
            "Fold 9\n",
            "AUC Score :  1.0\n",
            "--------------------------------------------------\n",
            "Fold 10\n",
            "AUC Score :  0.9999996076805505\n",
            "--------------------------------------------------\n",
            "Train : Base Model - cat - AUC score : mean ---> 0.9999995736031255, std ---> 4.3098804512133887e-07\n",
            "Test  : Base Model - cat - AUC score : 0.9999995579018125\n",
            "Done!\n",
            "CPU times: user 18min 19s, sys: 19.4 s, total: 18min 39s\n",
            "Wall time: 9min 37s\n"
          ]
        },
        {
          "output_type": "display_data",
          "data": {
            "text/plain": [
              "<Figure size 1000x800 with 1 Axes>"
            ],
            "image/png": "[encoded data removed]"
          },
          "metadata": {
            "needs_background": "light"
          }
        }
      ],
      "source": [
        "%%time\n",
        "# https://catboost.ai/en/docs/concepts/speed-up-training\n",
        "\n",
        "# this dataset is fairly small, so catboost runs super slow on GPU\n",
        "# https://github.com/catboost/catboost/issues/1034\n",
        "\n",
        "\n",
        "fold_num = 10\n",
        "\n",
        "# convert datatype to integer -> use 'cat_features' parameter\n",
        "# it does not improve score, feel free to try it out\n",
        "# for c in cat_cols:\n",
        "#     X[c] = X[c].astype(np.int)\n",
        "#     X_test[c] = X_test[c].astype(np.int)\n",
        "\n",
        "cat_params  = {\n",
        "    'eval_metric':\"AUC\",\n",
        "    'loss_function': 'logloss',\n",
        "    'objective': 'Logloss',\n",
        "    'boosting_type': 'Plain',\n",
        "    'bootstrap_type': 'Bayesian', \n",
        "    'colsample_bylevel': 0.013457968759952536, # does not support on gpu https://catboost.ai/en/docs/references/training-parameters/common#rsm\n",
        "    'depth': 6,\n",
        "    'iterations': 6888,\n",
        "    'learning_rate': 0.05683590866750785,\n",
        "    'random_strength': 18, \n",
        "    'l2_leaf_reg': 50,\n",
        "    'random_state': SEED,\n",
        "#     'task_type':\"GPU\",\n",
        "#     'devices' : '0',\n",
        "    # 'cat_features':cat_cols\n",
        "    }\n",
        "\n",
        "\n",
        "cat = CatBoostClassifier(**cat_params)\n",
        "\n",
        "train_model(cat, 'cat', X, y, X_test, fold_num)"
      ]
    },
    {
      "cell_type": "markdown",
      "id": "a293e642",
      "metadata": {
        "id": "a293e642",
        "papermill": {
          "duration": 0.049488,
          "end_time": "2022-08-11T18:08:30.393585",
          "exception": false,
          "start_time": "2022-08-11T18:08:30.344097",
          "status": "completed"
        },
        "tags": []
      },
      "source": [
        "<a id='5.2.2'></a>\n",
        "### 5.2.2 Optuna Tuning"
      ]
    },
    {
      "cell_type": "code",
      "execution_count": 28,
      "id": "d89cf327",
      "metadata": {
        "execution": {
          "iopub.execute_input": "2022-08-11T18:08:30.504741Z",
          "iopub.status.busy": "2022-08-11T18:08:30.502995Z",
          "iopub.status.idle": "2022-08-11T18:08:30.507059Z",
          "shell.execute_reply": "2022-08-11T18:08:30.506583Z",
          "shell.execute_reply.started": "2022-04-25T18:18:02.333061Z"
        },
        "id": "d89cf327",
        "outputId": "750e02d3-99b3-4e88-d5b0-9ef3fcbb65bc",
        "papermill": {
          "duration": 0.063112,
          "end_time": "2022-08-11T18:08:30.507181",
          "exception": false,
          "start_time": "2022-08-11T18:08:30.444069",
          "status": "completed"
        },
        "tags": [],
        "colab": {
          "base_uri": "https://localhost:8080/"
        }
      },
      "outputs": [
        {
          "output_type": "stream",
          "name": "stdout",
          "text": [
            "CPU times: user 4 µs, sys: 0 ns, total: 4 µs\n",
            "Wall time: 6.44 µs\n"
          ]
        }
      ],
      "source": [
        "%%time\n",
        "def objective(trial):\n",
        "    X_train, X_test, y_train, y_test = train_test_split(X, y, test_size=0.25, random_state=int(SEED), shuffle=True, stratify=y)\n",
        "    \n",
        "    # parameters\n",
        "    params = {\n",
        "        'iterations' : trial.suggest_int('iterations', 6000, 8000), \n",
        "        'depth' : trial.suggest_int('depth', 3, 12),\n",
        "        'learning_rate' :trial.suggest_loguniform('learning_rate', 1e-3, 1e-1),\n",
        "        \"objective\": trial.suggest_categorical(\"objective\", [\"Logloss\"]),\n",
        "        'colsample_bylevel': trial.suggest_float(\"colsample_bylevel\", 0.01, 0.1), #  # does not support on gpu \n",
        "        'random_strength' :trial.suggest_int('random_strength', 0, 100),   \n",
        "        \"boosting_type\": trial.suggest_categorical(\"boosting_type\", [\"Ordered\", \"Plain\"]),\n",
        "        \"bootstrap_type\": trial.suggest_categorical(\n",
        "            \"bootstrap_type\", [\"Bayesian\", \"Bernoulli\", \"MVS\"]  # https://catboost.ai/en/docs/concepts/algorithm-main-stages_bootstrap-options\n",
        "        ),\n",
        "        'random_state': trial.suggest_categorical('random_state',[SEED]),\n",
        "    }\n",
        "\n",
        "    # learning\n",
        "    model = CatBoostClassifier(\n",
        "        loss_function=\"Logloss\",\n",
        "        eval_metric=\"AUC\",\n",
        "        # task_type=\"GPU\",\n",
        "        l2_leaf_reg=50,\n",
        "#         border_count=64,\n",
        "        **params\n",
        "    )        \n",
        "    model.fit(X_train, y_train, \n",
        "              verbose=False) # 1000\n",
        "    val_preds = model.predict_proba(X_test)[:,1]\n",
        "    auc = roc_auc_score(y_test, val_preds) # AUROC requires probabilities of the predictions\n",
        "    # print(\"AUC Score : \",auc) # check the auc score in each trial\n",
        "    \n",
        "    return auc"
      ]
    },
    {
      "cell_type": "code",
      "execution_count": 29,
      "id": "afe67e77",
      "metadata": {
        "_kg_hide-output": true,
        "execution": {
          "iopub.execute_input": "2022-08-11T18:08:30.618156Z",
          "iopub.status.busy": "2022-08-11T18:08:30.617242Z",
          "iopub.status.idle": "2022-08-11T18:24:01.877833Z",
          "shell.execute_reply": "2022-08-11T18:24:01.877014Z",
          "shell.execute_reply.started": "2022-04-25T18:18:02.344825Z"
        },
        "id": "afe67e77",
        "outputId": "446d043d-7171-4a50-b9bd-96d9deb57867",
        "papermill": {
          "duration": 931.31959,
          "end_time": "2022-08-11T18:24:01.878025",
          "exception": false,
          "start_time": "2022-08-11T18:08:30.558435",
          "status": "completed"
        },
        "tags": [],
        "colab": {
          "base_uri": "https://localhost:8080/",
          "height": 1000
        }
      },
      "outputs": [
        {
          "output_type": "stream",
          "name": "stderr",
          "text": [
            "\u001b[32m[I 2022-08-26 18:57:56,387]\u001b[0m A new study created in memory with name: no-name-0e85ca7d-483f-41b9-8274-1bbd6f46ac42\u001b[0m\n",
            "\u001b[32m[I 2022-08-26 18:59:27,124]\u001b[0m Trial 0 finished with value: 1.0 and parameters: {'iterations': 7362, 'depth': 6, 'learning_rate': 0.01636489110203043, 'objective': 'Logloss', 'colsample_bylevel': 0.0833093142313227, 'random_strength': 19, 'boosting_type': 'Plain', 'bootstrap_type': 'Bernoulli', 'random_state': 42}. Best is trial 0 with value: 1.0.\u001b[0m\n",
            "\u001b[32m[I 2022-08-26 18:59:39,120]\u001b[0m Trial 1 finished with value: 1.0 and parameters: {'iterations': 6574, 'depth': 5, 'learning_rate': 0.004794206957054216, 'objective': 'Logloss', 'colsample_bylevel': 0.04735555143553053, 'random_strength': 40, 'boosting_type': 'Plain', 'bootstrap_type': 'MVS', 'random_state': 42}. Best is trial 0 with value: 1.0.\u001b[0m\n",
            "\u001b[32m[I 2022-08-26 19:00:54,055]\u001b[0m Trial 3 finished with value: 1.0 and parameters: {'iterations': 6125, 'depth': 10, 'learning_rate': 0.03582483403627642, 'objective': 'Logloss', 'colsample_bylevel': 0.09658549038741188, 'random_strength': 97, 'boosting_type': 'Plain', 'bootstrap_type': 'Bernoulli', 'random_state': 42}. Best is trial 0 with value: 1.0.\u001b[0m\n",
            "\u001b[32m[I 2022-08-26 19:02:26,824]\u001b[0m Trial 4 finished with value: 1.0 and parameters: {'iterations': 7732, 'depth': 5, 'learning_rate': 0.0030659783954403103, 'objective': 'Logloss', 'colsample_bylevel': 0.011061812487348907, 'random_strength': 62, 'boosting_type': 'Plain', 'bootstrap_type': 'Bernoulli', 'random_state': 42}. Best is trial 0 with value: 1.0.\u001b[0m\n",
            "\u001b[32m[I 2022-08-26 19:05:13,107]\u001b[0m Trial 2 finished with value: 0.9999999999999999 and parameters: {'iterations': 6206, 'depth': 9, 'learning_rate': 0.009199216256259765, 'objective': 'Logloss', 'colsample_bylevel': 0.019430173308044054, 'random_strength': 43, 'boosting_type': 'Ordered', 'bootstrap_type': 'Bayesian', 'random_state': 42}. Best is trial 0 with value: 1.0.\u001b[0m\n",
            "\u001b[32m[I 2022-08-26 19:08:45,180]\u001b[0m Trial 5 finished with value: 1.0 and parameters: {'iterations': 6285, 'depth': 9, 'learning_rate': 0.005211208514262864, 'objective': 'Logloss', 'colsample_bylevel': 0.04104112574853431, 'random_strength': 41, 'boosting_type': 'Ordered', 'bootstrap_type': 'Bayesian', 'random_state': 42}. Best is trial 0 with value: 1.0.\u001b[0m\n",
            "\u001b[32m[I 2022-08-26 19:12:22,060]\u001b[0m Trial 6 finished with value: 0.9999994651157731 and parameters: {'iterations': 6904, 'depth': 6, 'learning_rate': 0.0015227289255621817, 'objective': 'Logloss', 'colsample_bylevel': 0.03282825285527007, 'random_strength': 29, 'boosting_type': 'Ordered', 'bootstrap_type': 'Bayesian', 'random_state': 42}. Best is trial 0 with value: 1.0.\u001b[0m\n",
            "\u001b[32m[I 2022-08-26 19:16:36,081]\u001b[0m Trial 7 finished with value: 1.0 and parameters: {'iterations': 7902, 'depth': 4, 'learning_rate': 0.06465503679015915, 'objective': 'Logloss', 'colsample_bylevel': 0.08098931200816245, 'random_strength': 39, 'boosting_type': 'Ordered', 'bootstrap_type': 'MVS', 'random_state': 42}. Best is trial 0 with value: 1.0.\u001b[0m\n",
            "\u001b[32m[I 2022-08-26 19:19:12,461]\u001b[0m Trial 8 finished with value: 1.0 and parameters: {'iterations': 7333, 'depth': 6, 'learning_rate': 0.0985259524352628, 'objective': 'Logloss', 'colsample_bylevel': 0.09628573239065949, 'random_strength': 47, 'boosting_type': 'Ordered', 'bootstrap_type': 'Bernoulli', 'random_state': 42}. Best is trial 0 with value: 1.0.\u001b[0m\n",
            "\u001b[32m[I 2022-08-26 19:23:51,688]\u001b[0m Trial 9 finished with value: 1.0 and parameters: {'iterations': 7158, 'depth': 8, 'learning_rate': 0.0021695564088508503, 'objective': 'Logloss', 'colsample_bylevel': 0.09051114998429496, 'random_strength': 46, 'boosting_type': 'Ordered', 'bootstrap_type': 'Bernoulli', 'random_state': 42}. Best is trial 0 with value: 1.0.\u001b[0m\n",
            "\u001b[32m[I 2022-08-26 19:25:17,557]\u001b[0m Trial 11 finished with value: 1.0 and parameters: {'iterations': 7477, 'depth': 12, 'learning_rate': 0.02180410265466905, 'objective': 'Logloss', 'colsample_bylevel': 0.06839956823344724, 'random_strength': 4, 'boosting_type': 'Plain', 'bootstrap_type': 'Bernoulli', 'random_state': 42}. Best is trial 0 with value: 1.0.\u001b[0m\n",
            "\u001b[32m[I 2022-08-26 19:26:20,540]\u001b[0m Trial 10 finished with value: 1.0 and parameters: {'iterations': 7249, 'depth': 3, 'learning_rate': 0.03872371052124842, 'objective': 'Logloss', 'colsample_bylevel': 0.0649117624533107, 'random_strength': 98, 'boosting_type': 'Ordered', 'bootstrap_type': 'MVS', 'random_state': 42}. Best is trial 0 with value: 1.0.\u001b[0m\n",
            "\u001b[32m[I 2022-08-26 19:26:57,104]\u001b[0m Trial 12 finished with value: 1.0 and parameters: {'iterations': 6647, 'depth': 3, 'learning_rate': 0.014842161121020476, 'objective': 'Logloss', 'colsample_bylevel': 0.0567378817844386, 'random_strength': 13, 'boosting_type': 'Plain', 'bootstrap_type': 'MVS', 'random_state': 42}. Best is trial 0 with value: 1.0.\u001b[0m\n",
            "\u001b[32m[I 2022-08-26 19:27:54,697]\u001b[0m Trial 13 finished with value: 1.0 and parameters: {'iterations': 6707, 'depth': 6, 'learning_rate': 0.011556179286993084, 'objective': 'Logloss', 'colsample_bylevel': 0.04370983251989175, 'random_strength': 15, 'boosting_type': 'Plain', 'bootstrap_type': 'MVS', 'random_state': 42}. Best is trial 0 with value: 1.0.\u001b[0m\n",
            "\u001b[32m[I 2022-08-26 19:28:35,056]\u001b[0m Trial 14 finished with value: 1.0 and parameters: {'iterations': 6618, 'depth': 6, 'learning_rate': 0.007077327257428424, 'objective': 'Logloss', 'colsample_bylevel': 0.04398738837341525, 'random_strength': 72, 'boosting_type': 'Plain', 'bootstrap_type': 'MVS', 'random_state': 42}. Best is trial 0 with value: 1.0.\u001b[0m\n",
            "\u001b[32m[I 2022-08-26 19:29:39,475]\u001b[0m Trial 15 finished with value: 1.0 and parameters: {'iterations': 6553, 'depth': 7, 'learning_rate': 0.005585129669925196, 'objective': 'Logloss', 'colsample_bylevel': 0.0764202182642628, 'random_strength': 64, 'boosting_type': 'Plain', 'bootstrap_type': 'MVS', 'random_state': 42}. Best is trial 0 with value: 1.0.\u001b[0m\n",
            "\u001b[32m[I 2022-08-26 19:30:06,138]\u001b[0m Trial 16 finished with value: 1.0 and parameters: {'iterations': 6940, 'depth': 7, 'learning_rate': 0.004049594711318938, 'objective': 'Logloss', 'colsample_bylevel': 0.08160787027787203, 'random_strength': 22, 'boosting_type': 'Plain', 'bootstrap_type': 'Bernoulli', 'random_state': 42}. Best is trial 0 with value: 1.0.\u001b[0m\n",
            "\u001b[32m[I 2022-08-26 19:31:04,634]\u001b[0m Trial 17 finished with value: 1.0 and parameters: {'iterations': 6940, 'depth': 4, 'learning_rate': 0.0032250961889131154, 'objective': 'Logloss', 'colsample_bylevel': 0.05530111364129808, 'random_strength': 30, 'boosting_type': 'Plain', 'bootstrap_type': 'Bernoulli', 'random_state': 42}. Best is trial 0 with value: 1.0.\u001b[0m\n",
            "\u001b[32m[I 2022-08-26 19:31:56,643]\u001b[0m Trial 18 finished with value: 1.0 and parameters: {'iterations': 7574, 'depth': 5, 'learning_rate': 0.0209692579816923, 'objective': 'Logloss', 'colsample_bylevel': 0.0566454768096436, 'random_strength': 79, 'boosting_type': 'Plain', 'bootstrap_type': 'MVS', 'random_state': 42}. Best is trial 0 with value: 1.0.\u001b[0m\n",
            "\u001b[32m[I 2022-08-26 19:33:13,791]\u001b[0m Trial 19 finished with value: 0.999998493591361 and parameters: {'iterations': 7543, 'depth': 8, 'learning_rate': 0.0010256090891001043, 'objective': 'Logloss', 'colsample_bylevel': 0.07590046295719144, 'random_strength': 63, 'boosting_type': 'Plain', 'bootstrap_type': 'MVS', 'random_state': 42}. Best is trial 0 with value: 1.0.\u001b[0m\n",
            "\u001b[32m[I 2022-08-26 19:33:33,493]\u001b[0m Trial 20 finished with value: 1.0 and parameters: {'iterations': 7157, 'depth': 8, 'learning_rate': 0.001253134374825714, 'objective': 'Logloss', 'colsample_bylevel': 0.08326222905135197, 'random_strength': 21, 'boosting_type': 'Plain', 'bootstrap_type': 'Bernoulli', 'random_state': 42}. Best is trial 0 with value: 1.0.\u001b[0m\n",
            "\u001b[32m[I 2022-08-26 19:34:41,404]\u001b[0m Trial 21 finished with value: 1.0 and parameters: {'iterations': 7068, 'depth': 4, 'learning_rate': 0.002450597561650384, 'objective': 'Logloss', 'colsample_bylevel': 0.030509339991675676, 'random_strength': 25, 'boosting_type': 'Plain', 'bootstrap_type': 'Bernoulli', 'random_state': 42}. Best is trial 0 with value: 1.0.\u001b[0m\n",
            "\u001b[32m[I 2022-08-26 19:35:08,309]\u001b[0m Trial 22 finished with value: 1.0 and parameters: {'iterations': 7632, 'depth': 4, 'learning_rate': 0.02041515471358677, 'objective': 'Logloss', 'colsample_bylevel': 0.05647012410400417, 'random_strength': 77, 'boosting_type': 'Plain', 'bootstrap_type': 'Bernoulli', 'random_state': 42}. Best is trial 0 with value: 1.0.\u001b[0m\n",
            "\u001b[32m[I 2022-08-26 19:36:16,004]\u001b[0m Trial 23 finished with value: 1.0 and parameters: {'iterations': 7578, 'depth': 4, 'learning_rate': 0.02068231540497038, 'objective': 'Logloss', 'colsample_bylevel': 0.05911892445100234, 'random_strength': 88, 'boosting_type': 'Plain', 'bootstrap_type': 'Bernoulli', 'random_state': 42}. Best is trial 0 with value: 1.0.\u001b[0m\n",
            "\u001b[32m[I 2022-08-26 19:36:38,076]\u001b[0m Trial 24 finished with value: 1.0 and parameters: {'iterations': 7352, 'depth': 10, 'learning_rate': 0.02721260299761444, 'objective': 'Logloss', 'colsample_bylevel': 0.08885467245019577, 'random_strength': 0, 'boosting_type': 'Plain', 'bootstrap_type': 'Bernoulli', 'random_state': 42}. Best is trial 0 with value: 1.0.\u001b[0m\n",
            "\u001b[32m[I 2022-08-26 19:37:47,130]\u001b[0m Trial 25 finished with value: 1.0 and parameters: {'iterations': 7077, 'depth': 11, 'learning_rate': 0.0010700667419400215, 'objective': 'Logloss', 'colsample_bylevel': 0.02885757814189263, 'random_strength': 6, 'boosting_type': 'Plain', 'bootstrap_type': 'Bernoulli', 'random_state': 42}. Best is trial 0 with value: 1.0.\u001b[0m\n",
            "\u001b[32m[I 2022-08-26 19:38:13,271]\u001b[0m Trial 26 finished with value: 1.0 and parameters: {'iterations': 7947, 'depth': 3, 'learning_rate': 0.012844565718162431, 'objective': 'Logloss', 'colsample_bylevel': 0.030675781819186315, 'random_strength': 32, 'boosting_type': 'Plain', 'bootstrap_type': 'Bernoulli', 'random_state': 42}. Best is trial 0 with value: 1.0.\u001b[0m\n",
            "\u001b[32m[I 2022-08-26 19:39:26,293]\u001b[0m Trial 27 finished with value: 1.0 and parameters: {'iterations': 7926, 'depth': 3, 'learning_rate': 0.014711627066628234, 'objective': 'Logloss', 'colsample_bylevel': 0.06702615864936512, 'random_strength': 87, 'boosting_type': 'Plain', 'bootstrap_type': 'Bernoulli', 'random_state': 42}. Best is trial 0 with value: 1.0.\u001b[0m\n",
            "\u001b[32m[I 2022-08-26 19:39:45,684]\u001b[0m Trial 28 finished with value: 1.0 and parameters: {'iterations': 7372, 'depth': 12, 'learning_rate': 0.033967831996764807, 'objective': 'Logloss', 'colsample_bylevel': 0.08959151595488936, 'random_strength': 0, 'boosting_type': 'Plain', 'bootstrap_type': 'Bernoulli', 'random_state': 42}. Best is trial 0 with value: 1.0.\u001b[0m\n",
            "\u001b[32m[I 2022-08-26 19:41:03,773]\u001b[0m Trial 29 finished with value: 0.9999999999999999 and parameters: {'iterations': 7355, 'depth': 12, 'learning_rate': 0.03501996372211245, 'objective': 'Logloss', 'colsample_bylevel': 0.08649839142340474, 'random_strength': 1, 'boosting_type': 'Plain', 'bootstrap_type': 'Bayesian', 'random_state': 42}. Best is trial 0 with value: 1.0.\u001b[0m\n",
            "\u001b[32m[I 2022-08-26 19:41:28,405]\u001b[0m Trial 30 finished with value: 1.0 and parameters: {'iterations': 7832, 'depth': 11, 'learning_rate': 0.009682385389103852, 'objective': 'Logloss', 'colsample_bylevel': 0.02769666962896277, 'random_strength': 7, 'boosting_type': 'Plain', 'bootstrap_type': 'Bayesian', 'random_state': 42}. Best is trial 0 with value: 1.0.\u001b[0m\n",
            "\u001b[32m[I 2022-08-26 19:42:41,992]\u001b[0m Trial 31 finished with value: 1.0 and parameters: {'iterations': 7979, 'depth': 3, 'learning_rate': 0.014167456304461005, 'objective': 'Logloss', 'colsample_bylevel': 0.06885675012568004, 'random_strength': 55, 'boosting_type': 'Plain', 'bootstrap_type': 'Bernoulli', 'random_state': 42}. Best is trial 0 with value: 1.0.\u001b[0m\n",
            "\u001b[32m[I 2022-08-26 19:43:08,717]\u001b[0m Trial 32 finished with value: 1.0 and parameters: {'iterations': 7955, 'depth': 5, 'learning_rate': 0.014365009005045786, 'objective': 'Logloss', 'colsample_bylevel': 0.07095670531456075, 'random_strength': 12, 'boosting_type': 'Plain', 'bootstrap_type': 'Bernoulli', 'random_state': 42}. Best is trial 0 with value: 1.0.\u001b[0m\n",
            "\u001b[32m[I 2022-08-26 19:44:17,393]\u001b[0m Trial 33 finished with value: 1.0 and parameters: {'iterations': 7757, 'depth': 3, 'learning_rate': 0.01311035598880833, 'objective': 'Logloss', 'colsample_bylevel': 0.07559328606791738, 'random_strength': 35, 'boosting_type': 'Plain', 'bootstrap_type': 'Bernoulli', 'random_state': 42}. Best is trial 0 with value: 1.0.\u001b[0m\n",
            "\u001b[32m[I 2022-08-26 19:44:49,213]\u001b[0m Trial 34 finished with value: 1.0 and parameters: {'iterations': 7733, 'depth': 11, 'learning_rate': 0.008646884686471555, 'objective': 'Logloss', 'colsample_bylevel': 0.04977580147716539, 'random_strength': 8, 'boosting_type': 'Plain', 'bootstrap_type': 'Bayesian', 'random_state': 42}. Best is trial 0 with value: 1.0.\u001b[0m\n",
            "\u001b[32m[I 2022-08-26 19:46:05,371]\u001b[0m Trial 35 finished with value: 1.0 and parameters: {'iterations': 7786, 'depth': 11, 'learning_rate': 0.008265064164370037, 'objective': 'Logloss', 'colsample_bylevel': 0.09296507189211715, 'random_strength': 56, 'boosting_type': 'Plain', 'bootstrap_type': 'Bayesian', 'random_state': 42}. Best is trial 0 with value: 1.0.\u001b[0m\n",
            "\u001b[32m[I 2022-08-26 19:46:44,465]\u001b[0m Trial 36 finished with value: 1.0 and parameters: {'iterations': 7806, 'depth': 5, 'learning_rate': 0.00813783720651063, 'objective': 'Logloss', 'colsample_bylevel': 0.07119310688616962, 'random_strength': 55, 'boosting_type': 'Plain', 'bootstrap_type': 'Bayesian', 'random_state': 42}. Best is trial 0 with value: 1.0.\u001b[0m\n",
            "\u001b[32m[I 2022-08-26 19:47:39,679]\u001b[0m Trial 37 finished with value: 1.0 and parameters: {'iterations': 7663, 'depth': 5, 'learning_rate': 0.015242158915763766, 'objective': 'Logloss', 'colsample_bylevel': 0.07285061397454605, 'random_strength': 37, 'boosting_type': 'Plain', 'bootstrap_type': 'Bernoulli', 'random_state': 42}. Best is trial 0 with value: 1.0.\u001b[0m\n",
            "\u001b[32m[I 2022-08-26 19:53:01,758]\u001b[0m Trial 38 finished with value: 0.9999645448169615 and parameters: {'iterations': 6812, 'depth': 9, 'learning_rate': 0.0019235767909048793, 'objective': 'Logloss', 'colsample_bylevel': 0.011635577189972136, 'random_strength': 23, 'boosting_type': 'Ordered', 'bootstrap_type': 'Bernoulli', 'random_state': 42}. Best is trial 0 with value: 1.0.\u001b[0m\n",
            "\u001b[32m[I 2022-08-26 19:53:59,440]\u001b[0m Trial 39 finished with value: 1.0 and parameters: {'iterations': 6823, 'depth': 4, 'learning_rate': 0.047756922047318635, 'objective': 'Logloss', 'colsample_bylevel': 0.0619471507770117, 'random_strength': 88, 'boosting_type': 'Ordered', 'bootstrap_type': 'Bernoulli', 'random_state': 42}. Best is trial 0 with value: 1.0.\u001b[0m\n",
            "\u001b[32m[I 2022-08-26 19:55:29,623]\u001b[0m Trial 41 finished with value: 1.0 and parameters: {'iterations': 7486, 'depth': 9, 'learning_rate': 0.0225964691650178, 'objective': 'Logloss', 'colsample_bylevel': 0.037499351622892856, 'random_strength': 91, 'boosting_type': 'Plain', 'bootstrap_type': 'Bernoulli', 'random_state': 42}. Best is trial 0 with value: 1.0.\u001b[0m\n",
            "\u001b[32m[I 2022-08-26 19:56:55,429]\u001b[0m Trial 42 finished with value: 1.0 and parameters: {'iterations': 7236, 'depth': 10, 'learning_rate': 0.025419028927704614, 'objective': 'Logloss', 'colsample_bylevel': 0.051126634123989434, 'random_strength': 75, 'boosting_type': 'Plain', 'bootstrap_type': 'Bernoulli', 'random_state': 42}. Best is trial 0 with value: 1.0.\u001b[0m\n",
            "\u001b[32m[I 2022-08-26 19:58:31,860]\u001b[0m Trial 43 finished with value: 1.0 and parameters: {'iterations': 7652, 'depth': 10, 'learning_rate': 0.028868454505563544, 'objective': 'Logloss', 'colsample_bylevel': 0.09953482380958842, 'random_strength': 81, 'boosting_type': 'Plain', 'bootstrap_type': 'Bernoulli', 'random_state': 42}. Best is trial 0 with value: 1.0.\u001b[0m\n",
            "\u001b[32m[I 2022-08-26 19:59:29,644]\u001b[0m Trial 40 finished with value: 0.9999882107149994 and parameters: {'iterations': 7024, 'depth': 4, 'learning_rate': 0.0014900804174494853, 'objective': 'Logloss', 'colsample_bylevel': 0.02053610286222403, 'random_strength': 22, 'boosting_type': 'Ordered', 'bootstrap_type': 'Bernoulli', 'random_state': 42}. Best is trial 0 with value: 1.0.\u001b[0m\n",
            "\u001b[32m[I 2022-08-26 19:59:57,392]\u001b[0m Trial 44 finished with value: 0.9999999999999999 and parameters: {'iterations': 7434, 'depth': 4, 'learning_rate': 0.0181918707565082, 'objective': 'Logloss', 'colsample_bylevel': 0.02063352629955071, 'random_strength': 18, 'boosting_type': 'Plain', 'bootstrap_type': 'Bernoulli', 'random_state': 42}. Best is trial 0 with value: 1.0.\u001b[0m\n",
            "\u001b[32m[I 2022-08-26 20:01:00,456]\u001b[0m Trial 45 finished with value: 0.9999999999999999 and parameters: {'iterations': 7420, 'depth': 10, 'learning_rate': 0.01819751417590417, 'objective': 'Logloss', 'colsample_bylevel': 0.06133857211793624, 'random_strength': 16, 'boosting_type': 'Plain', 'bootstrap_type': 'Bernoulli', 'random_state': 42}. Best is trial 0 with value: 1.0.\u001b[0m\n",
            "\u001b[32m[I 2022-08-26 20:01:23,300]\u001b[0m Trial 46 finished with value: 1.0 and parameters: {'iterations': 7249, 'depth': 7, 'learning_rate': 0.04890945014020149, 'objective': 'Logloss', 'colsample_bylevel': 0.03571623887289332, 'random_strength': 9, 'boosting_type': 'Plain', 'bootstrap_type': 'Bernoulli', 'random_state': 42}. Best is trial 0 with value: 1.0.\u001b[0m\n",
            "\u001b[32m[I 2022-08-26 20:02:18,171]\u001b[0m Trial 47 finished with value: 1.0 and parameters: {'iterations': 6431, 'depth': 3, 'learning_rate': 0.04817854899008922, 'objective': 'Logloss', 'colsample_bylevel': 0.034316697409263505, 'random_strength': 9, 'boosting_type': 'Plain', 'bootstrap_type': 'Bernoulli', 'random_state': 42}. Best is trial 0 with value: 1.0.\u001b[0m\n",
            "\u001b[32m[I 2022-08-26 20:02:55,881]\u001b[0m Trial 48 finished with value: 1.0 and parameters: {'iterations': 7880, 'depth': 11, 'learning_rate': 0.01105557348190267, 'objective': 'Logloss', 'colsample_bylevel': 0.024661476718330827, 'random_strength': 30, 'boosting_type': 'Plain', 'bootstrap_type': 'Bernoulli', 'random_state': 42}. Best is trial 0 with value: 1.0.\u001b[0m\n",
            "\u001b[32m[I 2022-08-26 20:08:44,493]\u001b[0m Trial 49 finished with value: 1.0 and parameters: {'iterations': 7262, 'depth': 7, 'learning_rate': 0.08064685129236504, 'objective': 'Logloss', 'colsample_bylevel': 0.025335363250053637, 'random_strength': 5, 'boosting_type': 'Ordered', 'bootstrap_type': 'Bernoulli', 'random_state': 42}. Best is trial 0 with value: 1.0.\u001b[0m\n",
            "\u001b[32m[I 2022-08-26 20:08:45,773]\u001b[0m Trial 50 finished with value: 1.0 and parameters: {'iterations': 6338, 'depth': 3, 'learning_rate': 0.06879970684680053, 'objective': 'Logloss', 'colsample_bylevel': 0.014013284342656852, 'random_strength': 34, 'boosting_type': 'Ordered', 'bootstrap_type': 'Bernoulli', 'random_state': 42}. Best is trial 0 with value: 1.0.\u001b[0m\n",
            "\u001b[32m[I 2022-08-26 20:10:13,392]\u001b[0m Trial 51 finished with value: 1.0 and parameters: {'iterations': 7881, 'depth': 11, 'learning_rate': 0.0069357466251383955, 'objective': 'Logloss', 'colsample_bylevel': 0.01533263065266544, 'random_strength': 31, 'boosting_type': 'Plain', 'bootstrap_type': 'Bernoulli', 'random_state': 42}. Best is trial 0 with value: 1.0.\u001b[0m\n",
            "\u001b[32m[I 2022-08-26 20:16:00,480]\u001b[0m Trial 52 finished with value: 1.0 and parameters: {'iterations': 7880, 'depth': 12, 'learning_rate': 0.07241969355944873, 'objective': 'Logloss', 'colsample_bylevel': 0.02668146590861705, 'random_strength': 4, 'boosting_type': 'Ordered', 'bootstrap_type': 'Bayesian', 'random_state': 42}. Best is trial 0 with value: 1.0.\u001b[0m\n",
            "\u001b[32m[I 2022-08-26 20:16:11,754]\u001b[0m Trial 53 finished with value: 1.0 and parameters: {'iterations': 6157, 'depth': 12, 'learning_rate': 0.07997454595872579, 'objective': 'Logloss', 'colsample_bylevel': 0.039859529265708675, 'random_strength': 42, 'boosting_type': 'Ordered', 'bootstrap_type': 'Bayesian', 'random_state': 42}. Best is trial 0 with value: 1.0.\u001b[0m\n",
            "\u001b[32m[I 2022-08-26 20:17:53,704]\u001b[0m Trial 54 finished with value: 1.0 and parameters: {'iterations': 7992, 'depth': 12, 'learning_rate': 0.005647675045890903, 'objective': 'Logloss', 'colsample_bylevel': 0.06630756186303094, 'random_strength': 41, 'boosting_type': 'Plain', 'bootstrap_type': 'Bayesian', 'random_state': 42}. Best is trial 0 with value: 1.0.\u001b[0m\n",
            "\u001b[32m[I 2022-08-26 20:23:33,112]\u001b[0m Trial 55 finished with value: 0.9999999999999999 and parameters: {'iterations': 7977, 'depth': 12, 'learning_rate': 0.01020038533632527, 'objective': 'Logloss', 'colsample_bylevel': 0.0656562000978309, 'random_strength': 3, 'boosting_type': 'Ordered', 'bootstrap_type': 'Bayesian', 'random_state': 42}. Best is trial 0 with value: 1.0.\u001b[0m\n",
            "\u001b[32m[I 2022-08-26 20:23:44,476]\u001b[0m Trial 56 finished with value: 0.9999999999999999 and parameters: {'iterations': 6049, 'depth': 6, 'learning_rate': 0.03211130200982307, 'objective': 'Logloss', 'colsample_bylevel': 0.08464190375355579, 'random_strength': 50, 'boosting_type': 'Ordered', 'bootstrap_type': 'Bayesian', 'random_state': 42}. Best is trial 0 with value: 1.0.\u001b[0m\n",
            "\u001b[32m[I 2022-08-26 20:25:22,359]\u001b[0m Trial 57 finished with value: 1.0 and parameters: {'iterations': 7982, 'depth': 6, 'learning_rate': 0.006010826895422527, 'objective': 'Logloss', 'colsample_bylevel': 0.07870294931799816, 'random_strength': 12, 'boosting_type': 'Plain', 'bootstrap_type': 'Bayesian', 'random_state': 42}. Best is trial 0 with value: 1.0.\u001b[0m\n",
            "\u001b[32m[I 2022-08-26 20:25:42,930]\u001b[0m Trial 58 finished with value: 1.0 and parameters: {'iterations': 7808, 'depth': 3, 'learning_rate': 0.013707615572694652, 'objective': 'Logloss', 'colsample_bylevel': 0.07849013677813055, 'random_strength': 13, 'boosting_type': 'Plain', 'bootstrap_type': 'MVS', 'random_state': 42}. Best is trial 0 with value: 1.0.\u001b[0m\n",
            "\u001b[32m[I 2022-08-26 20:27:15,737]\u001b[0m Trial 59 finished with value: 1.0 and parameters: {'iterations': 7804, 'depth': 3, 'learning_rate': 0.01359446262044005, 'objective': 'Logloss', 'colsample_bylevel': 0.07030719615555632, 'random_strength': 26, 'boosting_type': 'Plain', 'bootstrap_type': 'MVS', 'random_state': 42}. Best is trial 0 with value: 1.0.\u001b[0m\n",
            "\u001b[32m[I 2022-08-26 20:27:32,841]\u001b[0m Trial 60 finished with value: 1.0 and parameters: {'iterations': 7702, 'depth': 6, 'learning_rate': 0.004400697080223799, 'objective': 'Logloss', 'colsample_bylevel': 0.07983840070800852, 'random_strength': 12, 'boosting_type': 'Plain', 'bootstrap_type': 'Bayesian', 'random_state': 42}. Best is trial 0 with value: 1.0.\u001b[0m\n",
            "\u001b[32m[I 2022-08-26 20:29:10,937]\u001b[0m Trial 61 finished with value: 1.0 and parameters: {'iterations': 7707, 'depth': 5, 'learning_rate': 0.00448970697072824, 'objective': 'Logloss', 'colsample_bylevel': 0.07650778587425532, 'random_strength': 14, 'boosting_type': 'Plain', 'bootstrap_type': 'MVS', 'random_state': 42}. Best is trial 0 with value: 1.0.\u001b[0m\n",
            "\u001b[32m[I 2022-08-26 20:29:33,036]\u001b[0m Trial 62 finished with value: 1.0 and parameters: {'iterations': 7747, 'depth': 5, 'learning_rate': 0.008368589118191534, 'objective': 'Logloss', 'colsample_bylevel': 0.09184348354569148, 'random_strength': 59, 'boosting_type': 'Plain', 'bootstrap_type': 'MVS', 'random_state': 42}. Best is trial 0 with value: 1.0.\u001b[0m\n",
            "\u001b[32m[I 2022-08-26 20:31:02,354]\u001b[0m Trial 63 finished with value: 1.0 and parameters: {'iterations': 7742, 'depth': 6, 'learning_rate': 0.008313222503473345, 'objective': 'Logloss', 'colsample_bylevel': 0.09570105947236149, 'random_strength': 58, 'boosting_type': 'Plain', 'bootstrap_type': 'Bayesian', 'random_state': 42}. Best is trial 0 with value: 1.0.\u001b[0m\n",
            "\u001b[32m[I 2022-08-26 20:31:28,980]\u001b[0m Trial 64 finished with value: 1.0 and parameters: {'iterations': 7773, 'depth': 5, 'learning_rate': 0.008003965804901187, 'objective': 'Logloss', 'colsample_bylevel': 0.09347784104676371, 'random_strength': 69, 'boosting_type': 'Plain', 'bootstrap_type': 'Bayesian', 'random_state': 42}. Best is trial 0 with value: 1.0.\u001b[0m\n",
            "\u001b[32m[I 2022-08-26 20:32:52,570]\u001b[0m Trial 65 finished with value: 1.0 and parameters: {'iterations': 7771, 'depth': 5, 'learning_rate': 0.008305578972682807, 'objective': 'Logloss', 'colsample_bylevel': 0.09183641056548313, 'random_strength': 66, 'boosting_type': 'Plain', 'bootstrap_type': 'Bayesian', 'random_state': 42}. Best is trial 0 with value: 1.0.\u001b[0m\n",
            "\u001b[32m[I 2022-08-26 20:33:19,501]\u001b[0m Trial 66 finished with value: 1.0 and parameters: {'iterations': 7634, 'depth': 6, 'learning_rate': 0.007161739575710896, 'objective': 'Logloss', 'colsample_bylevel': 0.07378859100055146, 'random_strength': 37, 'boosting_type': 'Plain', 'bootstrap_type': 'Bayesian', 'random_state': 42}. Best is trial 0 with value: 1.0.\u001b[0m\n",
            "\u001b[32m[I 2022-08-26 20:34:33,566]\u001b[0m Trial 67 finished with value: 1.0 and parameters: {'iterations': 7621, 'depth': 5, 'learning_rate': 0.006737579393629791, 'objective': 'Logloss', 'colsample_bylevel': 0.048705930393689166, 'random_strength': 37, 'boosting_type': 'Plain', 'bootstrap_type': 'Bayesian', 'random_state': 42}. Best is trial 0 with value: 1.0.\u001b[0m\n",
            "\u001b[32m[I 2022-08-26 20:35:07,738]\u001b[0m Trial 68 finished with value: 1.0 and parameters: {'iterations': 7518, 'depth': 5, 'learning_rate': 0.003443741308651508, 'objective': 'Logloss', 'colsample_bylevel': 0.04960962718534244, 'random_strength': 51, 'boosting_type': 'Plain', 'bootstrap_type': 'Bayesian', 'random_state': 42}. Best is trial 0 with value: 1.0.\u001b[0m\n",
            "\u001b[32m[I 2022-08-26 20:40:56,754]\u001b[0m Trial 69 finished with value: 1.0 and parameters: {'iterations': 6810, 'depth': 7, 'learning_rate': 0.011571785486089888, 'objective': 'Logloss', 'colsample_bylevel': 0.062450074723470146, 'random_strength': 46, 'boosting_type': 'Ordered', 'bootstrap_type': 'Bayesian', 'random_state': 42}. Best is trial 0 with value: 1.0.\u001b[0m\n",
            "\u001b[32m[I 2022-08-26 20:41:49,345]\u001b[0m Trial 70 finished with value: 1.0 and parameters: {'iterations': 6833, 'depth': 4, 'learning_rate': 0.016689853907577573, 'objective': 'Logloss', 'colsample_bylevel': 0.07331982913204917, 'random_strength': 44, 'boosting_type': 'Ordered', 'bootstrap_type': 'Bayesian', 'random_state': 42}. Best is trial 0 with value: 1.0.\u001b[0m\n",
            "\u001b[32m[I 2022-08-26 20:48:04,133]\u001b[0m Trial 72 finished with value: 1.0 and parameters: {'iterations': 6786, 'depth': 9, 'learning_rate': 0.023783658933178773, 'objective': 'Logloss', 'colsample_bylevel': 0.06201854569046833, 'random_strength': 92, 'boosting_type': 'Ordered', 'bootstrap_type': 'Bernoulli', 'random_state': 42}. Best is trial 0 with value: 1.0.\u001b[0m\n",
            "\u001b[32m[I 2022-08-26 20:48:24,419]\u001b[0m Trial 71 finished with value: 1.0 and parameters: {'iterations': 7559, 'depth': 9, 'learning_rate': 0.0034157031270587285, 'objective': 'Logloss', 'colsample_bylevel': 0.041628080490811965, 'random_strength': 95, 'boosting_type': 'Ordered', 'bootstrap_type': 'Bayesian', 'random_state': 42}. Best is trial 0 with value: 1.0.\u001b[0m\n",
            "\u001b[32m[I 2022-08-26 20:54:23,107]\u001b[0m Trial 73 finished with value: 1.0 and parameters: {'iterations': 7173, 'depth': 10, 'learning_rate': 0.029910829926679885, 'objective': 'Logloss', 'colsample_bylevel': 0.07265686623216953, 'random_strength': 80, 'boosting_type': 'Ordered', 'bootstrap_type': 'Bernoulli', 'random_state': 42}. Best is trial 0 with value: 1.0.\u001b[0m\n",
            "\u001b[32m[I 2022-08-26 20:55:01,782]\u001b[0m Trial 74 finished with value: 1.0 and parameters: {'iterations': 7172, 'depth': 10, 'learning_rate': 0.027126676303409432, 'objective': 'Logloss', 'colsample_bylevel': 0.09792247554780605, 'random_strength': 100, 'boosting_type': 'Ordered', 'bootstrap_type': 'Bernoulli', 'random_state': 42}. Best is trial 0 with value: 1.0.\u001b[0m\n",
            "\u001b[32m[I 2022-08-26 21:00:46,664]\u001b[0m Trial 75 finished with value: 1.0 and parameters: {'iterations': 7272, 'depth': 9, 'learning_rate': 0.024414061150437222, 'objective': 'Logloss', 'colsample_bylevel': 0.05400310710223759, 'random_strength': 93, 'boosting_type': 'Ordered', 'bootstrap_type': 'Bernoulli', 'random_state': 42}. Best is trial 0 with value: 1.0.\u001b[0m\n",
            "\u001b[32m[I 2022-08-26 21:01:30,513]\u001b[0m Trial 76 finished with value: 1.0 and parameters: {'iterations': 7240, 'depth': 10, 'learning_rate': 0.046790871981870576, 'objective': 'Logloss', 'colsample_bylevel': 0.05328067290109023, 'random_strength': 80, 'boosting_type': 'Ordered', 'bootstrap_type': 'Bernoulli', 'random_state': 42}. Best is trial 0 with value: 1.0.\u001b[0m\n",
            "\u001b[32m[I 2022-08-26 21:02:04,279]\u001b[0m Trial 77 finished with value: 1.0 and parameters: {'iterations': 6398, 'depth': 10, 'learning_rate': 0.047200435357569674, 'objective': 'Logloss', 'colsample_bylevel': 0.0998233412435883, 'random_strength': 100, 'boosting_type': 'Plain', 'bootstrap_type': 'Bernoulli', 'random_state': 42}. Best is trial 0 with value: 1.0.\u001b[0m\n",
            "\u001b[32m[I 2022-08-26 21:07:07,997]\u001b[0m Trial 78 finished with value: 0.9999999999999999 and parameters: {'iterations': 6172, 'depth': 12, 'learning_rate': 0.09924855153841917, 'objective': 'Logloss', 'colsample_bylevel': 0.013471823216251028, 'random_strength': 18, 'boosting_type': 'Ordered', 'bootstrap_type': 'Bayesian', 'random_state': 42}. Best is trial 0 with value: 1.0.\u001b[0m\n",
            "\u001b[32m[I 2022-08-26 21:07:55,557]\u001b[0m Trial 79 finished with value: 1.0 and parameters: {'iterations': 6194, 'depth': 12, 'learning_rate': 0.09276610197886345, 'objective': 'Logloss', 'colsample_bylevel': 0.013285074365702525, 'random_strength': 42, 'boosting_type': 'Ordered', 'bootstrap_type': 'Bayesian', 'random_state': 42}. Best is trial 0 with value: 1.0.\u001b[0m\n",
            "\u001b[32m[I 2022-08-26 21:10:00,347]\u001b[0m Trial 81 finished with value: 1.0 and parameters: {'iterations': 7867, 'depth': 12, 'learning_rate': 0.005930269982505928, 'objective': 'Logloss', 'colsample_bylevel': 0.07925504000185465, 'random_strength': 25, 'boosting_type': 'Plain', 'bootstrap_type': 'MVS', 'random_state': 42}. Best is trial 0 with value: 1.0.\u001b[0m\n",
            "\u001b[32m[I 2022-08-26 21:14:17,984]\u001b[0m Trial 80 finished with value: 0.9999999999999999 and parameters: {'iterations': 7866, 'depth': 12, 'learning_rate': 0.07246889235632709, 'objective': 'Logloss', 'colsample_bylevel': 0.01414312084421613, 'random_strength': 34, 'boosting_type': 'Ordered', 'bootstrap_type': 'MVS', 'random_state': 42}. Best is trial 0 with value: 1.0.\u001b[0m\n",
            "\u001b[32m[I 2022-08-26 21:16:00,011]\u001b[0m Trial 82 finished with value: 0.9999999999999999 and parameters: {'iterations': 6266, 'depth': 8, 'learning_rate': 0.0798987492842839, 'objective': 'Logloss', 'colsample_bylevel': 0.01642194103619053, 'random_strength': 6, 'boosting_type': 'Ordered', 'bootstrap_type': 'MVS', 'random_state': 42}. Best is trial 0 with value: 1.0.\u001b[0m\n",
            "\u001b[32m[I 2022-08-26 21:20:17,424]\u001b[0m Trial 83 finished with value: 1.0 and parameters: {'iterations': 6285, 'depth': 3, 'learning_rate': 0.05746118494012346, 'objective': 'Logloss', 'colsample_bylevel': 0.015478455420228934, 'random_strength': 27, 'boosting_type': 'Ordered', 'bootstrap_type': 'MVS', 'random_state': 42}. Best is trial 0 with value: 1.0.\u001b[0m\n",
            "\u001b[32m[I 2022-08-26 21:22:24,473]\u001b[0m Trial 85 finished with value: 1.0 and parameters: {'iterations': 8000, 'depth': 11, 'learning_rate': 0.0050506171343512206, 'objective': 'Logloss', 'colsample_bylevel': 0.08050628607474859, 'random_strength': 19, 'boosting_type': 'Plain', 'bootstrap_type': 'MVS', 'random_state': 42}. Best is trial 0 with value: 1.0.\u001b[0m\n",
            "\u001b[32m[I 2022-08-26 21:23:29,021]\u001b[0m Trial 84 finished with value: 1.0 and parameters: {'iterations': 7988, 'depth': 11, 'learning_rate': 0.061762339094556015, 'objective': 'Logloss', 'colsample_bylevel': 0.08703720554569103, 'random_strength': 25, 'boosting_type': 'Ordered', 'bootstrap_type': 'MVS', 'random_state': 42}. Best is trial 0 with value: 1.0.\u001b[0m\n",
            "\u001b[32m[I 2022-08-26 21:24:15,251]\u001b[0m Trial 86 finished with value: 1.0 and parameters: {'iterations': 7922, 'depth': 12, 'learning_rate': 0.004048173566662122, 'objective': 'Logloss', 'colsample_bylevel': 0.0854055965835023, 'random_strength': 12, 'boosting_type': 'Plain', 'bootstrap_type': 'Bayesian', 'random_state': 42}. Best is trial 0 with value: 1.0.\u001b[0m\n",
            "\u001b[32m[I 2022-08-26 21:25:15,371]\u001b[0m Trial 87 finished with value: 1.0 and parameters: {'iterations': 7832, 'depth': 12, 'learning_rate': 0.004408699197669376, 'objective': 'Logloss', 'colsample_bylevel': 0.0831490791100156, 'random_strength': 11, 'boosting_type': 'Plain', 'bootstrap_type': 'Bayesian', 'random_state': 42}. Best is trial 0 with value: 1.0.\u001b[0m\n",
            "\u001b[32m[I 2022-08-26 21:26:14,621]\u001b[0m Trial 88 finished with value: 1.0 and parameters: {'iterations': 7703, 'depth': 6, 'learning_rate': 0.00401273887555848, 'objective': 'Logloss', 'colsample_bylevel': 0.07718244312027585, 'random_strength': 14, 'boosting_type': 'Plain', 'bootstrap_type': 'MVS', 'random_state': 42}. Best is trial 0 with value: 1.0.\u001b[0m\n",
            "\u001b[32m[I 2022-08-26 21:27:13,311]\u001b[0m Trial 89 finished with value: 1.0 and parameters: {'iterations': 7693, 'depth': 6, 'learning_rate': 0.0057163816304871586, 'objective': 'Logloss', 'colsample_bylevel': 0.07722971722792031, 'random_strength': 60, 'boosting_type': 'Plain', 'bootstrap_type': 'MVS', 'random_state': 42}. Best is trial 0 with value: 1.0.\u001b[0m\n",
            "\u001b[32m[I 2022-08-26 21:28:17,615]\u001b[0m Trial 90 finished with value: 1.0 and parameters: {'iterations': 7820, 'depth': 6, 'learning_rate': 0.0027159293960475578, 'objective': 'Logloss', 'colsample_bylevel': 0.077718350154445, 'random_strength': 40, 'boosting_type': 'Plain', 'bootstrap_type': 'MVS', 'random_state': 42}. Best is trial 0 with value: 1.0.\u001b[0m\n",
            "\u001b[32m[I 2022-08-26 21:29:17,132]\u001b[0m Trial 91 finished with value: 1.0 and parameters: {'iterations': 7819, 'depth': 6, 'learning_rate': 0.0026209331791081656, 'objective': 'Logloss', 'colsample_bylevel': 0.07920004220883214, 'random_strength': 59, 'boosting_type': 'Plain', 'bootstrap_type': 'MVS', 'random_state': 42}. Best is trial 0 with value: 1.0.\u001b[0m\n",
            "\u001b[32m[I 2022-08-26 21:30:14,222]\u001b[0m Trial 92 finished with value: 1.0 and parameters: {'iterations': 7724, 'depth': 6, 'learning_rate': 0.0046775260013224304, 'objective': 'Logloss', 'colsample_bylevel': 0.06846464015327784, 'random_strength': 16, 'boosting_type': 'Plain', 'bootstrap_type': 'MVS', 'random_state': 42}. Best is trial 0 with value: 1.0.\u001b[0m\n",
            "\u001b[32m[I 2022-08-26 21:31:17,759]\u001b[0m Trial 93 finished with value: 1.0 and parameters: {'iterations': 7741, 'depth': 5, 'learning_rate': 0.006325945776453857, 'objective': 'Logloss', 'colsample_bylevel': 0.0947628022942945, 'random_strength': 68, 'boosting_type': 'Plain', 'bootstrap_type': 'MVS', 'random_state': 42}. Best is trial 0 with value: 1.0.\u001b[0m\n",
            "\u001b[32m[I 2022-08-26 21:32:10,630]\u001b[0m Trial 94 finished with value: 1.0 and parameters: {'iterations': 7595, 'depth': 5, 'learning_rate': 0.007881057852795163, 'objective': 'Logloss', 'colsample_bylevel': 0.09277850901397977, 'random_strength': 72, 'boosting_type': 'Plain', 'bootstrap_type': 'MVS', 'random_state': 42}. Best is trial 0 with value: 1.0.\u001b[0m\n",
            "\u001b[32m[I 2022-08-26 21:33:10,226]\u001b[0m Trial 95 finished with value: 1.0 and parameters: {'iterations': 7605, 'depth': 5, 'learning_rate': 0.007149212162642333, 'objective': 'Logloss', 'colsample_bylevel': 0.09317336958740587, 'random_strength': 68, 'boosting_type': 'Plain', 'bootstrap_type': 'Bayesian', 'random_state': 42}. Best is trial 0 with value: 1.0.\u001b[0m\n",
            "\u001b[32m[I 2022-08-26 21:34:01,141]\u001b[0m Trial 96 finished with value: 1.0 and parameters: {'iterations': 7513, 'depth': 5, 'learning_rate': 0.007197375561357809, 'objective': 'Logloss', 'colsample_bylevel': 0.09136453871628518, 'random_strength': 52, 'boosting_type': 'Plain', 'bootstrap_type': 'Bayesian', 'random_state': 42}. Best is trial 0 with value: 1.0.\u001b[0m\n",
            "\u001b[32m[I 2022-08-26 21:34:59,774]\u001b[0m Trial 97 finished with value: 1.0 and parameters: {'iterations': 7509, 'depth': 5, 'learning_rate': 0.009072168450938584, 'objective': 'Logloss', 'colsample_bylevel': 0.09089824659868677, 'random_strength': 52, 'boosting_type': 'Plain', 'bootstrap_type': 'Bayesian', 'random_state': 42}. Best is trial 0 with value: 1.0.\u001b[0m\n",
            "\u001b[32m[I 2022-08-26 21:35:54,038]\u001b[0m Trial 98 finished with value: 1.0 and parameters: {'iterations': 7654, 'depth': 5, 'learning_rate': 0.00936942194795571, 'objective': 'Logloss', 'colsample_bylevel': 0.09671325008032104, 'random_strength': 66, 'boosting_type': 'Plain', 'bootstrap_type': 'Bayesian', 'random_state': 42}. Best is trial 0 with value: 1.0.\u001b[0m\n",
            "\u001b[32m[I 2022-08-26 21:36:25,155]\u001b[0m Trial 99 finished with value: 1.0 and parameters: {'iterations': 7639, 'depth': 5, 'learning_rate': 0.003541684701383204, 'objective': 'Logloss', 'colsample_bylevel': 0.08826839089788716, 'random_strength': 65, 'boosting_type': 'Plain', 'bootstrap_type': 'Bayesian', 'random_state': 42}. Best is trial 0 with value: 1.0.\u001b[0m\n"
          ]
        },
        {
          "output_type": "display_data",
          "data": {
            "text/plain": [
              "<IPython.core.display.Markdown object>"
            ],
            "text/markdown": "**BEST TRIAL**"
          },
          "metadata": {}
        },
        {
          "output_type": "stream",
          "name": "stdout",
          "text": [
            "Best Score:  1.0\n"
          ]
        },
        {
          "output_type": "display_data",
          "data": {
            "text/plain": [
              "<IPython.core.display.Markdown object>"
            ],
            "text/markdown": "**CatBoost Tuned Hyperparameters**"
          },
          "metadata": {}
        },
        {
          "output_type": "stream",
          "name": "stdout",
          "text": [
            "{'boosting_type': 'Plain',\n",
            " 'bootstrap_type': 'Bernoulli',\n",
            " 'colsample_bylevel': 0.0833093142313227,\n",
            " 'depth': 6,\n",
            " 'iterations': 7362,\n",
            " 'learning_rate': 0.01636489110203043,\n",
            " 'objective': 'Logloss',\n",
            " 'random_state': 42,\n",
            " 'random_strength': 19}\n",
            "CPU times: user 4h 59min 24s, sys: 9min, total: 5h 8min 24s\n",
            "Wall time: 2h 38min 28s\n"
          ]
        }
      ],
      "source": [
        "%%time\n",
        "n_trials = int(100)\n",
        "\n",
        "# set logging level\n",
        "# optuna.logging.set_verbosity(optuna_verbosity)\n",
        "\n",
        "study = optuna.create_study(direction = \"maximize\", sampler = optuna.samplers.TPESampler(seed=int(SEED)))\n",
        "study.optimize(objective, n_trials = n_trials, n_jobs = multiprocessing.cpu_count())\n",
        "\n",
        "printmd('**BEST TRIAL**')\n",
        "print(\"Best Score: \", study.best_value)\n",
        "printmd('**CatBoost Tuned Hyperparameters**')\n",
        "pprint.pprint(study.best_trial.params)"
      ]
    },
    {
      "cell_type": "code",
      "execution_count": 24,
      "id": "a4091cf3",
      "metadata": {
        "execution": {
          "iopub.execute_input": "2022-08-11T18:24:02.153870Z",
          "iopub.status.busy": "2022-08-11T18:24:02.150068Z",
          "iopub.status.idle": "2022-08-11T18:24:07.055440Z",
          "shell.execute_reply": "2022-08-11T18:24:07.055880Z",
          "shell.execute_reply.started": "2022-04-25T18:35:34.29975Z"
        },
        "id": "a4091cf3",
        "outputId": "a39c2c94-7f41-45e8-c2e7-3201530ecb85",
        "papermill": {
          "duration": 5.084,
          "end_time": "2022-08-11T18:24:07.056032",
          "exception": false,
          "start_time": "2022-08-11T18:24:01.972032",
          "status": "completed"
        },
        "tags": [],
        "colab": {
          "base_uri": "https://localhost:8080/",
          "height": 380
        }
      },
      "outputs": [
        {
          "output_type": "error",
          "ename": "ValueError",
          "evalue": "ignored",
          "traceback": [
            "\u001b[0;31m---------------------------------------------------------------------------\u001b[0m",
            "\u001b[0;31mValueError\u001b[0m                                Traceback (most recent call last)",
            "\u001b[0;32m<ipython-input-24-a3bc6292121f>\u001b[0m in \u001b[0;36m<module>\u001b[0;34m\u001b[0m\n\u001b[1;32m      1\u001b[0m \u001b[0;31m# Save\u001b[0m\u001b[0;34m\u001b[0m\u001b[0;34m\u001b[0m\u001b[0;34m\u001b[0m\u001b[0m\n\u001b[0;32m----> 2\u001b[0;31m \u001b[0mpickle\u001b[0m\u001b[0;34m.\u001b[0m\u001b[0mdump\u001b[0m\u001b[0;34m(\u001b[0m\u001b[0mstudy\u001b[0m\u001b[0;34m.\u001b[0m\u001b[0mbest_trial\u001b[0m\u001b[0;34m.\u001b[0m\u001b[0mparams\u001b[0m\u001b[0;34m,\u001b[0m \u001b[0mopen\u001b[0m\u001b[0;34m(\u001b[0m\u001b[0;34m'CatBoost_Hyperparameter.pickle'\u001b[0m\u001b[0;34m,\u001b[0m \u001b[0;34m'wb'\u001b[0m\u001b[0;34m)\u001b[0m\u001b[0;34m)\u001b[0m\u001b[0;34m\u001b[0m\u001b[0;34m\u001b[0m\u001b[0m\n\u001b[0m\u001b[1;32m      3\u001b[0m \u001b[0mprint\u001b[0m\u001b[0;34m(\u001b[0m\u001b[0;34m\"Best Score: \"\u001b[0m\u001b[0;34m,\u001b[0m \u001b[0mstudy\u001b[0m\u001b[0;34m.\u001b[0m\u001b[0mbest_value\u001b[0m\u001b[0;34m)\u001b[0m\u001b[0;34m\u001b[0m\u001b[0;34m\u001b[0m\u001b[0m\n\u001b[1;32m      4\u001b[0m \u001b[0;34m\u001b[0m\u001b[0m\n\u001b[1;32m      5\u001b[0m \u001b[0mprintmd\u001b[0m\u001b[0;34m(\u001b[0m\u001b[0;34m'**CatBoost Tuned Hyperparameters**'\u001b[0m\u001b[0;34m)\u001b[0m\u001b[0;34m\u001b[0m\u001b[0;34m\u001b[0m\u001b[0m\n",
            "\u001b[0;32m/usr/local/lib/python3.7/dist-packages/optuna/study/study.py\u001b[0m in \u001b[0;36mbest_trial\u001b[0;34m(self)\u001b[0m\n\u001b[1;32m     95\u001b[0m             )\n\u001b[1;32m     96\u001b[0m \u001b[0;34m\u001b[0m\u001b[0m\n\u001b[0;32m---> 97\u001b[0;31m         \u001b[0;32mreturn\u001b[0m \u001b[0mcopy\u001b[0m\u001b[0;34m.\u001b[0m\u001b[0mdeepcopy\u001b[0m\u001b[0;34m(\u001b[0m\u001b[0mself\u001b[0m\u001b[0;34m.\u001b[0m\u001b[0m_storage\u001b[0m\u001b[0;34m.\u001b[0m\u001b[0mget_best_trial\u001b[0m\u001b[0;34m(\u001b[0m\u001b[0mself\u001b[0m\u001b[0;34m.\u001b[0m\u001b[0m_study_id\u001b[0m\u001b[0;34m)\u001b[0m\u001b[0;34m)\u001b[0m\u001b[0;34m\u001b[0m\u001b[0;34m\u001b[0m\u001b[0m\n\u001b[0m\u001b[1;32m     98\u001b[0m \u001b[0;34m\u001b[0m\u001b[0m\n\u001b[1;32m     99\u001b[0m     \u001b[0;34m@\u001b[0m\u001b[0mproperty\u001b[0m\u001b[0;34m\u001b[0m\u001b[0;34m\u001b[0m\u001b[0m\n",
            "\u001b[0;32m/usr/local/lib/python3.7/dist-packages/optuna/storages/_in_memory.py\u001b[0m in \u001b[0;36mget_best_trial\u001b[0;34m(self, study_id)\u001b[0m\n\u001b[1;32m    309\u001b[0m             \u001b[0mbest_trial_id\u001b[0m \u001b[0;34m=\u001b[0m \u001b[0mself\u001b[0m\u001b[0;34m.\u001b[0m\u001b[0m_studies\u001b[0m\u001b[0;34m[\u001b[0m\u001b[0mstudy_id\u001b[0m\u001b[0;34m]\u001b[0m\u001b[0;34m.\u001b[0m\u001b[0mbest_trial_id\u001b[0m\u001b[0;34m\u001b[0m\u001b[0;34m\u001b[0m\u001b[0m\n\u001b[1;32m    310\u001b[0m             \u001b[0;32mif\u001b[0m \u001b[0mbest_trial_id\u001b[0m \u001b[0;32mis\u001b[0m \u001b[0;32mNone\u001b[0m\u001b[0;34m:\u001b[0m\u001b[0;34m\u001b[0m\u001b[0;34m\u001b[0m\u001b[0m\n\u001b[0;32m--> 311\u001b[0;31m                 \u001b[0;32mraise\u001b[0m \u001b[0mValueError\u001b[0m\u001b[0;34m(\u001b[0m\u001b[0;34m\"No trials are completed yet.\"\u001b[0m\u001b[0;34m)\u001b[0m\u001b[0;34m\u001b[0m\u001b[0;34m\u001b[0m\u001b[0m\n\u001b[0m\u001b[1;32m    312\u001b[0m             \u001b[0;32melif\u001b[0m \u001b[0mlen\u001b[0m\u001b[0;34m(\u001b[0m\u001b[0mself\u001b[0m\u001b[0;34m.\u001b[0m\u001b[0m_studies\u001b[0m\u001b[0;34m[\u001b[0m\u001b[0mstudy_id\u001b[0m\u001b[0;34m]\u001b[0m\u001b[0;34m.\u001b[0m\u001b[0mdirections\u001b[0m\u001b[0;34m)\u001b[0m \u001b[0;34m>\u001b[0m \u001b[0;36m1\u001b[0m\u001b[0;34m:\u001b[0m\u001b[0;34m\u001b[0m\u001b[0;34m\u001b[0m\u001b[0m\n\u001b[1;32m    313\u001b[0m                 raise ValueError(\n",
            "\u001b[0;31mValueError\u001b[0m: No trials are completed yet."
          ]
        }
      ],
      "source": [
        "# Save\n",
        "pickle.dump(study.best_trial.params, open('CatBoost_Hyperparameter.pickle', 'wb'))\n",
        "print(\"Best Score: \", study.best_value)\n",
        "\n",
        "printmd('**CatBoost Tuned Hyperparameters**')\n",
        "pprint.pprint(study.best_trial.params)\n",
        "\n",
        "# history\n",
        "display(optuna.visualization.plot_optimization_history(study))\n",
        "\n",
        "# Importance\n",
        "display(plot_param_importances(study))"
      ]
    },
    {
      "cell_type": "markdown",
      "id": "bb988190",
      "metadata": {
        "id": "bb988190",
        "papermill": {
          "duration": 0.101478,
          "end_time": "2022-08-11T18:24:07.258373",
          "exception": false,
          "start_time": "2022-08-11T18:24:07.156895",
          "status": "completed"
        },
        "tags": []
      },
      "source": [
        "<a id='5.3'></a>\n",
        "## 5.3 XGBoost"
      ]
    },
    {
      "cell_type": "markdown",
      "id": "2db80a62",
      "metadata": {
        "id": "2db80a62",
        "papermill": {
          "duration": 0.102554,
          "end_time": "2022-08-11T18:24:07.461467",
          "exception": false,
          "start_time": "2022-08-11T18:24:07.358913",
          "status": "completed"
        },
        "tags": []
      },
      "source": [
        "<a id='5.3.1'></a>\n",
        "### 5.3.1 Training"
      ]
    },
    {
      "cell_type": "code",
      "execution_count": null,
      "id": "73cf67be",
      "metadata": {
        "execution": {
          "iopub.execute_input": "2022-08-11T18:24:07.669601Z",
          "iopub.status.busy": "2022-08-11T18:24:07.668785Z",
          "iopub.status.idle": "2022-08-11T18:24:37.209392Z",
          "shell.execute_reply": "2022-08-11T18:24:37.209830Z",
          "shell.execute_reply.started": "2022-04-25T18:35:40.926826Z"
        },
        "id": "73cf67be",
        "papermill": {
          "duration": 29.648947,
          "end_time": "2022-08-11T18:24:37.209986",
          "exception": false,
          "start_time": "2022-08-11T18:24:07.561039",
          "status": "completed"
        },
        "tags": []
      },
      "outputs": [],
      "source": [
        "%%time\n",
        "fold_num = 10\n",
        "\n",
        "\n",
        "# https://stackoverflow.com/questions/51022822/subsample-colsample-bytree-colsample-bylevel-in-xgbclassifier-python-3-x\n",
        "\n",
        "xgb_params = {'colsample_bytree': 0.2645340949128848,\n",
        "#'eval_metric': 'auc',\n",
        "'tree_method': 'gpu_hist',\n",
        "'gpu_id': 0,\n",
        "'predictor': 'gpu_predictor',\n",
        "'gamma': 0,\n",
        "'learning_rate': 0.001851851953410451,\n",
        "'max_depth': 3,\n",
        "'n_estimators': 6000,\n",
        "'random_state': SEED,\n",
        "'reg_lambda': 0.1,\n",
        "'subsample': 0.6905005604726816,\n",
        "'use_label_encoder': False }\n",
        "\n",
        "\n",
        "xgb = XGBClassifier(**xgb_params)\n",
        "\n",
        "train_model(xgb, 'xgb', X, y, X_test, fold_num)"
      ]
    },
    {
      "cell_type": "markdown",
      "id": "e9bd8c9a",
      "metadata": {
        "id": "e9bd8c9a",
        "papermill": {
          "duration": 0.103457,
          "end_time": "2022-08-11T18:24:37.418536",
          "exception": false,
          "start_time": "2022-08-11T18:24:37.315079",
          "status": "completed"
        },
        "tags": []
      },
      "source": [
        "<a id='5.3.2'></a>\n",
        "### 5.3.2 Optuna Tuning"
      ]
    },
    {
      "cell_type": "code",
      "execution_count": null,
      "id": "125e05b6",
      "metadata": {
        "execution": {
          "iopub.execute_input": "2022-08-11T18:24:37.640819Z",
          "iopub.status.busy": "2022-08-11T18:24:37.640157Z",
          "iopub.status.idle": "2022-08-11T18:24:37.643420Z",
          "shell.execute_reply": "2022-08-11T18:24:37.643959Z",
          "shell.execute_reply.started": "2022-04-25T18:36:11.323169Z"
        },
        "id": "125e05b6",
        "papermill": {
          "duration": 0.118176,
          "end_time": "2022-08-11T18:24:37.644110",
          "exception": false,
          "start_time": "2022-08-11T18:24:37.525934",
          "status": "completed"
        },
        "tags": []
      },
      "outputs": [],
      "source": [
        "%%time\n",
        "def objective(trial):\n",
        "    X_train, X_test, y_train, y_test = train_test_split(X, y, test_size=0.25, random_state=int(SEED), shuffle=True, stratify=y)\n",
        "\n",
        "    params  = {\n",
        "          'n_estimators': trial.suggest_categorical('n_estimators',[10000]),  \n",
        "          'learning_rate': trial.suggest_float('learning_rate',1e-3,5e-1,log=True),\n",
        "          'max_depth': trial.suggest_int('max_depth',3,12),\n",
        "          'colsample_bytree': trial.suggest_float('colsample_bytree',0.2,0.99,log=True), \n",
        "          'subsample': trial.suggest_float('subsample',0.2,0.99,log=True),\n",
        "          'eval_metric': trial.suggest_categorical('eval_metric',['auc']),\n",
        "          'use_label_encoder':trial.suggest_categorical('use_label_encoder',[False]),\n",
        "          'gamma': trial.suggest_categorical('gamma',[0, 0.25, 0.5, 1.0]),\n",
        "          'reg_lambda': trial.suggest_categorical('reg_lambda',[0.1, 1.0, 5.0, 10.0, 50.0, 100.0]),\n",
        "          'tree_method': trial.suggest_categorical('tree_method',['gpu_hist']),\n",
        "          'gpu_id': trial.suggest_categorical('gpu_id',[0]),\n",
        "          'predictor' : trial.suggest_categorical('predictor',['gpu_predictor']),\n",
        "          'random_state': trial.suggest_categorical('random_state',[SEED])\n",
        "         }\n",
        "\n",
        "    # learning\n",
        "    model = XGBClassifier(**params)        \n",
        "    model.fit(X_train, y_train, \n",
        "              verbose=False) # 1000\n",
        "    val_preds = model.predict_proba(X_test)[:,1]\n",
        "    auc = roc_auc_score(y_test, val_preds) # AUROC requires probabilities of the predictions\n",
        "    # print(\"AUC Score : \",auc) # check the auc score in each trial\n",
        "    \n",
        "    return auc"
      ]
    },
    {
      "cell_type": "code",
      "execution_count": null,
      "id": "01f113fb",
      "metadata": {
        "_kg_hide-output": true,
        "execution": {
          "iopub.execute_input": "2022-08-11T18:24:37.863963Z",
          "iopub.status.busy": "2022-08-11T18:24:37.859263Z",
          "iopub.status.idle": "2022-08-11T18:58:11.778069Z",
          "shell.execute_reply": "2022-08-11T18:58:11.777587Z",
          "shell.execute_reply.started": "2022-04-25T18:36:11.337247Z"
        },
        "id": "01f113fb",
        "papermill": {
          "duration": 2014.026892,
          "end_time": "2022-08-11T18:58:11.778204",
          "exception": false,
          "start_time": "2022-08-11T18:24:37.751312",
          "status": "completed"
        },
        "tags": []
      },
      "outputs": [],
      "source": [
        "%%time\n",
        "n_trials = int(150)\n",
        "\n",
        "# set logging level\n",
        "# optuna.logging.set_verbosity(optuna_verbosity)\n",
        "\n",
        "study = optuna.create_study(direction = \"maximize\", sampler = optuna.samplers.TPESampler(seed=int(SEED)))\n",
        "study.optimize(objective, n_trials = n_trials, n_jobs = multiprocessing.cpu_count())\n",
        "\n",
        "printmd('**BEST TRIAL**')\n",
        "print(\"Best Score: \", study.best_value)\n",
        "printmd('**XGBoost Tuned Hyperparameters**')\n",
        "pprint.pprint(study.best_trial.params)"
      ]
    },
    {
      "cell_type": "markdown",
      "id": "0c19a93d",
      "metadata": {
        "execution": {
          "iopub.execute_input": "2022-08-11T18:58:12.077550Z",
          "iopub.status.busy": "2022-08-11T18:58:12.075838Z",
          "iopub.status.idle": "2022-08-11T18:58:17.983083Z",
          "shell.execute_reply": "2022-08-11T18:58:17.983568Z",
          "shell.execute_reply.started": "2022-04-25T19:05:03.9788Z"
        },
        "id": "0c19a93d",
        "outputId": "274e5c36-3bb7-4bfe-dafe-f4dce24d8626",
        "papermill": {
          "duration": 6.06011,
          "end_time": "2022-08-11T18:58:17.983727",
          "exception": false,
          "start_time": "2022-08-11T18:58:11.923617",
          "status": "completed"
        },
        "tags": []
      },
      "source": [
        "# Save\n",
        "pickle.dump(study.best_trial.params, open('XGB_Hyperparameter.pickle', 'wb'))\n",
        "print(\"Best Score: \", study.best_value)\n",
        "\n",
        "printmd('**XGBoost Tuned Hyperparameters**')\n",
        "pprint.pprint(study.best_trial.params)\n",
        "\n",
        "\n",
        "# history\n",
        "display(optuna.visualization.plot_optimization_history(study))\n",
        "\n",
        "# Importance\n",
        "display(plot_param_importances(study))"
      ]
    },
    {
      "cell_type": "markdown",
      "id": "98915036",
      "metadata": {
        "id": "98915036",
        "papermill": {
          "duration": 0.154499,
          "end_time": "2022-08-11T18:58:18.298897",
          "exception": false,
          "start_time": "2022-08-11T18:58:18.144398",
          "status": "completed"
        },
        "tags": []
      },
      "source": [
        "<a id='5.4'></a>\n",
        "## 5.4 LGBM"
      ]
    },
    {
      "cell_type": "markdown",
      "id": "72f722fc",
      "metadata": {
        "id": "72f722fc",
        "papermill": {
          "duration": 0.154811,
          "end_time": "2022-08-11T18:58:18.611677",
          "exception": false,
          "start_time": "2022-08-11T18:58:18.456866",
          "status": "completed"
        },
        "tags": []
      },
      "source": [
        "<a id='5.4.1'></a>\n",
        "### 5.4.1 Training"
      ]
    },
    {
      "cell_type": "code",
      "execution_count": null,
      "id": "3848e6a3",
      "metadata": {
        "execution": {
          "iopub.execute_input": "2022-08-11T18:58:18.933795Z",
          "iopub.status.busy": "2022-08-11T18:58:18.932954Z",
          "iopub.status.idle": "2022-08-11T18:58:30.133180Z",
          "shell.execute_reply": "2022-08-11T18:58:30.133781Z",
          "shell.execute_reply.started": "2022-04-25T19:05:13.136681Z"
        },
        "id": "3848e6a3",
        "outputId": "14672eb2-5c77-4f3f-fa60-39ac6fb77257",
        "papermill": {
          "duration": 11.366714,
          "end_time": "2022-08-11T18:58:30.133944",
          "exception": false,
          "start_time": "2022-08-11T18:58:18.767230",
          "status": "completed"
        },
        "tags": []
      },
      "outputs": [
        {
          "data": {
            "text/markdown": [
              "**lgbm Init**"
            ],
            "text/plain": [
              "<IPython.core.display.Markdown object>"
            ]
          },
          "metadata": {},
          "output_type": "display_data"
        },
        {
          "name": "stdout",
          "output_type": "stream",
          "text": [
            "--------------------------------------------------\n",
            "Fold 1\n",
            "AUC Score :  0.8239533011272142\n",
            "--------------------------------------------------\n",
            "Fold 2\n",
            "AUC Score :  0.8613526570048309\n",
            "--------------------------------------------------\n",
            "Fold 3\n",
            "AUC Score :  0.8340982286634462\n",
            "--------------------------------------------------\n",
            "Fold 4\n",
            "AUC Score :  0.8305152979066022\n",
            "--------------------------------------------------\n",
            "Fold 5\n",
            "AUC Score :  0.8392990305741983\n",
            "--------------------------------------------------\n",
            "Fold 6\n",
            "AUC Score :  0.856328826638135\n",
            "--------------------------------------------------\n",
            "Fold 7\n",
            "AUC Score :  0.8692409947151704\n",
            "--------------------------------------------------\n",
            "Fold 8\n",
            "AUC Score :  0.858395746198489\n",
            "--------------------------------------------------\n",
            "Fold 9\n",
            "AUC Score :  0.8547320299581753\n",
            "--------------------------------------------------\n",
            "Fold 10\n",
            "AUC Score :  0.8681275221953186\n",
            "--------------------------------------------------\n",
            "Train : Base Model - lgbm - AUC score : mean ---> 0.849604363498158, std ---> 0.015441944183698274\n",
            "Test  : Base Model - lgbm - AUC score : 0.8474812059211035\n",
            "Done!\n",
            "CPU times: total: 4min 10s\n",
            "Wall time: 3min 33s\n"
          ]
        },
        {
          "data": {
            "image/png": "[encoded data removed]",
            "text/plain": [
              "<Figure size 1000x800 with 1 Axes>"
            ]
          },
          "metadata": {
            "needs_background": "light"
          },
          "output_type": "display_data"
        }
      ],
      "source": [
        "%%time\n",
        "# highly recommended : https://neptune.ai/blog/lightgbm-parameters-guide\n",
        "\n",
        "fold_num = 10\n",
        "\n",
        "# convert datatype to category to use 'categorical_feature' parameter\n",
        "# it does not improve score, feel free to try it out\n",
        "# for c in cat_cols:\n",
        "#     X[c] = X[c].astype('category')\n",
        "#     X_test[c] = X_test[c].astype('category')\n",
        "\n",
        "lgbm_params = {'n_estimators': 12749, \n",
        "               'learning_rate': 0.1985328656822506, \n",
        "               'reg_alpha': 9.77289653841389, \n",
        "               'reg_lambda': 4.979048257991328, \n",
        "               'num_leaves': 921, \n",
        "               'min_child_samples': 85, \n",
        "               'max_depth': 56, \n",
        "               'colsample_bytree': 0.43848926369957975, \n",
        "               'cat_smooth': 92, \n",
        "               'cat_l2': 17, \n",
        "               'device': 'gpu',\n",
        "               'gpu_platform_id': 0,\n",
        "               'gpu_device_id': 0,\n",
        "               'min_data_per_group': 59,\n",
        "               'random_state': SEED,\n",
        "              #  'is_unbalance':True,  # does not improve score\n",
        "              # 'categorical_feature': cat_cols, # does not improve score\n",
        "               }\n",
        "\n",
        "\n",
        "lgbm = lgb.LGBMClassifier(**lgbm_params)\n",
        "\n",
        "train_model(lgbm, 'lgbm', X, y, X_test, fold_num)"
      ]
    },
    {
      "cell_type": "markdown",
      "id": "af4b5fd8",
      "metadata": {
        "id": "af4b5fd8",
        "papermill": {
          "duration": 0.238762,
          "end_time": "2022-08-11T18:58:30.620930",
          "exception": false,
          "start_time": "2022-08-11T18:58:30.382168",
          "status": "completed"
        },
        "tags": []
      },
      "source": [
        "<a id='5.4.2'></a>\n",
        "### 5.4.2 Optuna Tuning"
      ]
    },
    {
      "cell_type": "code",
      "execution_count": null,
      "id": "71732be0",
      "metadata": {
        "execution": {
          "iopub.execute_input": "2022-08-11T18:58:30.950753Z",
          "iopub.status.busy": "2022-08-11T18:58:30.950022Z",
          "iopub.status.idle": "2022-08-11T18:58:30.953102Z",
          "shell.execute_reply": "2022-08-11T18:58:30.953545Z",
          "shell.execute_reply.started": "2022-04-25T19:05:25.428508Z"
        },
        "id": "71732be0",
        "outputId": "20aa7ae1-6da7-4c5f-ddb2-0183acc2d8a1",
        "papermill": {
          "duration": 0.172273,
          "end_time": "2022-08-11T18:58:30.953690",
          "exception": false,
          "start_time": "2022-08-11T18:58:30.781417",
          "status": "completed"
        },
        "tags": []
      },
      "outputs": [
        {
          "name": "stdout",
          "output_type": "stream",
          "text": [
            "CPU times: total: 0 ns\n",
            "Wall time: 0 ns\n"
          ]
        }
      ],
      "source": [
        "%%time\n",
        "def objective(trial):\n",
        "    X_train, X_test, y_train, y_test = train_test_split(X, y, test_size=0.25, random_state=int(SEED), shuffle=True, stratify=y)\n",
        "\n",
        "    params = {\n",
        "        'objective': 'binary', # binary target\n",
        "        'n_estimators': trial.suggest_int('n_estimators', 4000, 20000),\n",
        "        'learning_rate' : trial.suggest_float('learning_rate',1e-3,5e-1,log=True),\n",
        "        'reg_alpha': trial.suggest_float('reg_alpha', 0.001, 10.0),\n",
        "        'reg_lambda': trial.suggest_float('reg_lambda', 0.001, 10.0),\n",
        "        'num_leaves': trial.suggest_int('num_leaves', 5, 1000), # num leaves = 2^max_depth\n",
        "        'min_child_samples': trial.suggest_int('min_child_samples', 5, 100),\n",
        "        'max_depth': trial.suggest_int('max_depth', 5, 64),\n",
        "        'colsample_bytree': trial.suggest_float('colsample_bytree', 0.1, 0.5),\n",
        "        'cat_smooth' : trial.suggest_int('cat_smooth', 10, 100),\n",
        "        'cat_l2': trial.suggest_int('cat_l2', 1, 20),\n",
        "        'min_data_per_group': trial.suggest_int('min_data_per_group', 50, 200),\n",
        "        'random_state': int(SEED),\n",
        "        'device': 'gpu',\n",
        "        'gpu_platform_id': 0,\n",
        "        'gpu_device_id': 0,\n",
        "        \n",
        "        #     'subsample': 0.6,\n",
        "        #     'subsample_freq': 1,\n",
        "        #     'min_child_weight': trial.suggest_float('min_child_weight', 0.001, 10.0),\n",
        "    }\n",
        "\n",
        "    # Learning\n",
        "    model = lgb.LGBMClassifier(**params)        \n",
        "    model.fit(X_train, y_train, \n",
        "              verbose=False) # 1000\n",
        "    val_pred = model.predict_proba(X_test)[:,1]\n",
        "    auc = roc_auc_score(y_test, val_pred) # AUROC requires probabilities of the predictions\n",
        "\n",
        "    # print(\"AUC Score : \",auc) # check the auc score in each trial\n",
        "    \n",
        "    return auc"
      ]
    },
    {
      "cell_type": "code",
      "execution_count": null,
      "id": "eff1fe5c",
      "metadata": {
        "_kg_hide-output": true,
        "execution": {
          "iopub.execute_input": "2022-08-11T18:58:31.295525Z",
          "iopub.status.busy": "2022-08-11T18:58:31.294696Z",
          "iopub.status.idle": "2022-08-11T19:24:40.061115Z",
          "shell.execute_reply": "2022-08-11T19:24:40.060666Z",
          "shell.execute_reply.started": "2022-04-25T19:05:25.45335Z"
        },
        "id": "eff1fe5c",
        "papermill": {
          "duration": 1568.94117,
          "end_time": "2022-08-11T19:24:40.061269",
          "exception": false,
          "start_time": "2022-08-11T18:58:31.120099",
          "status": "completed"
        },
        "tags": []
      },
      "outputs": [],
      "source": [
        "%%time\n",
        "n_trials = int(150)\n",
        "\n",
        "# set logging level\n",
        "# optuna.logging.set_verbosity(optuna_verbosity)\n",
        "\n",
        "study = optuna.create_study(direction = \"maximize\", sampler = optuna.samplers.TPESampler(seed=int(SEED)))\n",
        "study.optimize(objective, n_trials = n_trials, n_jobs = multiprocessing.cpu_count())\n",
        "\n",
        "printmd('**BEST TRIAL**')\n",
        "print(\"Best Score: \", study.best_value)\n",
        "printmd('**LGBM Tuned Hyperparameters**')\n",
        "pprint.pprint(study.best_trial.params)"
      ]
    },
    {
      "cell_type": "code",
      "execution_count": null,
      "id": "4af5594d",
      "metadata": {
        "execution": {
          "iopub.execute_input": "2022-08-11T19:24:40.468812Z",
          "iopub.status.busy": "2022-08-11T19:24:40.468181Z",
          "iopub.status.idle": "2022-08-11T19:24:45.622494Z",
          "shell.execute_reply": "2022-08-11T19:24:45.621996Z",
          "shell.execute_reply.started": "2022-04-25T19:35:59.845922Z"
        },
        "id": "4af5594d",
        "papermill": {
          "duration": 5.359212,
          "end_time": "2022-08-11T19:24:45.622632",
          "exception": false,
          "start_time": "2022-08-11T19:24:40.263420",
          "status": "completed"
        },
        "tags": []
      },
      "outputs": [],
      "source": [
        "# Save\n",
        "pickle.dump(study.best_trial.params, open('LGBM_Hyperparameter.pickle', 'wb'))\n",
        "print(\"Best Score: \", study.best_value)\n",
        "printmd('**LGBM Tuned Hyperparameters**')\n",
        "pprint.pprint(study.best_trial.params)\n",
        "\n",
        "# history\n",
        "display(optuna.visualization.plot_optimization_history(study))\n",
        "\n",
        "# Importance\n",
        "display(plot_param_importances(study))"
      ]
    },
    {
      "cell_type": "markdown",
      "id": "7454a418",
      "metadata": {
        "id": "7454a418",
        "papermill": {
          "duration": 0.213837,
          "end_time": "2022-08-11T19:24:46.099832",
          "exception": false,
          "start_time": "2022-08-11T19:24:45.885995",
          "status": "completed"
        },
        "tags": []
      },
      "source": [
        "<a id='5.5'></a>\n",
        "## 5.5 Stacking Ensemble\n",
        "\n",
        "---\n",
        "![image.png](http://rasbt.github.io/mlxtend/user_guide/classifier/StackingClassifier_files/stackingclassification_overview.png)"
      ]
    },
    {
      "cell_type": "code",
      "execution_count": null,
      "id": "0cb9072c",
      "metadata": {
        "execution": {
          "iopub.execute_input": "2022-08-11T19:24:46.530114Z",
          "iopub.status.busy": "2022-08-11T19:24:46.529224Z",
          "iopub.status.idle": "2022-08-11T19:24:46.531289Z",
          "shell.execute_reply": "2022-08-11T19:24:46.531707Z",
          "shell.execute_reply.started": "2022-04-25T19:36:07.339295Z"
        },
        "id": "0cb9072c",
        "papermill": {
          "duration": 0.222699,
          "end_time": "2022-08-11T19:24:46.531864",
          "exception": false,
          "start_time": "2022-08-11T19:24:46.309165",
          "status": "completed"
        },
        "tags": []
      },
      "outputs": [],
      "source": [
        "def stacking_data_loader(model, model_name, train, y, test, fold):\n",
        "    '''\n",
        "    input train, test datasets and fold value!\n",
        "    returns train, test datasets for stacking ensemble\n",
        "    '''\n",
        "\n",
        "    stk = StratifiedKFold(n_splits = fold, random_state = SEED, shuffle = True)\n",
        "    \n",
        "    # Declaration Pred Datasets\n",
        "    train_fold_pred = np.zeros((train.shape[0], 1))\n",
        "    test_pred = np.zeros((test.shape[0], fold))\n",
        "    \n",
        "    for counter, (train_index, valid_index) in enumerate(stk.split(train, y)):\n",
        "        X_train, y_train = train.iloc[train_index], y[train_index]\n",
        "        X_valid, y_valid = train.iloc[valid_index], y[valid_index]\n",
        "\n",
        "        print('------------ Fold', counter+1, 'Start! ------------')\n",
        "        if model_name == 'cat':\n",
        "            model.fit(X_train, y_train, eval_set=[(X_valid, y_valid)], verbose=False)\n",
        "        elif model_name == 'xgb':\n",
        "            model.fit(X_train, y_train, eval_set=[(X_valid, y_valid)], eval_metric = 'auc', verbose = False, early_stopping_rounds = 200)\n",
        "        else:\n",
        "            model.fit(X_train, y_train, eval_set=[(X_valid, y_valid)], eval_metric = 'auc', verbose = False, early_stopping_rounds = 200)\n",
        "            \n",
        "        print('------------ Fold', counter+1, 'Done! ------------')\n",
        "        \n",
        "        train_fold_pred[valid_index, :] = model.predict_proba(X_valid)[:, 1].reshape(-1, 1)\n",
        "        test_pred[:, counter] = model.predict_proba(test)[:, 1]\n",
        "        del X_train, y_train, X_valid, y_valid\n",
        "        gc.collect()\n",
        "        \n",
        "    test_pred_mean = np.mean(test_pred, axis = 1).reshape(-1, 1)\n",
        "    \n",
        "    del test_pred\n",
        "    gc.collect()\n",
        "    \n",
        "    print('Done!')\n",
        "    \n",
        "    return train_fold_pred, test_pred_mean\n",
        "\n",
        "# Thanks to : https://www.kaggle.com/junhyeok99/stacking-ensemble-tutorial"
      ]
    },
    {
      "cell_type": "markdown",
      "id": "7d5c146c",
      "metadata": {
        "id": "7d5c146c",
        "papermill": {
          "duration": 0.213392,
          "end_time": "2022-08-11T19:24:46.954139",
          "exception": false,
          "start_time": "2022-08-11T19:24:46.740747",
          "status": "completed"
        },
        "tags": []
      },
      "source": [
        "<a id='5.5.1'></a>\n",
        "### 5.5.1 Level 0 : Base Models"
      ]
    },
    {
      "cell_type": "code",
      "execution_count": null,
      "id": "6ed6bf60",
      "metadata": {
        "execution": {
          "iopub.execute_input": "2022-08-11T19:24:47.419446Z",
          "iopub.status.busy": "2022-08-11T19:24:47.418615Z",
          "iopub.status.idle": "2022-08-11T19:25:50.351947Z",
          "shell.execute_reply": "2022-08-11T19:25:50.352385Z",
          "shell.execute_reply.started": "2022-04-25T19:36:07.356695Z"
        },
        "id": "6ed6bf60",
        "papermill": {
          "duration": 63.149888,
          "end_time": "2022-08-11T19:25:50.352543",
          "exception": false,
          "start_time": "2022-08-11T19:24:47.202655",
          "status": "completed"
        },
        "tags": []
      },
      "outputs": [],
      "source": [
        "%%time\n",
        "lgbm_params = {'n_estimators': 12749, \n",
        "               'learning_rate': 0.1985328656822506, \n",
        "               'reg_alpha': 9.77289653841389, \n",
        "               'reg_lambda': 4.979048257991328, \n",
        "               'num_leaves': 921, \n",
        "               'min_child_samples': 85, \n",
        "               'max_depth': 56, \n",
        "               'colsample_bytree': 0.43848926369957975, \n",
        "               'cat_smooth': 92, \n",
        "               'cat_l2': 17, \n",
        "               'device': 'gpu',\n",
        "               'gpu_platform_id': 0,\n",
        "               'gpu_device_id': 0,\n",
        "               'min_data_per_group': 59,\n",
        "               'random_state': SEED,\n",
        "              #  'is_unbalance':True,  # does not improve score\n",
        "              # 'categorical_feature': cat_cols, # does not improve score\n",
        "               }\n",
        "\n",
        "\n",
        "lgbm = lgb.LGBMClassifier(**lgbm_params)\n",
        "\n",
        "\n",
        "xgb_params = {'colsample_bytree': 0.2645340949128848,\n",
        "            'eval_metric': 'auc',\n",
        "            'tree_method': 'gpu_hist',\n",
        "            'gpu_id': 0,\n",
        "            'predictor': 'gpu_predictor',\n",
        "            'gamma': 0,\n",
        "            'learning_rate': 0.001851851953410451,\n",
        "            'max_depth': 3,\n",
        "            'n_estimators': 6000,\n",
        "            'random_state': SEED,\n",
        "            'reg_lambda': 0.1,\n",
        "            'subsample': 0.6905005604726816,\n",
        "            'use_label_encoder': False }\n",
        "\n",
        "xgb = XGBClassifier(**xgb_params)\n",
        "\n",
        "\n",
        "cat_params  = {'eval_metric':\"AUC\",\n",
        "              #  'task_type':\"GPU\",\n",
        "              'loss_function': 'logloss',\n",
        "              'boosting_type': 'Plain',\n",
        "              'bootstrap_type': 'Bayesian', # 0.846998114133664\n",
        "              'colsample_bylevel': 0.013457968759952536,\n",
        "              'depth': 6,\n",
        "              'iterations': 6888,\n",
        "              'learning_rate': 0.05683590866750785,\n",
        "              'objective': 'Logloss',\n",
        "              'random_strength': 18, \n",
        "              'l2_leaf_reg': 50,\n",
        "              'random_state': SEED,\n",
        "              # 'cat_features':cat_cols\n",
        "              }\n",
        "\n",
        "\n",
        "cat = CatBoostClassifier(**cat_params)\n",
        "\n",
        "fold_num = 5\n",
        "\n",
        "cat_train, cat_test = stacking_data_loader(cat, 'cat', X, y, X_test, fold_num)\n",
        "del cat\n",
        "gc.collect()\n",
        "\n",
        "lgbm_train, lgbm_test = stacking_data_loader(lgbm, 'lgbm', X, y, X_test, fold_num)\n",
        "del lgbm\n",
        "gc.collect()\n",
        "\n",
        "xgb_train, xgb_test = stacking_data_loader(xgb, 'xgb', X, y, X_test, fold_num)\n",
        "del xgb\n",
        "gc.collect()"
      ]
    },
    {
      "cell_type": "markdown",
      "id": "14a651b6",
      "metadata": {
        "id": "14a651b6",
        "papermill": {
          "duration": 0.21394,
          "end_time": "2022-08-11T19:25:50.779753",
          "exception": false,
          "start_time": "2022-08-11T19:25:50.565813",
          "status": "completed"
        },
        "tags": []
      },
      "source": [
        "<a id='5.5.2'></a>\n",
        "### 5.5.2 Stacking Datasets"
      ]
    },
    {
      "cell_type": "code",
      "execution_count": null,
      "id": "c55e7982",
      "metadata": {
        "execution": {
          "iopub.execute_input": "2022-08-11T19:25:51.360483Z",
          "iopub.status.busy": "2022-08-11T19:25:51.359837Z",
          "iopub.status.idle": "2022-08-11T19:25:51.365685Z",
          "shell.execute_reply": "2022-08-11T19:25:51.365189Z",
          "shell.execute_reply.started": "2022-04-25T19:37:09.099479Z"
        },
        "id": "c55e7982",
        "papermill": {
          "duration": 0.368882,
          "end_time": "2022-08-11T19:25:51.365831",
          "exception": false,
          "start_time": "2022-08-11T19:25:50.996949",
          "status": "completed"
        },
        "tags": []
      },
      "outputs": [],
      "source": [
        "stack_X_train = np.concatenate((cat_train, lgbm_train, xgb_train), axis = 1)\n",
        "stack_X_test = np.concatenate((cat_test, lgbm_test, xgb_test), axis = 1)\n",
        "\n",
        "del cat_train, lgbm_train, xgb_train, cat_test, lgbm_test, xgb_test\n",
        "gc.collect()\n",
        "\n",
        "stack_X_train.shape, stack_X_test.shape"
      ]
    },
    {
      "cell_type": "markdown",
      "id": "f6c105e2",
      "metadata": {
        "id": "f6c105e2",
        "papermill": {
          "duration": 0.213654,
          "end_time": "2022-08-11T19:25:51.793668",
          "exception": false,
          "start_time": "2022-08-11T19:25:51.580014",
          "status": "completed"
        },
        "tags": []
      },
      "source": [
        "<a id='5.5.3'></a>\n",
        "### 5.5.3 Level 1 : Meta Model"
      ]
    },
    {
      "cell_type": "code",
      "execution_count": null,
      "id": "302b519a",
      "metadata": {
        "execution": {
          "iopub.execute_input": "2022-08-11T19:25:52.234242Z",
          "iopub.status.busy": "2022-08-11T19:25:52.233388Z",
          "iopub.status.idle": "2022-08-11T19:25:54.678741Z",
          "shell.execute_reply": "2022-08-11T19:25:54.679171Z",
          "shell.execute_reply.started": "2022-04-25T19:37:09.333544Z"
        },
        "id": "302b519a",
        "papermill": {
          "duration": 2.670082,
          "end_time": "2022-08-11T19:25:54.679337",
          "exception": false,
          "start_time": "2022-08-11T19:25:52.009255",
          "status": "completed"
        },
        "tags": []
      },
      "outputs": [],
      "source": [
        "# meta model : LogisticRegression\n",
        "fold = 5\n",
        "stk = StratifiedKFold(n_splits = fold, random_state = SEED, shuffle = False)\n",
        "test_pred_log_reg = np.zeros((stack_X_test.shape[0], fold))\n",
        "auc_scores = []\n",
        "\n",
        "for counter, (train_index, valid_index)in enumerate(stk.split(stack_X_train, y)):\n",
        "    X_train, y_train = stack_X_train[train_index], y[train_index]\n",
        "    X_valid, y_valid = stack_X_train[valid_index], y[valid_index]\n",
        "\n",
        "    #### to SMOTE sampling, not advised, low performance\n",
        "    # sm = SMOTE(sampling_strategy='all', random_state=SEED)\n",
        "    # X_train, y_train = sm.fit_resample(X_train, y_train)\n",
        "    # X_valid, y_valid = sm.fit_resample(X_valid, y_valid)\n",
        "    \n",
        "    lr = LogisticRegression(n_jobs = -1, random_state = SEED, C = 0.3, max_iter = 10000)\n",
        "    lr.fit(X_train, y_train)\n",
        "    \n",
        "    valid_pred_log_reg = lr.predict_proba(X_valid)[:, 1]\n",
        "    test_pred_log_reg[:, counter] = lr.predict_proba(stack_X_test)[:, 1]\n",
        "\n",
        "    auc = roc_auc_score(y_valid, valid_pred_log_reg)\n",
        "    auc_scores.append(auc)\n",
        "\n",
        "    print('Fold', counter+1 , 'AUC :', auc)\n",
        "    fold += 1\n",
        "\n",
        "test_pred_log_reg_mean = np.mean(test_pred_log_reg, axis = 1).reshape(-1, 1)\n",
        "\n",
        "print(f'AUC score : mean ---> {np.mean(auc_scores)}, std ---> {np.std(auc_scores)}')\n",
        "\n",
        "plt.boxplot(auc_scores, showmeans=True)\n",
        "\n",
        "plt.show()\n",
        "\n",
        "# AUC score : mean ---> 0.8495059939911511, std ---> 0.014576136833225574"
      ]
    },
    {
      "cell_type": "markdown",
      "id": "89e29327",
      "metadata": {
        "id": "89e29327",
        "papermill": {
          "duration": 0.219306,
          "end_time": "2022-08-11T19:25:55.118041",
          "exception": false,
          "start_time": "2022-08-11T19:25:54.898735",
          "status": "completed"
        },
        "tags": []
      },
      "source": [
        "<a id='5.5.4'></a>\n",
        "### 5.5.4 Stacking Model Evaluation"
      ]
    },
    {
      "cell_type": "code",
      "execution_count": null,
      "id": "e9b22f52",
      "metadata": {
        "execution": {
          "iopub.execute_input": "2022-08-11T19:25:55.565560Z",
          "iopub.status.busy": "2022-08-11T19:25:55.563850Z",
          "iopub.status.idle": "2022-08-11T19:25:55.570262Z",
          "shell.execute_reply": "2022-08-11T19:25:55.570719Z",
          "shell.execute_reply.started": "2022-04-25T19:37:12.614995Z"
        },
        "id": "e9b22f52",
        "papermill": {
          "duration": 0.233704,
          "end_time": "2022-08-11T19:25:55.570868",
          "exception": false,
          "start_time": "2022-08-11T19:25:55.337164",
          "status": "completed"
        },
        "tags": []
      },
      "outputs": [],
      "source": [
        "roc_auc_score_log_reg = roc_auc_score(y_test, test_pred_log_reg_mean)\n",
        "\n",
        "printmd(f\"AUC on the test dataset : **{roc_auc_score_log_reg}**\")"
      ]
    },
    {
      "cell_type": "markdown",
      "id": "65d14b41",
      "metadata": {
        "id": "65d14b41",
        "papermill": {
          "duration": 0.223786,
          "end_time": "2022-08-11T19:25:56.020201",
          "exception": false,
          "start_time": "2022-08-11T19:25:55.796415",
          "status": "completed"
        },
        "tags": []
      },
      "source": [
        "#### ROC Curve"
      ]
    },
    {
      "cell_type": "code",
      "execution_count": null,
      "id": "608a1ff1",
      "metadata": {
        "execution": {
          "iopub.execute_input": "2022-08-11T19:25:56.486992Z",
          "iopub.status.busy": "2022-08-11T19:25:56.484920Z",
          "iopub.status.idle": "2022-08-11T19:25:56.714052Z",
          "shell.execute_reply": "2022-08-11T19:25:56.714731Z",
          "shell.execute_reply.started": "2022-04-25T19:37:12.628755Z"
        },
        "id": "608a1ff1",
        "papermill": {
          "duration": 0.474818,
          "end_time": "2022-08-11T19:25:56.714897",
          "exception": false,
          "start_time": "2022-08-11T19:25:56.240079",
          "status": "completed"
        },
        "tags": []
      },
      "outputs": [],
      "source": [
        "plt.figure(figsize=(10,8))\n",
        "\n",
        "# plot no skill roc curve\n",
        "plt.plot([0, 1], [0, 1], linestyle='--', label='No Skill')\n",
        "\n",
        "# calculate roc curve for model\n",
        "fpr, tpr, _ = roc_curve(y_test, test_pred_log_reg_mean)\n",
        "\n",
        "# plot model roc curve\n",
        "font_size = 15\n",
        "plt.plot(fpr, tpr, marker='.', label=f'Logistic (area = {roc_auc_score_log_reg:0.2f})')\n",
        "\n",
        "# axis labels\n",
        "plt.xlabel('False Positive Rate', fontsize=font_size)\n",
        "plt.ylabel('True Positive Rate', fontsize=font_size)\n",
        "plt.xticks(fontsize=font_size)\n",
        "plt.yticks(fontsize=font_size)\n",
        "# curve title\n",
        "plt.suptitle('ROC Curve', fontsize=20)\n",
        "# show the legend\n",
        "plt.legend()\n",
        "\n",
        "# show the plot\n",
        "plt.show()"
      ]
    },
    {
      "cell_type": "markdown",
      "id": "ae80ae11",
      "metadata": {
        "id": "ae80ae11",
        "papermill": {
          "duration": 0.346248,
          "end_time": "2022-08-11T19:25:57.415738",
          "exception": false,
          "start_time": "2022-08-11T19:25:57.069490",
          "status": "completed"
        },
        "tags": []
      },
      "source": [
        "#### PR Curve"
      ]
    },
    {
      "cell_type": "code",
      "execution_count": null,
      "id": "e62e0d1e",
      "metadata": {
        "execution": {
          "iopub.execute_input": "2022-08-11T19:25:58.146256Z",
          "iopub.status.busy": "2022-08-11T19:25:58.145388Z",
          "iopub.status.idle": "2022-08-11T19:25:58.457871Z",
          "shell.execute_reply": "2022-08-11T19:25:58.457134Z",
          "shell.execute_reply.started": "2022-04-25T19:37:12.945586Z"
        },
        "id": "e62e0d1e",
        "papermill": {
          "duration": 0.683428,
          "end_time": "2022-08-11T19:25:58.458007",
          "exception": false,
          "start_time": "2022-08-11T19:25:57.774579",
          "status": "completed"
        },
        "tags": []
      },
      "outputs": [],
      "source": [
        "plt.figure(figsize=(10,8))\n",
        "\n",
        "# calculate the no skill line as the proportion of the positive class\n",
        "no_skill = len(y[y==1]) / len(y)\n",
        "\n",
        "# plot the no skill precision-recall curve\n",
        "plt.plot([0, 1], [no_skill, no_skill], linestyle='--', label='No Skill')\n",
        "\n",
        "# calculate model precision-recall curve\n",
        "precision, recall, _ = precision_recall_curve(y_test, test_pred_log_reg_mean)\n",
        "\n",
        "# plot the model precision-recall curve\n",
        "font_size = 15\n",
        "plt.plot(recall, precision, marker='.', label='Logistic')\n",
        "\n",
        "# title PR curve\n",
        "plt.suptitle('PR Curve', fontsize=20)\n",
        "\n",
        "# axis labels\n",
        "plt.xlabel('Recall', fontsize=font_size)\n",
        "plt.ylabel('Precision', fontsize=font_size)\n",
        "plt.xticks(fontsize=font_size)\n",
        "plt.yticks(fontsize=font_size)\n",
        "# show the legend\n",
        "plt.legend()\n",
        "\n",
        "# show the plot\n",
        "plt.show()"
      ]
    },
    {
      "cell_type": "markdown",
      "id": "352cc125",
      "metadata": {
        "id": "352cc125",
        "papermill": {
          "duration": 0.223388,
          "end_time": "2022-08-11T19:25:58.905555",
          "exception": false,
          "start_time": "2022-08-11T19:25:58.682167",
          "status": "completed"
        },
        "tags": []
      },
      "source": [
        "<a id='5.5.5'></a>\n",
        "### 5.5.5 Stacking Ensemble Classic ML Models"
      ]
    },
    {
      "cell_type": "code",
      "execution_count": null,
      "id": "7fae59da",
      "metadata": {
        "execution": {
          "iopub.execute_input": "2022-08-11T19:25:59.368179Z",
          "iopub.status.busy": "2022-08-11T19:25:59.366952Z",
          "iopub.status.idle": "2022-08-11T19:30:58.864624Z",
          "shell.execute_reply": "2022-08-11T19:30:58.862945Z",
          "shell.execute_reply.started": "2022-04-25T19:37:13.348207Z"
        },
        "id": "7fae59da",
        "papermill": {
          "duration": 299.733856,
          "end_time": "2022-08-11T19:30:58.864759",
          "exception": false,
          "start_time": "2022-08-11T19:25:59.130903",
          "status": "completed"
        },
        "tags": []
      },
      "outputs": [],
      "source": [
        "# 5 fold stacking ensembling with 3 Repeated Stratified 10-Fold cross validation\n",
        "\n",
        "# get a stacking ensemble of models\n",
        "def get_stacking():\n",
        "    # define the base models\n",
        "    level0 = list()\n",
        "    level0.append(('logreg', LogisticRegression()))\n",
        "    level0.append(('knn', KNeighborsClassifier()))\n",
        "    level0.append(('rforest', RandomForestClassifier()))\n",
        "    level0.append(('etree', ExtraTreesClassifier()))\n",
        "    level0.append(('svm', SVC()))\n",
        "\n",
        "    # define meta learner model\n",
        "    level1 = LogisticRegression()\n",
        "\n",
        "    # define the stacking ensemble\n",
        "    model = StackingClassifier(estimators=level0, final_estimator=level1, cv=5)\n",
        "    return model\n",
        " \n",
        "# get a list of models to evaluate\n",
        "def get_models():\n",
        "    models = dict()\n",
        "    models['logreg'] = LogisticRegression()\n",
        "    models['knn'] = KNeighborsClassifier()\n",
        "    models['rforest'] = RandomForestClassifier()\n",
        "    models['etree'] = ExtraTreesClassifier()\n",
        "    models['svm'] = SVC()\n",
        "    models['stacking'] = get_stacking()\n",
        "    return models\n",
        "\n",
        "# evaluate a give model using cross-validation\n",
        "def evaluate_model(model, X, y):\n",
        "    cv = RepeatedStratifiedKFold(n_splits=10, n_repeats=3, random_state=1)\n",
        "    scores = cross_val_score(model, X, y, scoring='accuracy', cv=cv, n_jobs=-1, error_score='raise')\n",
        "    return scores\n",
        "\n",
        "# get the models to evaluate\n",
        "models = get_models()\n",
        "\n",
        "# evaluate the models and store results\n",
        "results, names = list(), list()\n",
        "\n",
        "printmd(\"**Model Evaluation :**\")\n",
        "\n",
        "for name, model in models.items():\n",
        "    scores = evaluate_model(model, X, y)\n",
        "    results.append(scores)\n",
        "    names.append(name)\n",
        "    print('>%s, cross-validation score - mean  : %.3f std: (%.3f)' % (name, np.mean(scores), np.std(scores)))\n",
        " \n",
        "printmd(\"<br>\")\n",
        "\n",
        "# plot model performance for comparison\n",
        "font_size = 15\n",
        "plt.figure(figsize=(10,8))\n",
        "plt.boxplot(results, labels=names, showmeans=True)\n",
        "\n",
        "plt.title(\"Model Performance\",  fontsize=font_size)\n",
        "plt.xlabel(\"ML Models\", fontsize=font_size)\n",
        "plt.ylabel(\"Cross-val Score\",  fontsize=font_size)\n",
        "plt.xticks(fontsize=font_size)\n",
        "plt.yticks(fontsize=font_size)\n",
        "\n",
        "plt.show()\n",
        "\n",
        "\n",
        "# credit : https://machinelearningmastery.com/stacking-ensemble-machine-learning-with-python"
      ]
    },
    {
      "cell_type": "markdown",
      "id": "9598c7fd",
      "metadata": {
        "id": "9598c7fd",
        "papermill": {
          "duration": 0.224942,
          "end_time": "2022-08-11T19:30:59.364804",
          "exception": false,
          "start_time": "2022-08-11T19:30:59.139862",
          "status": "completed"
        },
        "tags": []
      },
      "source": [
        "**Classic ML models perform poorly in comparison with Gradient Boosting models**"
      ]
    },
    {
      "cell_type": "markdown",
      "id": "71e882a0",
      "metadata": {
        "papermill": {
          "duration": 0.222676,
          "end_time": "2022-08-11T19:30:59.812020",
          "exception": false,
          "start_time": "2022-08-11T19:30:59.589344",
          "status": "completed"
        },
        "tags": [],
        "id": "71e882a0"
      },
      "source": [
        "<a id='6'></a>\n",
        "# 6 Load Model"
      ]
    },
    {
      "cell_type": "markdown",
      "id": "84f95fb7",
      "metadata": {
        "papermill": {
          "duration": 0.224932,
          "end_time": "2022-08-11T19:31:00.264023",
          "exception": false,
          "start_time": "2022-08-11T19:31:00.039091",
          "status": "completed"
        },
        "tags": [],
        "id": "84f95fb7"
      },
      "source": [
        "## Model Files"
      ]
    },
    {
      "cell_type": "code",
      "execution_count": null,
      "id": "808f2d8b",
      "metadata": {
        "execution": {
          "iopub.execute_input": "2022-08-11T19:31:00.718335Z",
          "iopub.status.busy": "2022-08-11T19:31:00.717487Z",
          "iopub.status.idle": "2022-08-11T19:31:00.720559Z",
          "shell.execute_reply": "2022-08-11T19:31:00.720987Z",
          "shell.execute_reply.started": "2022-04-25T19:42:18.065617Z"
        },
        "papermill": {
          "duration": 0.231449,
          "end_time": "2022-08-11T19:31:00.721132",
          "exception": false,
          "start_time": "2022-08-11T19:31:00.489683",
          "status": "completed"
        },
        "tags": [],
        "id": "808f2d8b"
      },
      "outputs": [],
      "source": [
        "import os\n",
        "os.listdir('./')"
      ]
    },
    {
      "cell_type": "code",
      "execution_count": null,
      "id": "37174f4e",
      "metadata": {
        "execution": {
          "iopub.execute_input": "2022-08-11T19:31:01.180517Z",
          "iopub.status.busy": "2022-08-11T19:31:01.175309Z",
          "iopub.status.idle": "2022-08-11T19:31:01.389067Z",
          "shell.execute_reply": "2022-08-11T19:31:01.389886Z",
          "shell.execute_reply.started": "2022-04-25T19:42:18.074653Z"
        },
        "papermill": {
          "duration": 0.445361,
          "end_time": "2022-08-11T19:31:01.390065",
          "exception": false,
          "start_time": "2022-08-11T19:31:00.944704",
          "status": "completed"
        },
        "tags": [],
        "id": "37174f4e"
      },
      "outputs": [],
      "source": [
        "def get_classifier(clf_name):\n",
        "    if clf_name == 'XGBoost':\n",
        "        clf = XGBClassifier()  # init model\n",
        "        clf.load_model(\"./model_xgb.json\")\n",
        "    if clf_name == 'Catboost':\n",
        "        clf = CatBoostClassifier()  # parameters not required.\n",
        "        clf.load_model('./model_catboost')\n",
        "    if clf_name == 'LGBM':\n",
        "        clf = lgb.Booster(model_file='./model_lgbm.txt')\n",
        "    return clf\n",
        "\n",
        "\n",
        "models = ['XGBoost', 'Catboost', 'LGBM']\n",
        "printmd(\"**Classifiers | Churn Predictions, Probability (Churn=True)**\")\n",
        "for model in models:\n",
        "    \n",
        "    clf = get_classifier(model)\n",
        "    \n",
        "    try:\n",
        "        # xgboost,\n",
        "        test_pred = clf.predict_proba(X_test[:3])[:, 1]  # probability of getting 1\n",
        "        # check for first three instances of test dataset\n",
        "    except AttributeError as ae:\n",
        "        \n",
        "        # lgbm load model\n",
        "        # https://github.com/Microsoft/LightGBM/issues/1217\n",
        "        \n",
        "        test_pred = clf.predict(X_test[:3])\n",
        "    print(model.ljust(12),'|' , test_pred)"
      ]
    },
    {
      "cell_type": "markdown",
      "id": "e498827e",
      "metadata": {
        "id": "e498827e",
        "papermill": {
          "duration": 0.226382,
          "end_time": "2022-08-11T19:31:01.843673",
          "exception": false,
          "start_time": "2022-08-11T19:31:01.617291",
          "status": "completed"
        },
        "tags": []
      },
      "source": [
        "<a id='7'></a>\n",
        "# 7 Conclusion\n",
        "\n",
        "* Number of months the customer has stayed with the company (**tenure**) and the contract term of the customer (**contract**) are the most important features that have strong correlation with churn of the customer \n",
        "* Results from statiscial hypotheses testing reflects **similarity** with model feature importance\n",
        "* With 80/20 train/test split triple boosting stacking ensemble model achieved an AUC of **~0.85**\n",
        "\n",
        "## What's Next ?\n",
        "\n",
        "---\n",
        "Project deployment\n",
        "---\n",
        "\n",
        "#### I deployed the project using [**streamlit**](https://streamlit.io)\n",
        "\n",
        "#### Streamlit App Preview\n",
        "\n",
        "![Telco Customer Churn Prediction Streamlit](https://user-images.githubusercontent.com/40615350/142819900-60053284-5266-4a66-87a3-cddcb2f0d929.gif \"Telco Customer Churn Prediction Streamlit\")\n",
        "\n",
        "---\n",
        "\n",
        "#### Please click the button below if you want to check the live app\n",
        "\n",
        "[![Live in Streamlit](https://static.streamlit.io/badges/streamlit_badge_black_white.svg)](https://share.streamlit.io//ahmedshahriar/Telco-Customer-Churn-Prediction-Streamlit-App/main/app.py)\n",
        "\n",
        "---\n",
        "\n",
        "### If you like this project please feel free to fork the kernel,use the code, share the notebook and give an upvote. If you have any questions or suggestions to improve the analysis please comment below"
      ]
    },
    {
      "cell_type": "markdown",
      "id": "54ff652d",
      "metadata": {
        "id": "54ff652d",
        "papermill": {
          "duration": 0.226672,
          "end_time": "2022-08-11T19:31:02.297065",
          "exception": false,
          "start_time": "2022-08-11T19:31:02.070393",
          "status": "completed"
        },
        "tags": []
      },
      "source": [
        "<a id='8'></a>\n",
        "# 8 Reference\n",
        "\n",
        "****\n",
        "\n",
        "1. [Notes on XGBoost Parameter Tuning](https://xgboost.readthedocs.io/en/latest/tutorials/param_tuning.html)\n",
        "2. [Understanding LightGBM Parameters (and How to Tune Them)](https://neptune.ai/blog/lightgbm-parameters-guide)\n",
        "3. [Approaching (Almost) Any Machine Learning Problem - LinkedIn Article](https://www.linkedin.com/pulse/approaching-almost-any-machine-learning-problem-abhishek-thakur/)\n",
        "4. [Parameter tuning - catboost.ai](https://catboost.ai/en/docs/concepts/parameter-tuning)"
      ]
    }
  ],
  "metadata": {
    "kernelspec": {
      "display_name": "Python 3",
      "language": "python",
      "name": "python3"
    },
    "language_info": {
      "codemirror_mode": {
        "name": "ipython",
        "version": 3
      },
      "file_extension": ".py",
      "mimetype": "text/x-python",
      "name": "python",
      "nbconvert_exporter": "python",
      "pygments_lexer": "ipython3",
      "version": "3.8.8"
    },
    "papermill": {
      "default_parameters": {},
      "duration": 5057.435498,
      "end_time": "2022-08-11T19:31:04.043235",
      "environment_variables": {},
      "exception": null,
      "input_path": "__notebook__.ipynb",
      "output_path": "__notebook__.ipynb",
      "parameters": {},
      "start_time": "2022-08-11T18:06:46.607737",
      "version": "2.3.3"
    },
    "colab": {
      "name": "churn-prediction-ii-triple-boost-stacking-optuna.ipynb",
      "provenance": [],
      "collapsed_sections": [
        "bb988190",
        "2db80a62",
        "e9bd8c9a",
        "0c19a93d",
        "72f722fc",
        "af4b5fd8",
        "7d5c146c",
        "14a651b6",
        "f6c105e2",
        "89e29327",
        "65d14b41",
        "ae80ae11",
        "352cc125"
      ],
      "include_colab_link": true
    },
    "accelerator": "GPU",
    "gpuClass": "standard"
  },
  "nbformat": 4,
  "nbformat_minor": 5
}