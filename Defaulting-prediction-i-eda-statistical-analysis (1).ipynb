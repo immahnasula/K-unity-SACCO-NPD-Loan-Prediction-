{
 "cells": [
  {
   "cell_type": "markdown",
   "id": "3ffb5a55",
   "metadata": {
    "id": "PATqGk6nPw8A",
    "papermill": {
     "duration": 0.128488,
     "end_time": "2022-08-11T17:09:31.250048",
     "exception": false,
     "start_time": "2022-08-11T17:09:31.121560",
     "status": "completed"
    },
    "tags": []
   },
   "source": [
    "<h1><center>K-UNITY SACCO LOAN DATA ANALYSIS</center></h1>\n",
    "<h2><center>Exploratory Data Analysis, Statistical Testing</center></h2>\n",
    "<center><img src=\"https://loanspot.io/gh/wp-content/uploads/sites/4/2020/12/npl2-min-1-1536x1024.jpg\" align=\"center\"/></center>"
   ]
  },
  {
   "cell_type": "markdown",
   "id": "bd8ae25f",
   "metadata": {
    "id": "TOWd3rOHRJTh",
    "papermill": {
     "duration": 0.100383,
     "end_time": "2022-08-11T17:09:31.512274",
     "exception": false,
     "start_time": "2022-08-11T17:09:31.411891",
     "status": "completed"
    },
    "tags": []
   },
   "source": [
    "# Table of Contents\n",
    "\n",
    "* [1. Introduction ](#1)\n",
    "  * [1.1 Insights & Summary](#1.1)\n",
    "* [2. Libraries & Configurations ](#2)\n",
    "  * [2.1 Import Libraries](#2.1)\n",
    "  * [2.2 Configurations](#2.2)\n",
    "* [3 Descriptive Analysis](#3)\n",
    "  * [3.1 Checking Duplicates](#3.1)\n",
    "  * [3.2 Summary of Categorical Features](#3.2)\n",
    "  * [3.3 Unique Values](#3.3)\n",
    "* [4 Data Wrangling ](#4)\n",
    "  * [4.1 Missing Values](#4.1)\n",
    "    * [4.1.1 Change Data Type](#4.1.1)\n",
    "    * [4.1.2 Imputation](#4.1.2)\n",
    "  * [4.2 Binning](#4.2)\n",
    "    * [4.2.1 Tenure](#4.2.1)\n",
    "    * [4.2.2 MonthlyCharges](#4.2.2)\n",
    "    * [4.2.3 TotalCharges](#4.2.3)\n",
    "* [5 Univariate Analysis](#5)\n",
    "  * [5.1 Statistical Normality Tests](#5.1)\n",
    "    * [5.1.1 D’Agostino’s K^2 Test](#5.1.1)\n",
    "    * [5.1.2 Anderson-Darling Test](#5.1.2)\n",
    "  * [5.2 Visualization](#5.2)\n",
    "* [6 Bivariate Analysis](#6)\n",
    "  * [6.1 List Feature Based on Types](#6.1)\n",
    "  * [6.2 Numerical & Numerical](#6.2)\n",
    "      * [6.2.1 Spearman rank-order correlation](#6.2.1)\n",
    "  * [6.3 Numerical & Categorical](#6.3)\n",
    "    * [6.3.1 Kendall rank correlation coefficient](#6.3.1)\n",
    "    * [6.3.2 Mann-Whitney U Test](#6.3.2)\n",
    "    * [6.3.3 Polytomous(Nominal) with numeric](#6.3.3)\n",
    "  * [6.4 Dichotomous & Dichotomous](#6.4)\n",
    "    * [6.4.1 Phi’s correlation](#6.4.1)\n",
    "  * [6.5 Categorical & categorical](#6.5)\n",
    "    * [6.5.1 Chi-Square](#6.5.1)\n",
    "    * [6.5.2 Cramér’s V](#6.5.2)\n",
    "    * [6.5.3 Uncertainty Coefficient](#6.5.3)\n",
    "  * [6.6 Collinearity](#6.6)\n",
    "    * [6.6.1 Chi-Square](#6.6.1)\n",
    "  * [6.7 Visualization](#6.7)\n",
    "* [7 Multivariate Analysis](#7)\n",
    "  * [7.1 Multicollinearity (Kruskal–Wallis)](#7.1)\n",
    "  * [7.2 Frequency Distribution](#7.2)\n",
    "  * [7.3 Churn Count Distribution](#7.3)\n",
    "    * [7.3.1 Features With Cardinality = 2](#7.3.1)\n",
    "    * [7.3.2 Features With Cardinality = 3](#7.3.2)\n",
    "* [8 Save Cleaned Dataset](#8)\n",
    "* [9 Conclusion](#9)\n",
    "* [10 References](#10)"
   ]
  },
  {
   "cell_type": "markdown",
   "id": "5f7fb08c",
   "metadata": {
    "id": "lKw2p948O0uz",
    "papermill": {
     "duration": 0.100873,
     "end_time": "2022-08-11T17:09:31.714303",
     "exception": false,
     "start_time": "2022-08-11T17:09:31.613430",
     "status": "completed"
    },
    "tags": []
   },
   "source": [
    "<a id='1'></a>\n",
    "# 1 Introduction\n",
    "\n",
    "The objective of this notebook is to present an extensive analysis of the **K-Unity Sacco Loan Dataset** and to predict non-performing loans. The project is divided into two notebooks. This part will focus on the statistical exploration of the dataset and the other part will demonstrate stacking ensemble model building with **XGBoost**, **Catboost** and **LightGBM** along with hyperparameter optimization using Optuna.\n",
    "\n",
    "Part 2 of this project : [Churn Prediction Part2 : Triple Boost Stack+Optuna](https://www.kaggle.com/ahmedshahriarsakib/churn-prediction-part2-triple-boost-stack-optuna) \n",
    "\n",
    "Dataset Source :\n",
    "\n",
    "* [Kaggle Dataset URL](https://www.kaggle.com/blastchar/telco-customer-churn)\n",
    "* [GitHub Dataset URL](https://github.com/IBM/telco-customer-churn-on-icp4d/tree/master/data)\n",
    "\n",
    "You can also : \n",
    "* Check the **GitHub Project Repository**\n",
    "\n",
    "[![](https://img.shields.io/badge/Customer%20Churn%20Prediction-GitHub-100000?logo=github&logoColor=white)](https://github.com/ahmedshahriar/Customer-Churn-Prediction)\n",
    "\n",
    "* View the Project in **Jupyter Notebook Html**\n",
    "\n",
    "[![Open in HTML](https://img.shields.io/badge/Html-Open%20Notebook-blue?logo=HTML5)](https://nbviewer.org/github/ahmedshahriar/Customer-Churn-Prediction/blob/main/Telco-Customer-Churn-Prediction.html) \n",
    "\n",
    "* Open The GitHub Project in **Binder**\n",
    "\n",
    "[![Binder](https://mybinder.org/badge_logo.svg)](https://mybinder.org/v2/gh/ahmedshahriar/Customer-Churn-Prediction/main)\n",
    "\n",
    "* View the **Streamlit App** of this Project **Live** (**This app was featured in [Streamlit Weekly Roundup](https://discuss.streamlit.io/t/weekly-roundup-streamlit-as-a-powerpoint-google-trends-excel-file-updates-and-more/19045#finance-and-business-9)**)\n",
    "\n",
    "[![Live in Streamlit](https://static.streamlit.io/badges/streamlit_badge_black_white.svg)](https://share.streamlit.io//ahmedshahriar/Telco-Customer-Churn-Prediction-Streamlit-App/main/app.py)\n",
    "\n",
    "NB: This project also serves as my assignments for the courses below - \n",
    "1. [IBM Exploratory Data Analysis for Machine Learning](https://www.coursera.org/learn/ibm-exploratory-data-analysis-for-machine-learning?specialization=ibm-machine-learning)\n",
    "2. [IBM Supervised Machine Learning: Classification](https://www.coursera.org/learn/supervised-machine-learning-classification?specialization=ibm-machine-learning)"
   ]
  },
  {
   "cell_type": "markdown",
   "id": "d8227432",
   "metadata": {
    "id": "MeRMiJYl7aTe",
    "papermill": {
     "duration": 0.102804,
     "end_time": "2022-08-11T17:09:31.918915",
     "exception": false,
     "start_time": "2022-08-11T17:09:31.816111",
     "status": "completed"
    },
    "tags": []
   },
   "source": [
    "<a id='1.1'></a>\n",
    "\n",
    "## 1.1 Insights & Summary\n",
    "\n",
    "* Dataset mostly has categorical variables\n",
    "* Performed statistical hypothesis test based on data types to check normality, correlation and multicollinearity\n",
    "* Performed nonparametric statistical tests for the features which are not normally distributed\n",
    "* All statistical tests were performed with a 95% confidence level (i.e., p value < 0.05)"
   ]
  },
  {
   "cell_type": "markdown",
   "id": "a9650a4f",
   "metadata": {
    "id": "wwolKVP7gGxR",
    "papermill": {
     "duration": 0.102317,
     "end_time": "2022-08-11T17:09:32.123129",
     "exception": false,
     "start_time": "2022-08-11T17:09:32.020812",
     "status": "completed"
    },
    "tags": []
   },
   "source": [
    "<a id='2'></a>\n",
    "# 2 Libraries & Configurations"
   ]
  },
  {
   "cell_type": "markdown",
   "id": "4bbd7380",
   "metadata": {
    "id": "eVvheQ5sjKhJ",
    "papermill": {
     "duration": 0.10199,
     "end_time": "2022-08-11T17:09:32.330128",
     "exception": false,
     "start_time": "2022-08-11T17:09:32.228138",
     "status": "completed"
    },
    "tags": []
   },
   "source": [
    "<a id='2.1'></a>\n",
    "## 2.1 Import Libraries "
   ]
  },
  {
   "cell_type": "code",
   "execution_count": 1,
   "id": "2421fd02",
   "metadata": {
    "_kg_hide-input": true,
    "execution": {
     "iopub.execute_input": "2022-08-11T17:09:32.541920Z",
     "iopub.status.busy": "2022-08-11T17:09:32.540901Z",
     "iopub.status.idle": "2022-08-11T17:09:34.952248Z",
     "shell.execute_reply": "2022-08-11T17:09:34.951581Z",
     "shell.execute_reply.started": "2022-06-11T01:42:15.064663Z"
    },
    "id": "nWCFml3EZWbw",
    "outputId": "33c1153e-9d7b-49e2-fff5-76301a6e48b4",
    "papermill": {
     "duration": 2.520658,
     "end_time": "2022-08-11T17:09:34.952423",
     "exception": false,
     "start_time": "2022-08-11T17:09:32.431765",
     "status": "completed"
    },
    "tags": []
   },
   "outputs": [
    {
     "ename": "ImportError",
     "evalue": "cannot import name 'association' from 'scipy.stats.contingency' (C:\\Users\\Halima Nasula\\anaconda3\\lib\\site-packages\\scipy\\stats\\contingency.py)",
     "output_type": "error",
     "traceback": [
      "\u001b[1;31m---------------------------------------------------------------------------\u001b[0m",
      "\u001b[1;31mImportError\u001b[0m                               Traceback (most recent call last)",
      "\u001b[1;32m<ipython-input-1-19452e4812ee>\u001b[0m in \u001b[0;36m<module>\u001b[1;34m\u001b[0m\n\u001b[0;32m     17\u001b[0m \u001b[1;32mfrom\u001b[0m \u001b[0mcollections\u001b[0m \u001b[1;32mimport\u001b[0m \u001b[0mCounter\u001b[0m\u001b[1;33m\u001b[0m\u001b[1;33m\u001b[0m\u001b[0m\n\u001b[0;32m     18\u001b[0m \u001b[1;32mfrom\u001b[0m \u001b[0mscipy\u001b[0m \u001b[1;32mimport\u001b[0m \u001b[0mstats\u001b[0m                         \u001b[1;31m# For statistics\u001b[0m\u001b[1;33m\u001b[0m\u001b[1;33m\u001b[0m\u001b[0m\n\u001b[1;32m---> 19\u001b[1;33m \u001b[1;32mfrom\u001b[0m \u001b[0mscipy\u001b[0m\u001b[1;33m.\u001b[0m\u001b[0mstats\u001b[0m\u001b[1;33m.\u001b[0m\u001b[0mcontingency\u001b[0m \u001b[1;32mimport\u001b[0m \u001b[0massociation\u001b[0m \u001b[1;31m# upgrade scipy to use this to calculate Cramer's V\u001b[0m\u001b[1;33m\u001b[0m\u001b[1;33m\u001b[0m\u001b[0m\n\u001b[0m\u001b[0;32m     20\u001b[0m \u001b[1;33m\u001b[0m\u001b[0m\n\u001b[0;32m     21\u001b[0m \u001b[1;34m\"\"\"Plotly visualization\"\"\"\u001b[0m\u001b[1;33m\u001b[0m\u001b[1;33m\u001b[0m\u001b[0m\n",
      "\u001b[1;31mImportError\u001b[0m: cannot import name 'association' from 'scipy.stats.contingency' (C:\\Users\\Halima Nasula\\anaconda3\\lib\\site-packages\\scipy\\stats\\contingency.py)"
     ]
    }
   ],
   "source": [
    "\"\"\"Import basic modules\"\"\"\n",
    "import math\n",
    "import os\n",
    "import gc\n",
    "import random\n",
    "import pprint\n",
    "import numpy as np               # For linear algebra\n",
    "import pandas as pd              # For data manipulation\n",
    "import matplotlib.pyplot as plt  # For 2D visualization\n",
    "import seaborn as sns\n",
    "\n",
    "# Warning Libraries \n",
    "import warnings\n",
    "warnings.filterwarnings(\"ignore\")\n",
    "# warnings.simplefilter(action='ignore', category=FutureWarning)\n",
    "\n",
    "from collections import Counter\n",
    "from scipy import stats                         # For statistics\n",
    "from scipy.stats.contingency import association # upgrade scipy to use this to calculate Cramer's V\n",
    "\n",
    "\"\"\"Plotly visualization\"\"\"\n",
    "import plotly.graph_objs as go\n",
    "import plotly.express as px\n",
    "import plotly.io as pio\n",
    "from plotly.subplots import make_subplots\n",
    "from plotly.offline import init_notebook_mode, iplot\n",
    "  \n",
    "\n",
    "\"\"\"scikit-learn modules\"\"\"\n",
    "from sklearn.preprocessing import OrdinalEncoder, LabelEncoder\n",
    "from sklearn.preprocessing import PowerTransformer # convert to Gaussian-like data\n",
    "from sklearn.feature_selection import chi2\n",
    "from sklearn.metrics import matthews_corrcoef\n",
    "\n",
    "import multiprocessing\n",
    "import pickle, joblib\n",
    "\n",
    "\n",
    "from IPython.display import Markdown, display\n",
    "\n",
    "# utility function to print markdown string\n",
    "def printmd(string):\n",
    "    display(Markdown(string))\n",
    "\n",
    "\n",
    "sns.set_style('whitegrid')\n",
    "\n",
    "init_notebook_mode(connected=True) # to display plotly graph offline\n",
    "\n",
    "%matplotlib inline"
   ]
  },
  {
   "cell_type": "code",
   "execution_count": null,
   "id": "6dac5f42",
   "metadata": {
    "execution": {
     "iopub.execute_input": "2022-08-11T17:09:35.164694Z",
     "iopub.status.busy": "2022-08-11T17:09:35.163685Z",
     "iopub.status.idle": "2022-08-11T17:09:35.167698Z",
     "shell.execute_reply": "2022-08-11T17:09:35.168324Z",
     "shell.execute_reply.started": "2022-06-11T01:42:17.898412Z"
    },
    "papermill": {
     "duration": 0.112639,
     "end_time": "2022-08-11T17:09:35.168516",
     "exception": false,
     "start_time": "2022-08-11T17:09:35.055877",
     "status": "completed"
    },
    "tags": []
   },
   "outputs": [],
   "source": [
    "# customize as needed\n",
    "plt_params = {\n",
    "    # 'figure.facecolor': 'white',\n",
    "    'axes.facecolor' : 'white',\n",
    "\n",
    "    ## to set size \n",
    "    # 'legend.fontsize': 'x-large',\n",
    "    # 'figure.figsize': (15, 10),\n",
    "    # 'axes.labelsize': 'x-large',\n",
    "    # 'axes.titlesize': 'x-large',\n",
    "    # 'xtick.labelsize': 'x-large',\n",
    "    # 'ytick.labelsize': 'x-large'\n",
    "}\n",
    "\n",
    "plt.rcParams.update(plt_params)"
   ]
  },
  {
   "cell_type": "markdown",
   "id": "c4834c69",
   "metadata": {
    "id": "gXm0hYQSwJgk",
    "papermill": {
     "duration": 0.101826,
     "end_time": "2022-08-11T17:09:35.372388",
     "exception": false,
     "start_time": "2022-08-11T17:09:35.270562",
     "status": "completed"
    },
    "tags": []
   },
   "source": [
    "<a id='2.2'></a>\n",
    "## 2.2 Configurations"
   ]
  },
  {
   "cell_type": "code",
   "execution_count": null,
   "id": "08a13b88",
   "metadata": {
    "_kg_hide-input": true,
    "execution": {
     "iopub.execute_input": "2022-08-11T17:09:35.581382Z",
     "iopub.status.busy": "2022-08-11T17:09:35.580279Z",
     "iopub.status.idle": "2022-08-11T17:09:35.585622Z",
     "shell.execute_reply": "2022-08-11T17:09:35.586237Z",
     "shell.execute_reply.started": "2022-06-11T01:42:17.905021Z"
    },
    "id": "yc9tUY6mwLfM",
    "papermill": {
     "duration": 0.111446,
     "end_time": "2022-08-11T17:09:35.586423",
     "exception": false,
     "start_time": "2022-08-11T17:09:35.474977",
     "status": "completed"
    },
    "tags": []
   },
   "outputs": [],
   "source": [
    "# padding value to print left padded string\n",
    "left_padding = 21\n",
    "\n",
    "# seed value\n",
    "SEED = 42\n",
    "\n",
    "def seed_everything(seed=42):\n",
    "    random.seed(seed)\n",
    "    os.environ['PYTHONHASHSEED'] = str(seed)\n",
    "    np.random.seed(seed)\n",
    "\n",
    "seed_everything(SEED)"
   ]
  },
  {
   "cell_type": "markdown",
   "id": "4b47e739",
   "metadata": {
    "id": "8ujAsi68-1rU",
    "papermill": {
     "duration": 0.102497,
     "end_time": "2022-08-11T17:09:35.791310",
     "exception": false,
     "start_time": "2022-08-11T17:09:35.688813",
     "status": "completed"
    },
    "tags": []
   },
   "source": [
    "<a id='3'></a>\n",
    "# 3 Descriptive Analysis"
   ]
  },
  {
   "cell_type": "markdown",
   "id": "81d18d1f",
   "metadata": {
    "id": "rRHwYDQA_zDC",
    "papermill": {
     "duration": 0.101617,
     "end_time": "2022-08-11T17:09:35.995860",
     "exception": false,
     "start_time": "2022-08-11T17:09:35.894243",
     "status": "completed"
    },
    "tags": []
   },
   "source": [
    "<table>\n",
    "<thead><tr>\n",
    "<th><strong>Feature Name</strong></th>\n",
    "<th><strong>Description</strong></th>\n",
    "<th><strong>Data Type</strong></th>\n",
    "</tr>\n",
    "</thead>\n",
    "<tbody>\n",
    "<tr>\n",
    "<td>customerID</td>\n",
    "<td>Contains customer ID</td>\n",
    "<td>categorical</td>\n",
    "</tr>\n",
    "<tr>\n",
    "<td>gender</td>\n",
    "<td>whether the customer female or male</td>\n",
    "<td>categorical</td>\n",
    "</tr>\n",
    "<tr>\n",
    "<td>SeniorCitizen</td>\n",
    "<td>Whether the customer is a senior citizen or not (1, 0)</td>\n",
    "<td>numeric, int</td>\n",
    "</tr>\n",
    "<tr>\n",
    "<td>Partner</td>\n",
    "<td>Whether the customer has a partner or not (Yes, No)</td>\n",
    "<td>categorical</td>\n",
    "</tr>\n",
    "<tr>\n",
    "<td>Dependents</td>\n",
    "<td>Whether the customer has dependents or not (Yes, No)</td>\n",
    "<td>categorical</td>\n",
    "</tr>\n",
    "<tr>\n",
    "<td>tenure</td>\n",
    "<td>Number of months the customer has stayed with the company</td>\n",
    "<td>numeric, int</td>\n",
    "</tr>\n",
    "<tr>\n",
    "<td>PhoneService</td>\n",
    "<td>Whether the customer has a phone service or not (Yes, No)</td>\n",
    "<td>categorical</td>\n",
    "</tr>\n",
    "<tr>\n",
    "<td>MultipleLines</td>\n",
    "<td>Whether the customer has multiple lines r not (Yes, No, No phone service)</td>\n",
    "<td>categorical</td>\n",
    "</tr>\n",
    "<tr>\n",
    "<td>InternetService</td>\n",
    "<td>Customer’s internet service provider (DSL, Fiber optic, No)</td>\n",
    "<td>categorical</td>\n",
    "</tr>\n",
    "<tr>\n",
    "<td>OnlineSecurity</td>\n",
    "<td>Whether the customer has online security or not (Yes, No, No internet service)</td>\n",
    "<td>categorical</td>\n",
    "</tr>\n",
    "<tr>\n",
    "<td>OnlineBackup</td>\n",
    "<td>Whether the customer has online backup or not (Yes, No, No internet service)</td>\n",
    "<td>categorical</td>\n",
    "</tr>\n",
    "<tr>\n",
    "<td>DeviceProtection</td>\n",
    "<td>Whether the customer has device protection or not (Yes, No, No internet service)</td>\n",
    "<td>categorical</td>\n",
    "</tr>\n",
    "<tr>\n",
    "<td>TechSupport</td>\n",
    "<td>Whether the customer has tech support or not (Yes, No, No internet service)</td>\n",
    "<td>categorical</td>\n",
    "</tr>\n",
    "<tr>\n",
    "<td>streamingTV</td>\n",
    "<td>Whether the customer has streaming TV or not (Yes, No, No internet service)</td>\n",
    "<td>categorical</td>\n",
    "</tr>\n",
    "<tr>\n",
    "<td>streamingMovies</td>\n",
    "<td>Whether the customer has streaming movies or not (Yes, No, No internet service)</td>\n",
    "<td>categorical</td>\n",
    "</tr>\n",
    "<tr>\n",
    "<td>Contract</td>\n",
    "<td>The contract term of the customer (Month-to-month, One year, Two year)</td>\n",
    "<td>categorical</td>\n",
    "</tr>\n",
    "<tr>\n",
    "<td>PaperlessBilling</td>\n",
    "<td>Whether the customer has paperless billing or not (Yes, No)</td>\n",
    "<td>categorical</td>\n",
    "</tr>\n",
    "<tr>\n",
    "<td>PaymentMethod</td>\n",
    "<td>The customer’s payment method (Electronic check, Mailed check, Bank transfer, Credit card)</td>\n",
    "<td>categorical</td>\n",
    "</tr>\n",
    "<tr>\n",
    "<td>MonthlyCharges</td>\n",
    "<td>The amount charged to the customer monthly </td>\n",
    "<td> numeric , int</td>\n",
    "</tr>\n",
    "<tr>\n",
    "<td>TotalCharges</td>\n",
    "<td>The total amount charged to the customer </td>\n",
    "<td>object</td>\n",
    "</tr>\n",
    "<tr>\n",
    "<td>Churn</td>\n",
    "<td>Whether the customer churned or not (Yes or No)</td>\n",
    "<td>categorical</td>\n",
    "</tr>\n",
    "</tbody>\n",
    "</table>"
   ]
  },
  {
   "cell_type": "code",
   "execution_count": null,
   "id": "244e40d1",
   "metadata": {
    "execution": {
     "iopub.execute_input": "2022-08-11T17:09:36.203730Z",
     "iopub.status.busy": "2022-08-11T17:09:36.202771Z",
     "iopub.status.idle": "2022-08-11T17:09:36.293454Z",
     "shell.execute_reply": "2022-08-11T17:09:36.293962Z",
     "shell.execute_reply.started": "2022-06-11T01:42:17.920561Z"
    },
    "id": "gQIQCiJoZ4jk",
    "outputId": "2e28c5f5-8da8-4ffa-8e0c-a76402cbb2fd",
    "papermill": {
     "duration": 0.195846,
     "end_time": "2022-08-11T17:09:36.294155",
     "exception": false,
     "start_time": "2022-08-11T17:09:36.098309",
     "status": "completed"
    },
    "tags": []
   },
   "outputs": [],
   "source": [
    "#load dataset\n",
    "df_loan = pd.read_csv(r'C:\\Users\\Halima Nasula\\Downloads\\new_loan_data.csv')\n",
    "df_loan.head()"
   ]
  },
  {
   "cell_type": "code",
   "execution_count": null,
   "id": "670ce61b",
   "metadata": {
    "execution": {
     "iopub.execute_input": "2022-08-11T17:09:36.504252Z",
     "iopub.status.busy": "2022-08-11T17:09:36.503608Z",
     "iopub.status.idle": "2022-08-11T17:09:36.508959Z",
     "shell.execute_reply": "2022-08-11T17:09:36.509445Z",
     "shell.execute_reply.started": "2022-06-11T01:42:18.028504Z"
    },
    "id": "Z169W9nRk-DH",
    "outputId": "5417c74d-f267-4b53-cf9a-d34ff8cc59ce",
    "papermill": {
     "duration": 0.112704,
     "end_time": "2022-08-11T17:09:36.509615",
     "exception": false,
     "start_time": "2022-08-11T17:09:36.396911",
     "status": "completed"
    },
    "tags": []
   },
   "outputs": [],
   "source": [
    "printmd(f\"Dataset Dimension: **{df_churn.shape[0]}** rows,  **{df_churn.shape[1]}** columns\")"
   ]
  },
  {
   "cell_type": "code",
   "execution_count": null,
   "id": "d3ffd55e",
   "metadata": {
    "execution": {
     "iopub.execute_input": "2022-08-11T17:09:36.729806Z",
     "iopub.status.busy": "2022-08-11T17:09:36.729113Z",
     "iopub.status.idle": "2022-08-11T17:09:36.750049Z",
     "shell.execute_reply": "2022-08-11T17:09:36.750740Z",
     "shell.execute_reply.started": "2022-06-11T01:42:18.038064Z"
    },
    "id": "Hi8AkBmSLB_C",
    "outputId": "ebe285b8-f60c-4878-be1e-38fb5a111b5f",
    "papermill": {
     "duration": 0.137763,
     "end_time": "2022-08-11T17:09:36.750999",
     "exception": false,
     "start_time": "2022-08-11T17:09:36.613236",
     "status": "completed"
    },
    "tags": []
   },
   "outputs": [],
   "source": [
    "df_churn.info()\n",
    "\n",
    "printmd(\"<br>**DisbursedAmount** and **PercentageCompleted** should be converted to float\")"
   ]
  },
  {
   "cell_type": "markdown",
   "id": "130f841f",
   "metadata": {
    "id": "mqW68IFDOs4I",
    "papermill": {
     "duration": 0.104368,
     "end_time": "2022-08-11T17:09:36.961183",
     "exception": false,
     "start_time": "2022-08-11T17:09:36.856815",
     "status": "completed"
    },
    "tags": []
   },
   "source": [
    "<a id='3.1'></a>\n",
    "## 3.1 Checking Duplicates"
   ]
  },
  {
   "cell_type": "code",
   "execution_count": null,
   "id": "091ff787",
   "metadata": {
    "execution": {
     "iopub.execute_input": "2022-08-11T17:09:37.173931Z",
     "iopub.status.busy": "2022-08-11T17:09:37.173277Z",
     "iopub.status.idle": "2022-08-11T17:09:37.202123Z",
     "shell.execute_reply": "2022-08-11T17:09:37.201541Z",
     "shell.execute_reply.started": "2022-06-11T01:42:18.084977Z"
    },
    "id": "9YCovwjGOgIw",
    "outputId": "b44a49d0-9e55-4e2a-835c-adabc3a2c237",
    "papermill": {
     "duration": 0.136167,
     "end_time": "2022-08-11T17:09:37.202269",
     "exception": false,
     "start_time": "2022-08-11T17:09:37.066102",
     "status": "completed"
    },
    "tags": []
   },
   "outputs": [],
   "source": [
    "print('Known observations: {}\\nUnique observations: {}'.format(len(df_churn.index),len(df_churn.drop_duplicates().index)))\n",
    "\n",
    "printmd(\"**No duplicates Found!**\")"
   ]
  },
  {
   "cell_type": "markdown",
   "id": "0df8cbaf",
   "metadata": {
    "id": "7WSTCpsWzfcV",
    "papermill": {
     "duration": 0.105044,
     "end_time": "2022-08-11T17:09:37.421187",
     "exception": false,
     "start_time": "2022-08-11T17:09:37.316143",
     "status": "completed"
    },
    "tags": []
   },
   "source": [
    "#### Drop **customerID** column"
   ]
  },
  {
   "cell_type": "code",
   "execution_count": null,
   "id": "d77b5105",
   "metadata": {
    "execution": {
     "iopub.execute_input": "2022-08-11T17:09:37.635254Z",
     "iopub.status.busy": "2022-08-11T17:09:37.634327Z",
     "iopub.status.idle": "2022-08-11T17:09:37.636937Z",
     "shell.execute_reply": "2022-08-11T17:09:37.636440Z",
     "shell.execute_reply.started": "2022-06-11T01:42:18.117309Z"
    },
    "id": "AD_UbL2izdLh",
    "papermill": {
     "duration": 0.111803,
     "end_time": "2022-08-11T17:09:37.637117",
     "exception": false,
     "start_time": "2022-08-11T17:09:37.525314",
     "status": "completed"
    },
    "tags": []
   },
   "outputs": [],
   "source": [
    "del df_churn[\"Index\"]"
   ]
  },
  {
   "cell_type": "markdown",
   "id": "1f436edc",
   "metadata": {
    "id": "sq29_psFT90e",
    "papermill": {
     "duration": 0.106719,
     "end_time": "2022-08-11T17:09:37.849606",
     "exception": false,
     "start_time": "2022-08-11T17:09:37.742887",
     "status": "completed"
    },
    "tags": []
   },
   "source": [
    "<a id='3.2'></a>\n",
    "## 3.2 Summary of Categorical Features"
   ]
  },
  {
   "cell_type": "code",
   "execution_count": null,
   "id": "974d90a1",
   "metadata": {
    "execution": {
     "iopub.execute_input": "2022-08-11T17:09:38.068161Z",
     "iopub.status.busy": "2022-08-11T17:09:38.067450Z",
     "iopub.status.idle": "2022-08-11T17:09:38.119287Z",
     "shell.execute_reply": "2022-08-11T17:09:38.118715Z",
     "shell.execute_reply.started": "2022-06-11T01:42:18.125919Z"
    },
    "id": "NIQVs9dTyktt",
    "outputId": "6a854b72-8ced-4a94-f516-b5e845f9d953",
    "papermill": {
     "duration": 0.163356,
     "end_time": "2022-08-11T17:09:38.119436",
     "exception": false,
     "start_time": "2022-08-11T17:09:37.956080",
     "status": "completed"
    },
    "tags": []
   },
   "outputs": [],
   "source": [
    "df_churn.describe(include=['object']).T"
   ]
  },
  {
   "cell_type": "code",
   "execution_count": null,
   "id": "7a8c5a3d",
   "metadata": {},
   "outputs": [],
   "source": [
    "df_churn.info()"
   ]
  },
  {
   "cell_type": "code",
   "execution_count": null,
   "id": "18931560",
   "metadata": {},
   "outputs": [],
   "source": [
    "df_churn = df_churn.dropna()\n",
    "#df_churn.shape"
   ]
  },
  {
   "cell_type": "markdown",
   "id": "a58ea0f7",
   "metadata": {
    "id": "t5Q6LClEPK4j",
    "papermill": {
     "duration": 0.105233,
     "end_time": "2022-08-11T17:09:38.330877",
     "exception": false,
     "start_time": "2022-08-11T17:09:38.225644",
     "status": "completed"
    },
    "tags": []
   },
   "source": [
    "<a id='3.3'></a>\n",
    "## 3.3 Unique Values"
   ]
  },
  {
   "cell_type": "code",
   "execution_count": null,
   "id": "93f28502",
   "metadata": {
    "execution": {
     "iopub.execute_input": "2022-08-11T17:09:38.546335Z",
     "iopub.status.busy": "2022-08-11T17:09:38.545581Z",
     "iopub.status.idle": "2022-08-11T17:09:38.606030Z",
     "shell.execute_reply": "2022-08-11T17:09:38.605382Z",
     "shell.execute_reply.started": "2022-06-11T01:42:18.216116Z"
    },
    "id": "OXeM-cehOwRU",
    "outputId": "0c643334-d9f4-4fc0-8f00-eb49a2b1d6b3",
    "papermill": {
     "duration": 0.17023,
     "end_time": "2022-08-11T17:09:38.606196",
     "exception": false,
     "start_time": "2022-08-11T17:09:38.435966",
     "status": "completed"
    },
    "tags": []
   },
   "outputs": [],
   "source": [
    "printmd(\"**Unique Values By Features**\")\n",
    "for feature in df_churn.columns:\n",
    "    uniq = np.unique(df_churn[feature])\n",
    "    print(feature.ljust(left_padding),len(uniq))"
   ]
  },
  {
   "cell_type": "markdown",
   "id": "cf8d511c",
   "metadata": {
    "id": "gf4XdPZ_ZE_m",
    "papermill": {
     "duration": 0.104764,
     "end_time": "2022-08-11T17:09:38.816596",
     "exception": false,
     "start_time": "2022-08-11T17:09:38.711832",
     "status": "completed"
    },
    "tags": []
   },
   "source": [
    "<a id='4'></a>\n",
    "# 4 Data Wrangling"
   ]
  },
  {
   "cell_type": "markdown",
   "id": "e5815e0b",
   "metadata": {
    "id": "DpTz6k-ulCiQ",
    "papermill": {
     "duration": 0.105934,
     "end_time": "2022-08-11T17:09:39.029131",
     "exception": false,
     "start_time": "2022-08-11T17:09:38.923197",
     "status": "completed"
    },
    "tags": []
   },
   "source": [
    "<a id='4.1'></a>\n",
    "## 4.1 Missing Values"
   ]
  },
  {
   "cell_type": "code",
   "execution_count": null,
   "id": "7612bc7b",
   "metadata": {
    "execution": {
     "iopub.execute_input": "2022-08-11T17:09:39.247020Z",
     "iopub.status.busy": "2022-08-11T17:09:39.246374Z",
     "iopub.status.idle": "2022-08-11T17:09:39.259145Z",
     "shell.execute_reply": "2022-08-11T17:09:39.259720Z",
     "shell.execute_reply.started": "2022-06-11T01:42:18.339795Z"
    },
    "id": "Ab_aanbJdbfw",
    "outputId": "5212e283-bd3e-4106-d985-881bc42d0f10",
    "papermill": {
     "duration": 0.120236,
     "end_time": "2022-08-11T17:09:39.259896",
     "exception": false,
     "start_time": "2022-08-11T17:09:39.139660",
     "status": "completed"
    },
    "tags": []
   },
   "outputs": [],
   "source": [
    "df_churn.isna().sum()"
   ]
  },
  {
   "cell_type": "code",
   "execution_count": null,
   "id": "fba97be4",
   "metadata": {},
   "outputs": [],
   "source": [
    "df_churn.isna().sum()"
   ]
  },
  {
   "cell_type": "code",
   "execution_count": null,
   "id": "2fb1360b",
   "metadata": {
    "execution": {
     "iopub.execute_input": "2022-08-11T17:09:39.477150Z",
     "iopub.status.busy": "2022-08-11T17:09:39.476520Z",
     "iopub.status.idle": "2022-08-11T17:09:39.560973Z",
     "shell.execute_reply": "2022-08-11T17:09:39.560333Z",
     "shell.execute_reply.started": "2022-06-11T01:42:18.364396Z"
    },
    "id": "QeKVd27RYGxW",
    "outputId": "36369c49-8e59-4c6b-88a4-b176bf896440",
    "papermill": {
     "duration": 0.192871,
     "end_time": "2022-08-11T17:09:39.561155",
     "exception": false,
     "start_time": "2022-08-11T17:09:39.368284",
     "status": "completed"
    },
    "tags": []
   },
   "outputs": [],
   "source": [
    "cat_cols = set(df_churn.columns) - set(df_churn._get_numeric_data().columns)\n",
    "\n",
    "printmd(\"'**isna**' is only applicable for numerical data type<br>\")\n",
    "printmd(\"Checking missing values for object data type<br><br>\")\n",
    "\n",
    "for cat in cat_cols:\n",
    "    print(cat.ljust(left_padding), df_churn[cat].apply(lambda x:len(x.strip()) == 0 or x.strip().lower() == 'nan').sum())\n",
    "\n",
    "printmd(\"<br>TotalCharges is an object datatype, it has **11** 'nan' value\")"
   ]
  },
  {
   "cell_type": "markdown",
   "id": "84601618",
   "metadata": {
    "id": "_OZRXWVm_0Az",
    "papermill": {
     "duration": 0.108696,
     "end_time": "2022-08-11T17:09:39.780298",
     "exception": false,
     "start_time": "2022-08-11T17:09:39.671602",
     "status": "completed"
    },
    "tags": []
   },
   "source": [
    "<a id='4.1.1'></a>\n",
    "### 4.1.1 Change Data Type"
   ]
  },
  {
   "cell_type": "markdown",
   "id": "c0699e49",
   "metadata": {
    "id": "pE6o4NYczWkr",
    "papermill": {
     "duration": 0.108509,
     "end_time": "2022-08-11T17:09:40.000770",
     "exception": false,
     "start_time": "2022-08-11T17:09:39.892261",
     "status": "completed"
    },
    "tags": []
   },
   "source": [
    "Convert **DisbursedAmount**, **PercentageCompleted** to numeric"
   ]
  },
  {
   "cell_type": "code",
   "execution_count": null,
   "id": "db1d1143",
   "metadata": {},
   "outputs": [],
   "source": [
    "df_churn.head()"
   ]
  },
  {
   "cell_type": "code",
   "execution_count": null,
   "id": "a3c170ec",
   "metadata": {},
   "outputs": [],
   "source": [
    "df_churn.loc[4].unique()"
   ]
  },
  {
   "cell_type": "code",
   "execution_count": null,
   "id": "14fa1d61",
   "metadata": {},
   "outputs": [],
   "source": [
    "df_churn.info()"
   ]
  },
  {
   "cell_type": "code",
   "execution_count": null,
   "id": "f76f11c5",
   "metadata": {},
   "outputs": [],
   "source": [
    "df_churn[\"DisbursedAmount\"] = pd.to_numeric(df_churn[\"DisbursedAmount\"])"
   ]
  },
  {
   "cell_type": "code",
   "execution_count": null,
   "id": "27b7f64c",
   "metadata": {},
   "outputs": [],
   "source": [
    "df_churn[\"PercentageCompleted\"] = pd.to_numeric(df_churn[\"PercentageCompleted\"], errors = 'coerce')"
   ]
  },
  {
   "cell_type": "code",
   "execution_count": null,
   "id": "f88f8111",
   "metadata": {},
   "outputs": [],
   "source": [
    "df_churn.info()"
   ]
  },
  {
   "cell_type": "code",
   "execution_count": null,
   "id": "eec8ae75",
   "metadata": {},
   "outputs": [],
   "source": [
    "display(df_churn[df_churn.DisbursedAmount == 0].head)"
   ]
  },
  {
   "cell_type": "code",
   "execution_count": null,
   "id": "e38b3417",
   "metadata": {},
   "outputs": [],
   "source": [
    "df_churn.drop(df_churn[df_churn['DisbursedAmount'] < 10].index, inplace = True)"
   ]
  },
  {
   "cell_type": "code",
   "execution_count": null,
   "id": "8122e57f",
   "metadata": {},
   "outputs": [],
   "source": [
    "df_churn"
   ]
  },
  {
   "cell_type": "code",
   "execution_count": null,
   "id": "7bea4ef5",
   "metadata": {
    "execution": {
     "iopub.execute_input": "2022-08-11T17:09:41.902396Z",
     "iopub.status.busy": "2022-08-11T17:09:41.901442Z",
     "iopub.status.idle": "2022-08-11T17:09:41.922882Z",
     "shell.execute_reply": "2022-08-11T17:09:41.923474Z",
     "shell.execute_reply.started": "2022-06-11T01:42:18.626909Z"
    },
    "id": "VAZT02BwaN8i",
    "outputId": "968cc20e-a99c-4422-f244-2cb7135bb1b3",
    "papermill": {
     "duration": 0.143216,
     "end_time": "2022-08-11T17:09:41.923649",
     "exception": false,
     "start_time": "2022-08-11T17:09:41.780433",
     "status": "completed"
    },
    "tags": []
   },
   "outputs": [],
   "source": [
    "df_churn[['DisbursedAmount', 'OutstandingLoan', 'Terms']].describe().T"
   ]
  },
  {
   "cell_type": "markdown",
   "id": "606d743d",
   "metadata": {
    "id": "ZjTILAFir7VQ",
    "papermill": {
     "duration": 0.119509,
     "end_time": "2022-08-11T17:09:42.156155",
     "exception": false,
     "start_time": "2022-08-11T17:09:42.036646",
     "status": "completed"
    },
    "tags": []
   },
   "source": [
    "<a id='4.2'></a>\n",
    "## 4.2 Binning"
   ]
  },
  {
   "cell_type": "markdown",
   "id": "3295e3c8",
   "metadata": {
    "id": "P40Mpl6B1Frk",
    "papermill": {
     "duration": 0.112128,
     "end_time": "2022-08-11T17:09:42.396206",
     "exception": false,
     "start_time": "2022-08-11T17:09:42.284078",
     "status": "completed"
    },
    "tags": []
   },
   "source": [
    "There are numerical data types which can be ranked based on their values :\n",
    "\n",
    "* InterestRate, DisbursedAmount, Terms, OutstandingLoan, PercentageCompleted\n",
    "\n",
    "We can bin Terms into three levels : **high, medium and low**"
   ]
  },
  {
   "cell_type": "code",
   "execution_count": null,
   "id": "1a0cbc25",
   "metadata": {
    "_kg_hide-input": true,
    "execution": {
     "iopub.execute_input": "2022-08-11T17:09:42.627158Z",
     "iopub.status.busy": "2022-08-11T17:09:42.626122Z",
     "iopub.status.idle": "2022-08-11T17:09:42.634531Z",
     "shell.execute_reply": "2022-08-11T17:09:42.635131Z",
     "shell.execute_reply.started": "2022-06-11T01:42:18.672770Z"
    },
    "id": "qrSnEmF9z9GM",
    "papermill": {
     "duration": 0.125479,
     "end_time": "2022-08-11T17:09:42.635333",
     "exception": false,
     "start_time": "2022-08-11T17:09:42.509854",
     "status": "completed"
    },
    "tags": []
   },
   "outputs": [],
   "source": [
    "def binning_feature(feature):\n",
    "    plt.hist(df_churn[feature])\n",
    "\n",
    "    # set x/y labels and plot title\n",
    "    plt.xlabel(f\"{feature.title()}\")\n",
    "    plt.ylabel(\"Count\")\n",
    "    plt.title(f\"{feature.title()} Bins\")\n",
    "    plt.show()\n",
    "\n",
    "    bins = np.linspace(min(df_churn[feature]), max(df_churn[feature]), 4)\n",
    "    \n",
    "    printmd(\"**Value Range**\")\n",
    "    \n",
    "    printmd(f\"Low ({bins[0] : .2f} - {bins[1]: .2f})\")\n",
    "    printmd(f\"Medium ({bins[1]: .2f} - {bins[2]: .2f})\")\n",
    "    printmd(f\"High ({bins[2]: .2f} - {bins[3]: .2f})\")\n",
    "\n",
    "    group_names = ['Low', 'Medium', 'High']\n",
    "\n",
    "    df_churn.insert(df_churn.shape[1]-1,f'{feature}-binned', pd.cut(df_churn[feature], bins, labels=group_names, include_lowest=True))\n",
    "    display(df_churn[[feature, f'{feature}-binned']].head(10))\n",
    "\n",
    "\n",
    "    # count values\n",
    "    printmd(\"<br>**Binning Distribution**<br>\")\n",
    "    display(df_churn[f'{feature}-binned'].value_counts())\n",
    "\n",
    "\n",
    "    # plot the distribution of each bin\n",
    "    plt.bar(group_names, df_churn[f'{feature}-binned'].value_counts())\n",
    "    # px.bar(data_canada, x='year', y='pop')\n",
    "\n",
    "    # set x/y labels and plot title\n",
    "    plt.xlabel(f\"{feature.title()}\")\n",
    "    plt.ylabel(\"Count\")\n",
    "    plt.title(f\"{feature.title()} Bins\")\n",
    "    plt.show()"
   ]
  },
  {
   "cell_type": "markdown",
   "id": "e2944abc",
   "metadata": {
    "id": "MrHaPYtT0KUZ",
    "papermill": {
     "duration": 0.110024,
     "end_time": "2022-08-11T17:09:42.856858",
     "exception": false,
     "start_time": "2022-08-11T17:09:42.746834",
     "status": "completed"
    },
    "tags": []
   },
   "source": [
    "<a id='4.2.1'></a>\n",
    "### 4.2.1 Terms"
   ]
  },
  {
   "cell_type": "code",
   "execution_count": null,
   "id": "906cfa9a",
   "metadata": {
    "_kg_hide-input": true,
    "execution": {
     "iopub.execute_input": "2022-08-11T17:09:43.090555Z",
     "iopub.status.busy": "2022-08-11T17:09:43.089599Z",
     "iopub.status.idle": "2022-08-11T17:09:43.624502Z",
     "shell.execute_reply": "2022-08-11T17:09:43.623887Z",
     "shell.execute_reply.started": "2022-06-11T01:42:18.685066Z"
    },
    "id": "j3HMI4gq14QI",
    "outputId": "2883e0ce-66c6-4bf3-934c-31b5c2088fc2",
    "papermill": {
     "duration": 0.653593,
     "end_time": "2022-08-11T17:09:43.624655",
     "exception": false,
     "start_time": "2022-08-11T17:09:42.971062",
     "status": "completed"
    },
    "tags": []
   },
   "outputs": [],
   "source": [
    "binning_feature('Terms')"
   ]
  },
  {
   "cell_type": "markdown",
   "id": "948205ef",
   "metadata": {},
   "source": [
    "**Data Types Distribution after cleaning**"
   ]
  },
  {
   "cell_type": "code",
   "execution_count": null,
   "id": "60a4e616",
   "metadata": {
    "_kg_hide-input": true,
    "execution": {
     "iopub.execute_input": "2022-08-11T17:09:46.065828Z",
     "iopub.status.busy": "2022-08-11T17:09:46.065209Z",
     "iopub.status.idle": "2022-08-11T17:09:46.072168Z",
     "shell.execute_reply": "2022-08-11T17:09:46.072757Z",
     "shell.execute_reply.started": "2022-06-11T01:42:20.300927Z"
    },
    "id": "UBPiVMVRyVWJ",
    "outputId": "77252165-c0d9-4d21-f9af-7d38ca75ef57",
    "papermill": {
     "duration": 0.139043,
     "end_time": "2022-08-11T17:09:46.072927",
     "exception": false,
     "start_time": "2022-08-11T17:09:45.933884",
     "status": "completed"
    },
    "tags": []
   },
   "outputs": [],
   "source": [
    "printmd(\"**Data Types**<br>\")\n",
    "df_churn.dtypes.value_counts()"
   ]
  },
  {
   "cell_type": "code",
   "execution_count": null,
   "id": "4fc63aaa",
   "metadata": {},
   "outputs": [],
   "source": [
    "df_churn"
   ]
  },
  {
   "cell_type": "markdown",
   "id": "dbb67973",
   "metadata": {
    "id": "rrx81qSCbuCA",
    "papermill": {
     "duration": 0.127452,
     "end_time": "2022-08-11T17:09:46.327825",
     "exception": false,
     "start_time": "2022-08-11T17:09:46.200373",
     "status": "completed"
    },
    "tags": []
   },
   "source": [
    "<a id='5'></a>\n",
    "# 5 Univariate Analysis"
   ]
  },
  {
   "cell_type": "markdown",
   "id": "17873203",
   "metadata": {
    "id": "y6xfB-oqOl76",
    "papermill": {
     "duration": 0.132042,
     "end_time": "2022-08-11T17:09:46.586359",
     "exception": false,
     "start_time": "2022-08-11T17:09:46.454317",
     "status": "completed"
    },
    "tags": []
   },
   "source": [
    "<a id='5.1'></a>\n",
    "## 5.1 Statistical Normality Tests\n",
    "\n",
    "Normality tests are used to determine if a dataset is normally distributed and to check how likely it is for a random variable in the dataset to be normally distributed.\n",
    "\n",
    "Popular normality tests -  D’Agostino’s K^2, Shapiro-Wilk, Anderson-Darling .\n",
    "\n",
    "There are three numerical features in this dataset - **InterestRate, DisbursedAmount, Terms, OutstandingLoan, PercentageCompleted**\n",
    "\n",
    "\n",
    "Hypotheses -\n",
    "\n",
    "* H0: the sample has a Gaussian distribution.\n",
    "* H1: the sample does not have a Gaussian distribution.\n",
    "\n",
    "NB : we can not perform **Shapiro-Wilk Test** because sample size > 5000 and for this test p-value may not be accurate for N > 5000"
   ]
  },
  {
   "cell_type": "markdown",
   "id": "f1b13c46",
   "metadata": {
    "id": "aXhHSNGaOs1J",
    "papermill": {
     "duration": 0.128509,
     "end_time": "2022-08-11T17:09:46.843402",
     "exception": false,
     "start_time": "2022-08-11T17:09:46.714893",
     "status": "completed"
    },
    "tags": []
   },
   "source": [
    "<a id='5.1.1'></a>\n",
    "### 5.1.1 D’Agostino’s K^2 Test"
   ]
  },
  {
   "cell_type": "markdown",
   "id": "f94642c2",
   "metadata": {
    "id": "OLeBhMZ7Lpgp",
    "papermill": {
     "duration": 0.128468,
     "end_time": "2022-08-11T17:09:47.100641",
     "exception": false,
     "start_time": "2022-08-11T17:09:46.972173",
     "status": "completed"
    },
    "tags": []
   },
   "source": [
    "#### InterestRate"
   ]
  },
  {
   "cell_type": "code",
   "execution_count": null,
   "id": "5b002c4f",
   "metadata": {
    "execution": {
     "iopub.execute_input": "2022-08-11T17:09:47.361521Z",
     "iopub.status.busy": "2022-08-11T17:09:47.360767Z",
     "iopub.status.idle": "2022-08-11T17:09:47.366633Z",
     "shell.execute_reply": "2022-08-11T17:09:47.367156Z",
     "shell.execute_reply.started": "2022-06-11T01:42:20.314756Z"
    },
    "id": "0WfOSdWoyjtD",
    "outputId": "6a996fc2-414d-4393-89ea-d61c19efd801",
    "papermill": {
     "duration": 0.139061,
     "end_time": "2022-08-11T17:09:47.367328",
     "exception": false,
     "start_time": "2022-08-11T17:09:47.228267",
     "status": "completed"
    },
    "tags": []
   },
   "outputs": [],
   "source": [
    "stat, p = stats.normaltest(df_churn['InterestRate'])\n",
    "\n",
    "print('Statistics=%.5f, p=%.3f' % (stat, p))\n",
    "\n",
    "# interpret\n",
    "alpha = 0.05\n",
    "if p > alpha:\n",
    "    print('Sample looks Gaussian (fail to reject H0)')\n",
    "else:\n",
    "    print('Sample does not look Gaussian (reject H0)')"
   ]
  },
  {
   "cell_type": "markdown",
   "id": "974a3451",
   "metadata": {
    "id": "76QSwKCcLzb-",
    "papermill": {
     "duration": 0.130519,
     "end_time": "2022-08-11T17:09:47.625595",
     "exception": false,
     "start_time": "2022-08-11T17:09:47.495076",
     "status": "completed"
    },
    "tags": []
   },
   "source": [
    "#### DisbursedAmount"
   ]
  },
  {
   "cell_type": "code",
   "execution_count": null,
   "id": "eedb526c",
   "metadata": {
    "execution": {
     "iopub.execute_input": "2022-08-11T17:09:47.888271Z",
     "iopub.status.busy": "2022-08-11T17:09:47.887588Z",
     "iopub.status.idle": "2022-08-11T17:09:47.895036Z",
     "shell.execute_reply": "2022-08-11T17:09:47.894441Z",
     "shell.execute_reply.started": "2022-06-11T01:42:20.326836Z"
    },
    "id": "Je1AXz_QLlmH",
    "outputId": "0eb06c5f-f23b-467b-9602-b8b34fab9951",
    "papermill": {
     "duration": 0.140705,
     "end_time": "2022-08-11T17:09:47.895194",
     "exception": false,
     "start_time": "2022-08-11T17:09:47.754489",
     "status": "completed"
    },
    "tags": []
   },
   "outputs": [],
   "source": [
    "stat, p = stats.normaltest(df_churn['DisbursedAmount'])\n",
    "\n",
    "print('Statistics=%.5f, p=%.3f' % (stat, p))\n",
    "\n",
    "# interpret\n",
    "alpha = 0.05\n",
    "if p > alpha:\n",
    "    print('Sample looks Gaussian (fail to reject H0)')\n",
    "else:\n",
    "    print('Sample does not look Gaussian (reject H0)')"
   ]
  },
  {
   "cell_type": "markdown",
   "id": "80b6808d",
   "metadata": {},
   "source": [
    "#### Terms"
   ]
  },
  {
   "cell_type": "code",
   "execution_count": null,
   "id": "a0fca1d2",
   "metadata": {},
   "outputs": [],
   "source": [
    "stat, p = stats.normaltest(df_churn['Terms'])\n",
    "\n",
    "print('Statistics=%.5f, p=%.3f' % (stat, p))\n",
    "\n",
    "# interpret\n",
    "alpha = 0.05\n",
    "if p > alpha:\n",
    "    print('Sample looks Gaussian (fail to reject H0)')\n",
    "else:\n",
    "    print('Sample does not look Gaussian (reject H0)')"
   ]
  },
  {
   "cell_type": "markdown",
   "id": "dca81c08",
   "metadata": {},
   "source": [
    "#### OutstandingLoan"
   ]
  },
  {
   "cell_type": "code",
   "execution_count": null,
   "id": "c06f4d08",
   "metadata": {},
   "outputs": [],
   "source": [
    "stat, p = stats.normaltest(df_churn['OutstandingLoan'])\n",
    "\n",
    "print('Statistics=%.5f, p=%.3f' % (stat, p))\n",
    "\n",
    "# interpret\n",
    "alpha = 0.05\n",
    "if p > alpha:\n",
    "    print('Sample looks Gaussian (fail to reject H0)')\n",
    "else:\n",
    "    print('Sample does not look Gaussian (reject H0)')"
   ]
  },
  {
   "cell_type": "markdown",
   "id": "bd0333af",
   "metadata": {},
   "source": [
    "#### PercentageCompleted"
   ]
  },
  {
   "cell_type": "code",
   "execution_count": null,
   "id": "729bf589",
   "metadata": {},
   "outputs": [],
   "source": [
    "stat, p = stats.normaltest(df_churn['PercentageCompleted'])\n",
    "\n",
    "print('Statistics=%.5f, p=%.3f' % (stat, p))\n",
    "\n",
    "# interpret\n",
    "alpha = 0.05\n",
    "if p > alpha:\n",
    "    print('Sample looks Gaussian (fail to reject H0)')\n",
    "else:\n",
    "    print('Sample does not look Gaussian (reject H0)')"
   ]
  },
  {
   "cell_type": "markdown",
   "id": "0f8a92ce",
   "metadata": {
    "id": "Elqr7iKaOzRf",
    "papermill": {
     "duration": 0.129436,
     "end_time": "2022-08-11T17:09:48.154719",
     "exception": false,
     "start_time": "2022-08-11T17:09:48.025283",
     "status": "completed"
    },
    "tags": []
   },
   "source": [
    "<a id='5.1.2'></a>\n",
    "### 5.1.2 Anderson-Darling Test\n",
    "\n",
    "`Critical values` in a statistical test are a range of pre-defined significance boundaries at which the H0 can be failed to be rejected if the calculated statistic is less than the critical value.\n",
    "\n",
    "Rather than just a single p-value, this test returns a critical value for a **range of different commonly used significance levels**.\n",
    "\n",
    "In this case  - **normal/exponential** (15%, 10%, 5%, 2.5%, 1%)"
   ]
  },
  {
   "cell_type": "markdown",
   "id": "c478c2ec",
   "metadata": {
    "id": "vUgYAGccL3PU",
    "papermill": {
     "duration": 0.125506,
     "end_time": "2022-08-11T17:09:48.408001",
     "exception": false,
     "start_time": "2022-08-11T17:09:48.282495",
     "status": "completed"
    },
    "tags": []
   },
   "source": [
    "#### PercentageCompleted"
   ]
  },
  {
   "cell_type": "code",
   "execution_count": null,
   "id": "b845bf33",
   "metadata": {
    "execution": {
     "iopub.execute_input": "2022-08-11T17:09:48.665428Z",
     "iopub.status.busy": "2022-08-11T17:09:48.664588Z",
     "iopub.status.idle": "2022-08-11T17:09:48.674984Z",
     "shell.execute_reply": "2022-08-11T17:09:48.674467Z",
     "shell.execute_reply.started": "2022-06-11T01:42:20.345450Z"
    },
    "id": "aduu4IP3NICy",
    "outputId": "7fc502c0-538e-47d7-aadf-8ea8012c41dc",
    "papermill": {
     "duration": 0.139699,
     "end_time": "2022-08-11T17:09:48.675145",
     "exception": false,
     "start_time": "2022-08-11T17:09:48.535446",
     "status": "completed"
    },
    "tags": []
   },
   "outputs": [],
   "source": [
    "result = stats.anderson(df_churn['PercentageCompleted'])\n",
    "\n",
    "print('Statistic: %.3f' % result.statistic)\n",
    "\n",
    "p = 0\n",
    "\n",
    "for i in range(len(result.critical_values)):\n",
    "    sl, cv = result.significance_level[i], result.critical_values[i]\n",
    "    if result.statistic < result.critical_values[i]:\n",
    "        print(f'Significance level {sl:.2f} % : critical value {cv:.3f}, data looks normal (fail to reject H0)')\n",
    "    else:\n",
    "        print(f'Significance level {sl:.2f} % : critical value {cv:.3f}, data does not look normal (reject H0)')"
   ]
  },
  {
   "cell_type": "code",
   "execution_count": null,
   "id": "ef0717bf",
   "metadata": {
    "execution": {
     "iopub.execute_input": "2022-08-11T17:09:48.938475Z",
     "iopub.status.busy": "2022-08-11T17:09:48.937773Z",
     "iopub.status.idle": "2022-08-11T17:09:48.961139Z",
     "shell.execute_reply": "2022-08-11T17:09:48.961693Z",
     "shell.execute_reply.started": "2022-06-11T01:42:20.370420Z"
    },
    "id": "Ysk_QKHbcqwh",
    "outputId": "e8cc45c7-9f3c-4fd9-e394-e1d9c14d0161",
    "papermill": {
     "duration": 0.157646,
     "end_time": "2022-08-11T17:09:48.961868",
     "exception": false,
     "start_time": "2022-08-11T17:09:48.804222",
     "status": "completed"
    },
    "tags": []
   },
   "outputs": [],
   "source": [
    "df_churn.head(3)"
   ]
  },
  {
   "cell_type": "markdown",
   "id": "4a05aabc",
   "metadata": {
    "id": "n4RnMGZ59waV",
    "papermill": {
     "duration": 0.133469,
     "end_time": "2022-08-11T17:09:49.224962",
     "exception": false,
     "start_time": "2022-08-11T17:09:49.091493",
     "status": "completed"
    },
    "tags": []
   },
   "source": [
    "<a id='5.2'></a>\n",
    "## 5.2 Visualization"
   ]
  },
  {
   "cell_type": "markdown",
   "id": "f889910b",
   "metadata": {
    "id": "zuw0h7YeJslP",
    "papermill": {
     "duration": 0.128733,
     "end_time": "2022-08-11T17:09:49.482304",
     "exception": false,
     "start_time": "2022-08-11T17:09:49.353571",
     "status": "completed"
    },
    "tags": []
   },
   "source": [
    "### Default (Target) Distribution"
   ]
  },
  {
   "cell_type": "code",
   "execution_count": null,
   "id": "ba4b570a",
   "metadata": {
    "_kg_hide-input": true,
    "execution": {
     "iopub.execute_input": "2022-08-11T17:09:49.774357Z",
     "iopub.status.busy": "2022-08-11T17:09:49.773599Z",
     "iopub.status.idle": "2022-08-11T17:09:50.896403Z",
     "shell.execute_reply": "2022-08-11T17:09:50.895723Z",
     "shell.execute_reply.started": "2022-06-11T01:42:20.403711Z"
    },
    "id": "eyJhtTE8c8qP",
    "outputId": "82a071b1-8e22-4a6e-b01c-3964c6c80272",
    "papermill": {
     "duration": 1.284521,
     "end_time": "2022-08-11T17:09:50.896573",
     "exception": false,
     "start_time": "2022-08-11T17:09:49.612052",
     "status": "completed"
    },
    "tags": []
   },
   "outputs": [],
   "source": [
    "fig = px.pie(df_churn['cluster'].value_counts().reset_index().rename(columns={'index':'Type'}), values='cluster', names='Type', title='cluster (Target) Distribution')\n",
    "fig.update_traces(textposition='inside', textinfo='percent+label')\n",
    "fig.show()\n",
    "printmd(\"### Cluster distribution is Imbalanced\")"
   ]
  },
  {
   "cell_type": "markdown",
   "id": "3c12d42d",
   "metadata": {
    "id": "YoYo4zb_JxUp",
    "papermill": {
     "duration": 0.138684,
     "end_time": "2022-08-11T17:09:51.173792",
     "exception": false,
     "start_time": "2022-08-11T17:09:51.035108",
     "status": "completed"
    },
    "tags": []
   },
   "source": [
    "### Gender, MaritalStatus, Occupation"
   ]
  },
  {
   "cell_type": "code",
   "execution_count": null,
   "id": "ff41fa75",
   "metadata": {
    "_kg_hide-input": true,
    "execution": {
     "iopub.execute_input": "2022-08-11T17:09:51.461024Z",
     "iopub.status.busy": "2022-08-11T17:09:51.455626Z",
     "iopub.status.idle": "2022-08-11T17:09:51.516694Z",
     "shell.execute_reply": "2022-08-11T17:09:51.517199Z",
     "shell.execute_reply.started": "2022-06-11T01:42:21.692225Z"
    },
    "id": "2ofgrHxhbzVR",
    "outputId": "560e86f0-2f42-4d6e-f3f1-10dc03a5747a",
    "papermill": {
     "duration": 0.206372,
     "end_time": "2022-08-11T17:09:51.517394",
     "exception": false,
     "start_time": "2022-08-11T17:09:51.311022",
     "status": "completed"
    },
    "tags": []
   },
   "outputs": [],
   "source": [
    "# Create subplots: use 'domain' type for Pie subplot\n",
    "fig = make_subplots(rows=2, cols=2, specs=[[{'type':'domain'}, {'type':'domain'}],[{'type':'domain'}, {'type':'domain'}]])\n",
    "\n",
    "fig.add_trace(go.Pie(labels=df_churn['Gender'].value_counts().index, values=df_churn['Gender'].value_counts().values, name=\"Gender\"),\n",
    "              1, 1)\n",
    "fig.add_trace(go.Pie(labels=df_churn['MaritalStatus'].value_counts().index, values=df_churn['MaritalStatus'].value_counts().values, name=\"Marital Status\"),\n",
    "              1, 2)\n",
    "fig.add_trace(go.Pie(labels=df_churn['Occupation'].value_counts().index, values=df_churn['Occupation'].value_counts().values, name=\"Occupation\"),\n",
    "              2, 1)\n",
    "#fig.add_trace(go.Pie(labels=df_churn['TechSupport'].value_counts().index, values=df_churn['TechSupport'].value_counts().values, name=\"Tech Support\"),\n",
    "#              2, 2)\n",
    "\n",
    "# donut-like pie chart\n",
    "fig.update_traces(hole=.5, hoverinfo=\"label+percent\")\n",
    "\n",
    "fig.update_layout(\n",
    "\n",
    "    # Add annotations in the center of the donut pies.\n",
    "    annotations=[dict(text='Gender', x=0.195, y=0.85, font_size=20, showarrow=False),\n",
    "                 dict(text='Marital<br>Status', x=0.804, y=0.86, font_size=20, showarrow=False),\n",
    "                 dict(text='Occupation', x=0.192, y=0.18, font_size=20, showarrow=False)])\n",
    "fig.update_layout(margin=dict(t=0, b=0, l=0, r=0))\n",
    "fig.show()\n",
    "\n",
    "\n",
    "\n",
    "printmd(\"### Gender and Occupation have a similar distribution\")"
   ]
  },
  {
   "cell_type": "markdown",
   "id": "870943c2",
   "metadata": {
    "id": "DAUr6HlSJ7Pe",
    "papermill": {
     "duration": 0.144832,
     "end_time": "2022-08-11T17:09:51.806602",
     "exception": false,
     "start_time": "2022-08-11T17:09:51.661770",
     "status": "completed"
    },
    "tags": []
   },
   "source": [
    "### Terms-binned"
   ]
  },
  {
   "cell_type": "code",
   "execution_count": null,
   "id": "75a4a7e5",
   "metadata": {
    "_kg_hide-input": true,
    "execution": {
     "iopub.execute_input": "2022-08-11T17:09:52.106794Z",
     "iopub.status.busy": "2022-08-11T17:09:52.105720Z",
     "iopub.status.idle": "2022-08-11T17:09:52.156545Z",
     "shell.execute_reply": "2022-08-11T17:09:52.157078Z",
     "shell.execute_reply.started": "2022-06-11T01:42:21.767817Z"
    },
    "id": "to1kUFayb-0u",
    "outputId": "1f4a4899-fa34-4d36-9609-2534deb5c36d",
    "papermill": {
     "duration": 0.205286,
     "end_time": "2022-08-11T17:09:52.157263",
     "exception": false,
     "start_time": "2022-08-11T17:09:51.951977",
     "status": "completed"
    },
    "tags": []
   },
   "outputs": [],
   "source": [
    "display(px.pie(df_churn['Terms-binned'].value_counts().reset_index().rename(columns={'index':'Type'}), values='Terms-binned', names='Type', title='Terms Distribution'))\n",
    "\n",
    "printmd(\"#### Majority of the customers take low term loans\")"
   ]
  },
  {
   "cell_type": "markdown",
   "id": "af3bd3ec",
   "metadata": {
    "id": "X1Ny_zQjJ94S",
    "papermill": {
     "duration": 0.148933,
     "end_time": "2022-08-11T17:09:52.455295",
     "exception": false,
     "start_time": "2022-08-11T17:09:52.306362",
     "status": "completed"
    },
    "tags": []
   },
   "source": [
    "### Gender"
   ]
  },
  {
   "cell_type": "code",
   "execution_count": null,
   "id": "ce664310",
   "metadata": {
    "_kg_hide-input": true,
    "execution": {
     "iopub.execute_input": "2022-08-11T17:09:52.767101Z",
     "iopub.status.busy": "2022-08-11T17:09:52.765268Z",
     "iopub.status.idle": "2022-08-11T17:09:53.104445Z",
     "shell.execute_reply": "2022-08-11T17:09:53.104977Z",
     "shell.execute_reply.started": "2022-06-11T01:42:21.830145Z"
    },
    "id": "-w0lNo_wlcqx",
    "outputId": "a21fcb70-63d4-4912-8e26-0c5784639e22",
    "papermill": {
     "duration": 0.498333,
     "end_time": "2022-08-11T17:09:53.105184",
     "exception": false,
     "start_time": "2022-08-11T17:09:52.606851",
     "status": "completed"
    },
    "tags": []
   },
   "outputs": [],
   "source": [
    "sns.catplot(x=\"Gender\", kind=\"count\", data=df_churn)\n",
    "plt.show()\n",
    "\n",
    "printmd(\"#### There is a significantly larger number of men\")"
   ]
  },
  {
   "cell_type": "markdown",
   "id": "1ed93350",
   "metadata": {},
   "source": [
    "#### PercentageCompleted"
   ]
  },
  {
   "cell_type": "code",
   "execution_count": null,
   "id": "a43d8590",
   "metadata": {},
   "outputs": [],
   "source": [
    "sns.boxplot(x=df_churn[\"PercentageCompleted\"])\n",
    "plt.show()\n",
    "\n",
    "printmd(\"#### The PercentageCompleted is around 25% for majority of the customers\")"
   ]
  },
  {
   "cell_type": "markdown",
   "id": "173e3c64",
   "metadata": {
    "id": "M3CDyFY6Kd1U",
    "papermill": {
     "duration": 0.156326,
     "end_time": "2022-08-11T17:09:58.175560",
     "exception": false,
     "start_time": "2022-08-11T17:09:58.019234",
     "status": "completed"
    },
    "tags": []
   },
   "source": [
    "### Numerical Features"
   ]
  },
  {
   "cell_type": "code",
   "execution_count": null,
   "id": "0cff722e",
   "metadata": {
    "_kg_hide-input": true,
    "execution": {
     "iopub.execute_input": "2022-08-11T17:09:58.492679Z",
     "iopub.status.busy": "2022-08-11T17:09:58.487121Z",
     "iopub.status.idle": "2022-08-11T17:09:58.494591Z",
     "shell.execute_reply": "2022-08-11T17:09:58.495137Z",
     "shell.execute_reply.started": "2022-06-11T01:42:23.857075Z"
    },
    "id": "9zOdkRmGOPyM",
    "papermill": {
     "duration": 0.166072,
     "end_time": "2022-08-11T17:09:58.495307",
     "exception": false,
     "start_time": "2022-08-11T17:09:58.329235",
     "status": "completed"
    },
    "tags": []
   },
   "outputs": [],
   "source": [
    "\"\"\"#1.Create a function to plot histogram and density plot.\"\"\"\n",
    "def plot_histogram(feature):\n",
    "    \"\"\"Plots histogram and density plot of a variable.\"\"\"\n",
    "    \n",
    "    # Create subplot object\n",
    "    fig = make_subplots(\n",
    "        rows=2,\n",
    "        cols=1,\n",
    "        print_grid=False,\n",
    "    subplot_titles=(f\"Distribution of {feature.name} with Histogram\", f\"Distribution of {feature.name} with Density Plot\"))\n",
    "    \n",
    "    # This is a count histogram\n",
    "    fig.add_trace(\n",
    "        go.Histogram(\n",
    "            x = feature,\n",
    "            hoverinfo=\"x+y\"\n",
    "        ),\n",
    "    row=1,col=1)\n",
    "\n",
    "    # This is a density histogram\n",
    "    fig.add_trace(\n",
    "        go.Histogram(\n",
    "            x = feature,\n",
    "            hoverinfo=\"x+y\",\n",
    "            histnorm = \"density\"\n",
    "        ),\n",
    "    row=2,col=1)\n",
    "    \n",
    "    # Update layout\n",
    "    fig.layout.update(\n",
    "        height=800, \n",
    "        width=870,\n",
    "        hovermode=\"closest\"\n",
    "        )\n",
    "    \n",
    "    # Update axes\n",
    "    fig.layout.yaxis1.update(title=\"<b>Abs Frequency</b>\")\n",
    "    fig.layout.yaxis2.update(title=\"<b>Density(%)</b>\")\n",
    "    fig.layout.xaxis2.update(title=f\"<b>{feature.name}</b>\")\n",
    "    return fig.show()"
   ]
  },
  {
   "cell_type": "code",
   "execution_count": null,
   "id": "6ad1f59e",
   "metadata": {
    "_kg_hide-input": true,
    "execution": {
     "iopub.execute_input": "2022-08-11T17:09:58.812178Z",
     "iopub.status.busy": "2022-08-11T17:09:58.811177Z",
     "iopub.status.idle": "2022-08-11T17:09:58.891881Z",
     "shell.execute_reply": "2022-08-11T17:09:58.891315Z",
     "shell.execute_reply.started": "2022-06-11T01:42:23.869833Z"
    },
    "id": "IqH9zuDUboYb",
    "outputId": "1a5c654f-5d54-40a2-ceb9-1164171f2495",
    "papermill": {
     "duration": 0.243298,
     "end_time": "2022-08-11T17:09:58.892044",
     "exception": false,
     "start_time": "2022-08-11T17:09:58.648746",
     "status": "completed"
    },
    "tags": []
   },
   "outputs": [],
   "source": [
    "plot_histogram(df_churn['Terms'])"
   ]
  },
  {
   "cell_type": "code",
   "execution_count": null,
   "id": "877f7f9d",
   "metadata": {
    "_kg_hide-input": true,
    "execution": {
     "iopub.execute_input": "2022-08-11T17:09:59.285038Z",
     "iopub.status.busy": "2022-08-11T17:09:59.284295Z",
     "iopub.status.idle": "2022-08-11T17:09:59.339215Z",
     "shell.execute_reply": "2022-08-11T17:09:59.338647Z",
     "shell.execute_reply.started": "2022-06-11T01:42:23.955865Z"
    },
    "id": "lKFCigpoa3bq",
    "outputId": "35f19340-46a5-446f-d5f2-baefe35acdf8",
    "papermill": {
     "duration": 0.255707,
     "end_time": "2022-08-11T17:09:59.339366",
     "exception": false,
     "start_time": "2022-08-11T17:09:59.083659",
     "status": "completed"
    },
    "tags": []
   },
   "outputs": [],
   "source": [
    "plot_histogram(df_churn['InterestRate'])"
   ]
  },
  {
   "cell_type": "code",
   "execution_count": null,
   "id": "1b137529",
   "metadata": {
    "_kg_hide-input": true,
    "execution": {
     "iopub.execute_input": "2022-08-11T17:09:59.808172Z",
     "iopub.status.busy": "2022-08-11T17:09:59.807467Z",
     "iopub.status.idle": "2022-08-11T17:09:59.867014Z",
     "shell.execute_reply": "2022-08-11T17:09:59.866457Z",
     "shell.execute_reply.started": "2022-06-11T01:42:24.019034Z"
    },
    "id": "JqLNAlDUUGKn",
    "outputId": "05bf6a16-e84b-4c23-ba55-d4e135431556",
    "papermill": {
     "duration": 0.294989,
     "end_time": "2022-08-11T17:09:59.867162",
     "exception": false,
     "start_time": "2022-08-11T17:09:59.572173",
     "status": "completed"
    },
    "tags": []
   },
   "outputs": [],
   "source": [
    "plot_histogram(df_churn['DisbursedAmount'])"
   ]
  },
  {
   "cell_type": "code",
   "execution_count": null,
   "id": "0a34b484",
   "metadata": {},
   "outputs": [],
   "source": [
    "plot_histogram(df_churn['PercentageCompleted'])"
   ]
  },
  {
   "cell_type": "markdown",
   "id": "d2721dc0",
   "metadata": {
    "id": "d9SrbbM7erS5",
    "papermill": {
     "duration": 0.278296,
     "end_time": "2022-08-11T17:10:00.428072",
     "exception": false,
     "start_time": "2022-08-11T17:10:00.149776",
     "status": "completed"
    },
    "tags": []
   },
   "source": [
    "<a id='6'></a>\n",
    "# 6 Bivariate Analysis\n",
    "\n",
    "In this section, I did an extensive statistical analysis with various hypotheses testing based on paired data types - \n",
    "\n",
    "* numerical and numerical data\n",
    "* numerical and ordinal data\n",
    "* ordinal and ordinal data\n",
    "* categorical and categorical data\n",
    "\n",
    "\n",
    "#### General Hypotheses - \n",
    "\n",
    "* **H0: the two samples are independent**\n",
    "* **H1: there is a dependency between the samples**"
   ]
  },
  {
   "cell_type": "markdown",
   "id": "23119ee6",
   "metadata": {
    "id": "aX1yV4X_AGz8",
    "papermill": {
     "duration": 0.27668,
     "end_time": "2022-08-11T17:10:00.981395",
     "exception": false,
     "start_time": "2022-08-11T17:10:00.704715",
     "status": "completed"
    },
    "tags": []
   },
   "source": [
    "<a id='6.1'></a>\n",
    "## 6.1 List Feature Based on Types"
   ]
  },
  {
   "cell_type": "code",
   "execution_count": null,
   "id": "5cf24830",
   "metadata": {},
   "outputs": [],
   "source": [
    "df_churn.head()"
   ]
  },
  {
   "cell_type": "code",
   "execution_count": null,
   "id": "f49850a3",
   "metadata": {
    "_kg_hide-input": true,
    "_kg_hide-output": true,
    "execution": {
     "iopub.execute_input": "2022-08-11T17:10:01.548229Z",
     "iopub.status.busy": "2022-08-11T17:10:01.547468Z",
     "iopub.status.idle": "2022-08-11T17:10:01.582126Z",
     "shell.execute_reply": "2022-08-11T17:10:01.582664Z",
     "shell.execute_reply.started": "2022-06-11T01:42:24.085149Z"
    },
    "id": "C7hc_5Lq7l2g",
    "outputId": "16173f74-33af-46bc-ac78-2b589b12355a",
    "papermill": {
     "duration": 0.323215,
     "end_time": "2022-08-11T17:10:01.582845",
     "exception": false,
     "start_time": "2022-08-11T17:10:01.259630",
     "status": "completed"
    },
    "tags": []
   },
   "outputs": [],
   "source": [
    "# Check cardinality of categorical variables \n",
    "target_col_filter = df_churn.loc[:, df_churn.columns != 'cluster']\n",
    "\n",
    "\n",
    "cat_cols = list(set(target_col_filter.columns) - set(target_col_filter._get_numeric_data().columns))\n",
    "num_cols = list(set(target_col_filter._get_numeric_data().columns))\n",
    "\n",
    "\n",
    "# Get number of unique entries in each column with categorical data\n",
    "object_nunique = list(map(lambda col: target_col_filter[col].nunique(), cat_cols))\n",
    "dict_features_by_col = dict(zip(cat_cols, object_nunique))\n",
    "\n",
    "\n",
    "# Print number of unique entries by column, in ascending order\n",
    "print(sorted(dict_features_by_col.items(), key=lambda x: x[1]))\n",
    "\n",
    "\n",
    "ordinal_cols = ['cluster']\n",
    "dichotomous_cols = [cat for cat in cat_cols if df_churn[cat].value_counts().count() == 2]\n",
    "polytomous_cols = list(set(cat_cols) - set(dichotomous_cols) - set(ordinal_cols))\n",
    "\n",
    "\n",
    "print(\"Categorical Columns\".ljust(left_padding), cat_cols)\n",
    "\n",
    "print(\"Numerical Columns\".ljust(left_padding), num_cols)\n",
    "\n",
    "print(\"Ordinal Columns\".ljust(left_padding), ordinal_cols)\n",
    "\n",
    "print(\"Dichotomous Columns\".ljust(left_padding), dichotomous_cols)\n",
    "\n",
    "print(\"Polytomous Columns\".ljust(left_padding), polytomous_cols)\n"
   ]
  },
  {
   "cell_type": "markdown",
   "id": "0fc57786",
   "metadata": {
    "id": "_zgb21U5dNE5",
    "papermill": {
     "duration": 0.275414,
     "end_time": "2022-08-11T17:10:02.136036",
     "exception": false,
     "start_time": "2022-08-11T17:10:01.860622",
     "status": "completed"
    },
    "tags": []
   },
   "source": [
    "**Categorical Columns**\n",
    "> 'MaritalStatus', 'Terms-binned', 'Gender', 'Occupation'\n",
    "\n",
    "**Numerical Columns**\n",
    "> 'PercentageCompleted', 'InterestRate', 'Terms', 'DisbursedAmount', 'OutstandingLoan'\n",
    "\n",
    "**Ordinal Columns**\n",
    "> 'cluster'\n",
    "\n",
    "**Dichotomous Columns**\n",
    "> None\n",
    "\n",
    "**Polytomous Columns**\n",
    "> 'MaritalStatus', 'Terms-binned', 'Gender', 'Occupation'"
   ]
  },
  {
   "cell_type": "markdown",
   "id": "bce70413",
   "metadata": {
    "id": "QsbcqTp78Ykd",
    "papermill": {
     "duration": 0.280625,
     "end_time": "2022-08-11T17:10:02.693015",
     "exception": false,
     "start_time": "2022-08-11T17:10:02.412390",
     "status": "completed"
    },
    "tags": []
   },
   "source": [
    "<a id='6.2'></a>\n",
    "## 6.2 Numerical & Numerical"
   ]
  },
  {
   "cell_type": "markdown",
   "id": "bf6c3fb8",
   "metadata": {
    "id": "lgOEVgddf2S4",
    "papermill": {
     "duration": 0.277747,
     "end_time": "2022-08-11T17:10:03.249276",
     "exception": false,
     "start_time": "2022-08-11T17:10:02.971529",
     "status": "completed"
    },
    "tags": []
   },
   "source": [
    "<a id='6.2.1'></a>\n",
    "### 6.2.1 Spearman rank-order correlation\n",
    "---\n",
    "AKA Spearman's rho or Spearman correlation coefficient\n",
    "\n",
    "\n",
    "Applied to **Continuous or ordinal** variable\n",
    "\n",
    "<br>\n",
    "\n",
    "For Pearson r correlation, both variables should be normally distributed\n",
    "According to the normality ______ columns are **not normally distributed** \n",
    "\n",
    "**Unlike the Pearson correlation**, the Spearman correlation does not assume that both datasets are **normally distributed**\n",
    "\n",
    "Pearson correlation assumes normality, linearity and homoscedasticity. Pearson's correlation is also unable to tell the difference between dependent and independent variables\n",
    "\n",
    "Hypotheses -\n",
    "\n",
    "* **H0: the two samples do not have monotonic relationship**\n",
    "* **H1: there is a monotonic relationship between the samples**"
   ]
  },
  {
   "cell_type": "code",
   "execution_count": null,
   "id": "318f9b5d",
   "metadata": {
    "execution": {
     "iopub.execute_input": "2022-08-11T17:10:03.857294Z",
     "iopub.status.busy": "2022-08-11T17:10:03.856616Z",
     "iopub.status.idle": "2022-08-11T17:10:03.861030Z",
     "shell.execute_reply": "2022-08-11T17:10:03.861556Z",
     "shell.execute_reply.started": "2022-06-11T01:42:24.138912Z"
    },
    "id": "m9K7TXkg2G7x",
    "papermill": {
     "duration": 0.335878,
     "end_time": "2022-08-11T17:10:03.861735",
     "exception": false,
     "start_time": "2022-08-11T17:10:03.525857",
     "status": "completed"
    },
    "tags": []
   },
   "outputs": [],
   "source": [
    "def cal_spearmanr(c1, c2):\n",
    "\n",
    "    alpha = 0.05\n",
    "\n",
    "    correlation, p_value = stats.spearmanr(df_churn[c1], df_churn[c2])\n",
    "\n",
    "    print(f'{c1}, {c2} correlation : {correlation}, p : {p_value}')\n",
    "\n",
    "    if p_value > alpha:\n",
    "        print('Probably do not have monotonic relationship (fail to reject H0)')\n",
    "    else:\n",
    "        print('Probably have monotonic relationship (reject H0)')"
   ]
  },
  {
   "cell_type": "code",
   "execution_count": null,
   "id": "831ab0cc",
   "metadata": {
    "execution": {
     "iopub.execute_input": "2022-08-11T17:10:04.456819Z",
     "iopub.status.busy": "2022-08-11T17:10:04.455763Z",
     "iopub.status.idle": "2022-08-11T17:10:04.466274Z",
     "shell.execute_reply": "2022-08-11T17:10:04.465685Z",
     "shell.execute_reply.started": "2022-06-11T01:42:24.146705Z"
    },
    "id": "aq-suZ8D5R-T",
    "outputId": "c29c23c7-3e43-4c78-c7d2-7c3e4e7d0fc2",
    "papermill": {
     "duration": 0.299969,
     "end_time": "2022-08-11T17:10:04.466427",
     "exception": false,
     "start_time": "2022-08-11T17:10:04.166458",
     "status": "completed"
    },
    "tags": []
   },
   "outputs": [],
   "source": [
    "cal_spearmanr('PercentageCompleted', 'InterestRate')"
   ]
  },
  {
   "cell_type": "code",
   "execution_count": null,
   "id": "1f4ffcfc",
   "metadata": {
    "execution": {
     "iopub.execute_input": "2022-08-11T17:10:05.026948Z",
     "iopub.status.busy": "2022-08-11T17:10:05.025864Z",
     "iopub.status.idle": "2022-08-11T17:10:05.032266Z",
     "shell.execute_reply": "2022-08-11T17:10:05.032775Z",
     "shell.execute_reply.started": "2022-06-11T01:42:24.165939Z"
    },
    "id": "nhbpXurW3-XE",
    "outputId": "9bcfdbd3-8376-415d-8396-94b9c746465d",
    "papermill": {
     "duration": 0.287145,
     "end_time": "2022-08-11T17:10:05.032953",
     "exception": false,
     "start_time": "2022-08-11T17:10:04.745808",
     "status": "completed"
    },
    "tags": []
   },
   "outputs": [],
   "source": [
    "cal_spearmanr('PercentageCompleted', 'Terms')"
   ]
  },
  {
   "cell_type": "code",
   "execution_count": null,
   "id": "9a54fc96",
   "metadata": {
    "execution": {
     "iopub.execute_input": "2022-08-11T17:10:05.590558Z",
     "iopub.status.busy": "2022-08-11T17:10:05.589143Z",
     "iopub.status.idle": "2022-08-11T17:10:05.596577Z",
     "shell.execute_reply": "2022-08-11T17:10:05.597241Z",
     "shell.execute_reply.started": "2022-06-11T01:42:24.177971Z"
    },
    "id": "C69dxqmsfebC",
    "outputId": "e15fa818-4ae1-4fa9-d5ae-c81074333333",
    "papermill": {
     "duration": 0.287338,
     "end_time": "2022-08-11T17:10:05.597434",
     "exception": false,
     "start_time": "2022-08-11T17:10:05.310096",
     "status": "completed"
    },
    "tags": []
   },
   "outputs": [],
   "source": [
    "cal_spearmanr('PercentageCompleted','DisbursedAmount')"
   ]
  },
  {
   "cell_type": "code",
   "execution_count": null,
   "id": "217d9625",
   "metadata": {},
   "outputs": [],
   "source": [
    "cal_spearmanr('InterestRate','DisbursedAmount')"
   ]
  },
  {
   "cell_type": "code",
   "execution_count": null,
   "id": "ee030313",
   "metadata": {},
   "outputs": [],
   "source": [
    "cal_spearmanr('Terms','DisbursedAmount')"
   ]
  },
  {
   "cell_type": "markdown",
   "id": "9acb85ae",
   "metadata": {
    "id": "_hKN9HIR8dX7",
    "papermill": {
     "duration": 0.274103,
     "end_time": "2022-08-11T17:10:06.149634",
     "exception": false,
     "start_time": "2022-08-11T17:10:05.875531",
     "status": "completed"
    },
    "tags": []
   },
   "source": [
    "<a id='6.3'></a>\n",
    "## 6.3 Numerical & Categorical"
   ]
  },
  {
   "cell_type": "markdown",
   "id": "c1286814",
   "metadata": {
    "id": "dmpu2-6Sh9-5",
    "papermill": {
     "duration": 0.274662,
     "end_time": "2022-08-11T17:10:06.697697",
     "exception": false,
     "start_time": "2022-08-11T17:10:06.423035",
     "status": "completed"
    },
    "tags": []
   },
   "source": [
    "<a id='6.3.1'></a>\n",
    "### 6.3.1 Kendall rank correlation coefficient \n",
    "---\n",
    "AKA **Kendall's τ** or **Kendall's Tau**\n",
    "\n",
    "Kendall’s Tau is often used for correlation on continuous data if there are outliers in the data\n",
    "\n",
    "A τ test is a non-parametric hypothesis test for statistical dependence based on the τ coefficient\n",
    "\n",
    "Variable would be **continuous or ordinal**\n",
    "\n",
    "Ordinal variable examples - \n",
    "* education level (GDE/Bachelors/Masters/PhD), income level (if grouped into high/medium/low) etc\n",
    "\n",
    "In this dataset there are two ordinal features : \n",
    "* **Terms-binned** \n",
    "* **cluster**"
   ]
  },
  {
   "cell_type": "markdown",
   "id": "3e37535a",
   "metadata": {
    "execution": {
     "iopub.execute_input": "2022-08-11T17:10:07.256165Z",
     "iopub.status.busy": "2022-08-11T17:10:07.255408Z",
     "iopub.status.idle": "2022-08-11T17:10:07.259919Z",
     "shell.execute_reply": "2022-08-11T17:10:07.260468Z",
     "shell.execute_reply.started": "2022-06-11T01:42:24.192091Z"
    },
    "id": "HfoSkx0WgbpE",
    "papermill": {
     "duration": 0.285241,
     "end_time": "2022-08-11T17:10:07.260665",
     "exception": false,
     "start_time": "2022-08-11T17:10:06.975424",
     "status": "completed"
    },
    "tags": []
   },
   "source": [
    "def kendall_rank_correlation(feature1, feature2):\n",
    "\n",
    "    coef, p_value = stats.kendalltau(df_churn[feature1], df_churn[feature2])\n",
    "    print(f\"Correlation between {feature1} and {feature2} \")\n",
    "    print('Kendall correlation coefficient = %.5f, p = %.5f' % (coef, p_value))\n",
    "\n",
    "    # interpret the significance\n",
    "    alpha = 0.05\n",
    "    if p_value > alpha:\n",
    "        print('Samples are uncorrelated (fail to reject H0) p=%.3f' % p_value)\n",
    "    else:\n",
    "        print('Samples are correlated (reject H0) p=%.3f' % p_value)\n",
    "    print('----\\n')"
   ]
  },
  {
   "cell_type": "markdown",
   "id": "04e5cdb8",
   "metadata": {
    "execution": {
     "iopub.execute_input": "2022-08-11T17:10:07.814416Z",
     "iopub.status.busy": "2022-08-11T17:10:07.813776Z",
     "iopub.status.idle": "2022-08-11T17:10:07.912001Z",
     "shell.execute_reply": "2022-08-11T17:10:07.911373Z",
     "shell.execute_reply.started": "2022-06-11T01:42:24.201890Z"
    },
    "id": "wH4dB5hhgXrh",
    "outputId": "5e8cbb6b-15ce-463e-8688-1fd951939c2b",
    "papermill": {
     "duration": 0.376776,
     "end_time": "2022-08-11T17:10:07.912167",
     "exception": false,
     "start_time": "2022-08-11T17:10:07.535391",
     "status": "completed"
    },
    "tags": []
   },
   "source": [
    "ordinal_features = ['tenure-binned','MonthlyCharges-binned', 'TotalCharges-binned']\n",
    "\n",
    "for ord in ordinal_features:\n",
    "    printmd(f\"Correlation with **{ord}**\")\n",
    "    kendall_rank_correlation('tenure',ord)\n",
    "    kendall_rank_correlation('MonthlyCharges',ord)\n",
    "    kendall_rank_correlation('TotalCharges',ord)"
   ]
  },
  {
   "cell_type": "markdown",
   "id": "a9f07777",
   "metadata": {
    "id": "jmJlyS2_PpOQ",
    "papermill": {
     "duration": 0.278568,
     "end_time": "2022-08-11T17:10:08.471187",
     "exception": false,
     "start_time": "2022-08-11T17:10:08.192619",
     "status": "completed"
    },
    "tags": []
   },
   "source": [
    "<a id='6.3.2'></a>\n",
    "### 6.3.2 Mann-Whitney U Test\n",
    "\n",
    "The Mann-Whitney U test is a **nonparametric** statistical significance test for determining whether two independent samples were drawn from a population with the same distribution.\n",
    "\n",
    "The test determines whether the medians of two or more groups are different.\n",
    "\n",
    "**NB** : For the test to be effective, it requires **at least 20 observations** in each data sample.\n",
    "\n",
    "* Fail to Reject H0: Sample distributions are equal. (or sample distributions are likely drawn from the same population)\n",
    "* Reject H0: Sample distributions are not equal.\n",
    "\n",
    "or\n",
    "\n",
    "* **H0: population medians are equal**\n",
    "* **H1: population medians are not equal**"
   ]
  },
  {
   "cell_type": "markdown",
   "id": "8b6f7d36",
   "metadata": {
    "id": "SSZGuTVWgBKG",
    "papermill": {
     "duration": 0.277699,
     "end_time": "2022-08-11T17:10:09.028198",
     "exception": false,
     "start_time": "2022-08-11T17:10:08.750499",
     "status": "completed"
    },
    "tags": []
   },
   "source": [
    "### Correlation with Target (Dichotomous)"
   ]
  },
  {
   "cell_type": "markdown",
   "id": "3f884697",
   "metadata": {
    "execution": {
     "iopub.execute_input": "2022-08-11T17:10:09.594874Z",
     "iopub.status.busy": "2022-08-11T17:10:09.594168Z",
     "iopub.status.idle": "2022-08-11T17:10:09.595957Z",
     "shell.execute_reply": "2022-08-11T17:10:09.596575Z",
     "shell.execute_reply.started": "2022-06-11T01:42:24.349423Z"
    },
    "id": "5fBRNM8VPpqf",
    "papermill": {
     "duration": 0.284967,
     "end_time": "2022-08-11T17:10:09.596749",
     "exception": false,
     "start_time": "2022-08-11T17:10:09.311782",
     "status": "completed"
    },
    "tags": []
   },
   "source": [
    "def mannwhitneyu_correlation(feature1):\n",
    "    stat, p_value = stats.mannwhitneyu(df_churn[feature1], (df_churn['Churn'] == 'Yes').astype(int))\n",
    "    print(f\"Correlation between {feature1} and Churn\")\n",
    "    print('Statistics = %.5f, p = %.5f' % (stat, p_value))\n",
    "\n",
    "    # interpret the significance\n",
    "    alpha = 0.05\n",
    "    if p_value > alpha:\n",
    "        print('Same distribution (fail to reject H0)')\n",
    "    else:\n",
    "        print('Different distribution (reject H0)')\n",
    "    print('----\\n') "
   ]
  },
  {
   "cell_type": "markdown",
   "id": "be1d0ca9",
   "metadata": {
    "execution": {
     "iopub.execute_input": "2022-08-11T17:10:10.159292Z",
     "iopub.status.busy": "2022-08-11T17:10:10.156139Z",
     "iopub.status.idle": "2022-08-11T17:10:10.202509Z",
     "shell.execute_reply": "2022-08-11T17:10:10.201898Z",
     "shell.execute_reply.started": "2022-06-11T01:42:24.357425Z"
    },
    "id": "fZf9hZPjgVOC",
    "outputId": "45e52641-afba-4c18-c412-c7fd2bef60bc",
    "papermill": {
     "duration": 0.328921,
     "end_time": "2022-08-11T17:10:10.202659",
     "exception": false,
     "start_time": "2022-08-11T17:10:09.873738",
     "status": "completed"
    },
    "tags": []
   },
   "source": [
    "numerical_features = ['tenure','MonthlyCharges', 'TotalCharges']\n",
    "\n",
    "for num in numerical_features:\n",
    "    printmd(f\"Correlation with **{num}**\")\n",
    "    mannwhitneyu_correlation(num)"
   ]
  },
  {
   "cell_type": "markdown",
   "id": "a7e3f383",
   "metadata": {
    "id": "VNxiAk80etI7",
    "papermill": {
     "duration": 0.284298,
     "end_time": "2022-08-11T17:10:10.768774",
     "exception": false,
     "start_time": "2022-08-11T17:10:10.484476",
     "status": "completed"
    },
    "tags": []
   },
   "source": [
    "**Biserial correlation**\n",
    "\n",
    "The point biserial correlation is used to measure the relationship between a **binary variable, x, and a continuous variable, y**. Like other correlation coefficients, this one varies between -1 and +1 with 0 implying no correlation. Correlations of -1 or +1 imply a determinative relationship.\n",
    "\n",
    "NB: point-biserial correlation is conducted with the Pearson correlation formula except that one of the variables is dichotomous\n",
    "\n",
    "The assumptions for Point-Biserial correlation include:\n",
    "\n",
    "* Continuous and Binary\n",
    "* **Normally Distributed** (In our case not normal)\n",
    "* No Outliers\n",
    "* Equal Variances\n",
    "\n",
    "Options to normalize a non-normal distribution - \n",
    " \n",
    "* Log transform\n",
    "* Square root transform\n",
    "* Box cox (can only be applied to strictly positive data)\n",
    "* Yeo Johnson (both positive and negative)"
   ]
  },
  {
   "cell_type": "markdown",
   "id": "ba0571f2",
   "metadata": {
    "execution": {
     "iopub.execute_input": "2022-08-11T17:10:11.337920Z",
     "iopub.status.busy": "2022-08-11T17:10:11.336846Z",
     "iopub.status.idle": "2022-08-11T17:10:11.359215Z",
     "shell.execute_reply": "2022-08-11T17:10:11.358638Z",
     "shell.execute_reply.started": "2022-06-11T01:42:24.439496Z"
    },
    "id": "Bo_c57w7DDhp",
    "outputId": "1cbee13b-deb9-4c06-d61a-b1df381f0ef8",
    "papermill": {
     "duration": 0.309249,
     "end_time": "2022-08-11T17:10:11.359365",
     "exception": false,
     "start_time": "2022-08-11T17:10:11.050116",
     "status": "completed"
    },
    "tags": []
   },
   "source": [
    "# https://stackoverflow.com/questions/53624804/how-to-normalize-a-non-normal-distribution\n",
    "\n",
    "data = df_churn['MonthlyCharges'].to_numpy()\n",
    "pt = PowerTransformer(method='yeo-johnson') # ‘box-cox’, 'yeo-johnson'\n",
    "data = data.reshape(-1, 1)\n",
    "pt.fit(data)\n",
    "transformed_data = pt.transform(data)\n",
    "\n",
    "transformed_k2, transformed_p = stats.normaltest(transformed_data)\n",
    "\n",
    "# other methods to transform into gaussian distribution\n",
    "\n",
    "# log transform\n",
    "# stats.normaltest(np.log(df_churn['MonthlyCharges']))\n",
    "\n",
    "# square transform\n",
    "# stats.normaltest(np.sqrt(df_churn['MonthlyCharges'])\n",
    "\n",
    "# box-cox transform\n",
    "# stats.normaltest(stats.boxcox(df_churn['MonthlyCharges'])[0])\n",
    "\n",
    "# all other methods failed to convert into gaussian\n",
    "\n",
    "\n",
    "alpha = 0.05\n",
    "if transformed_p > alpha:\n",
    "    print('Sample looks Gaussian (fail to reject H0)')\n",
    "else:\n",
    "    print('Sample does not look Gaussian (reject H0)')"
   ]
  },
  {
   "cell_type": "markdown",
   "id": "825ccee9",
   "metadata": {
    "id": "YfVerFMeu-8f",
    "papermill": {
     "duration": 0.282174,
     "end_time": "2022-08-11T17:10:11.925037",
     "exception": false,
     "start_time": "2022-08-11T17:10:11.642863",
     "status": "completed"
    },
    "tags": []
   },
   "source": [
    "**Since the numerical columns can not be converted to gaussian distribution, point biseral correlation test can not be performed**"
   ]
  },
  {
   "cell_type": "markdown",
   "id": "654c5b5a",
   "metadata": {
    "id": "YCx-CcZXkPtl",
    "papermill": {
     "duration": 0.28003,
     "end_time": "2022-08-11T17:10:12.487058",
     "exception": false,
     "start_time": "2022-08-11T17:10:12.207028",
     "status": "completed"
    },
    "tags": []
   },
   "source": [
    "<a id='6.3.3'></a>\n",
    "### 6.3.3 Polytomous(Nominal) with numeric\n",
    "\n",
    "For a dichotomous categorical variable and a continuous variable we can calculate a Pearson correlation if the categorical variable has a 0/1-coding for the categories. This correlation is then also known as a point-biserial correlation coefficient. (parametric test)\n",
    "\n",
    "But when we have **more than two categories** for the categorical variable the Pearson correlation is not appropriate anymore.\n",
    "\n",
    "We should then use **eta-squared, or eta**, as an effect-size measure for the relationship of a **categorical variable and a continuous variable**.\n"
   ]
  },
  {
   "cell_type": "markdown",
   "id": "6bd97e65",
   "metadata": {
    "execution": {
     "iopub.execute_input": "2022-08-11T17:10:13.106979Z",
     "iopub.status.busy": "2022-08-11T17:10:13.101609Z",
     "iopub.status.idle": "2022-08-11T17:10:13.108796Z",
     "shell.execute_reply": "2022-08-11T17:10:13.109282Z",
     "shell.execute_reply.started": "2022-06-11T01:42:24.469750Z"
    },
    "id": "IugbTVI3kPL3",
    "papermill": {
     "duration": 0.34287,
     "end_time": "2022-08-11T17:10:13.109472",
     "exception": false,
     "start_time": "2022-08-11T17:10:12.766602",
     "status": "completed"
    },
    "tags": []
   },
   "source": [
    "def correlation_ratio(categories, measurements):\n",
    "    fcat, _ = pd.factorize(categories)\n",
    "    cat_num = np.max(fcat)+1\n",
    "    y_avg_array = np.zeros(cat_num)\n",
    "    n_array = np.zeros(cat_num)\n",
    "    for i in range(0,cat_num):\n",
    "        cat_measures = measurements[np.argwhere(fcat == i).flatten()]\n",
    "        n_array[i] = len(cat_measures)\n",
    "        y_avg_array[i] = np.average(cat_measures)\n",
    "    y_total_avg = np.sum(np.multiply(y_avg_array,n_array))/np.sum(n_array)\n",
    "    numerator = np.sum(np.multiply(n_array,np.power(np.subtract(y_avg_array,y_total_avg),2)))\n",
    "    denominator = np.sum(np.power(np.subtract(measurements,y_total_avg),2))\n",
    "    if numerator == 0:\n",
    "        eta = 0.0\n",
    "    else:\n",
    "        eta = np.sqrt(numerator/denominator)\n",
    "    return eta"
   ]
  },
  {
   "cell_type": "markdown",
   "id": "e3395161",
   "metadata": {
    "execution": {
     "iopub.execute_input": "2022-08-11T17:10:13.673421Z",
     "iopub.status.busy": "2022-08-11T17:10:13.672426Z",
     "iopub.status.idle": "2022-08-11T17:10:13.680879Z",
     "shell.execute_reply": "2022-08-11T17:10:13.681448Z",
     "shell.execute_reply.started": "2022-06-11T01:42:24.481170Z"
    },
    "id": "EAY8QHHOmODr",
    "outputId": "dc26ed93-593a-426a-c46d-d93f76b0d6e6",
    "papermill": {
     "duration": 0.29292,
     "end_time": "2022-08-11T17:10:13.681622",
     "exception": false,
     "start_time": "2022-08-11T17:10:13.388702",
     "status": "completed"
    },
    "tags": []
   },
   "source": [
    "correlation_ratio(df_churn['PaymentMethod'], df_churn['MonthlyCharges'])"
   ]
  },
  {
   "cell_type": "markdown",
   "id": "c31b27fd",
   "metadata": {
    "execution": {
     "iopub.execute_input": "2022-08-11T17:10:14.247655Z",
     "iopub.status.busy": "2022-08-11T17:10:14.246717Z",
     "iopub.status.idle": "2022-08-11T17:10:14.256746Z",
     "shell.execute_reply": "2022-08-11T17:10:14.257399Z",
     "shell.execute_reply.started": "2022-06-11T01:42:24.501386Z"
    },
    "id": "GFnV7NlGnB69",
    "outputId": "5ce9b055-df6b-42c0-c97d-914641fda71e",
    "papermill": {
     "duration": 0.296151,
     "end_time": "2022-08-11T17:10:14.257583",
     "exception": false,
     "start_time": "2022-08-11T17:10:13.961432",
     "status": "completed"
    },
    "tags": []
   },
   "source": [
    "correlation_ratio(df_churn['PaymentMethod'], df_churn['TotalCharges'])"
   ]
  },
  {
   "cell_type": "markdown",
   "id": "4bdc52a0",
   "metadata": {
    "execution": {
     "iopub.execute_input": "2022-08-11T17:10:14.819709Z",
     "iopub.status.busy": "2022-08-11T17:10:14.818724Z",
     "iopub.status.idle": "2022-08-11T17:10:14.828605Z",
     "shell.execute_reply": "2022-08-11T17:10:14.829168Z",
     "shell.execute_reply.started": "2022-06-11T01:42:24.515573Z"
    },
    "id": "GIfw1dsf2GLH",
    "outputId": "d9641b38-ae0f-40cf-b417-1150bb1c982b",
    "papermill": {
     "duration": 0.292662,
     "end_time": "2022-08-11T17:10:14.829356",
     "exception": false,
     "start_time": "2022-08-11T17:10:14.536694",
     "status": "completed"
    },
    "tags": []
   },
   "source": [
    "correlation_ratio(df_churn['PaymentMethod'], df_churn['tenure'])"
   ]
  },
  {
   "cell_type": "markdown",
   "id": "e0cb2650",
   "metadata": {
    "id": "UdbQq5o9Y3L-",
    "papermill": {
     "duration": 0.315474,
     "end_time": "2022-08-11T17:10:15.426345",
     "exception": false,
     "start_time": "2022-08-11T17:10:15.110871",
     "status": "completed"
    },
    "tags": []
   },
   "source": [
    "<a id='6.4'></a>\n",
    "## 6.4 Dichotomous & Dichotomous\n",
    "\n",
    "In classification, when both of the features are categorical, then the strength of the relationship between them can be measured using a **Chi-square test**"
   ]
  },
  {
   "cell_type": "markdown",
   "id": "aad51a55",
   "metadata": {
    "id": "kbL28VN-bU6Z",
    "papermill": {
     "duration": 0.283284,
     "end_time": "2022-08-11T17:10:15.991722",
     "exception": false,
     "start_time": "2022-08-11T17:10:15.708438",
     "status": "completed"
    },
    "tags": []
   },
   "source": [
    "<a id='6.4.1'></a>\n",
    "### 6.4.1 Phi’s correlation \n",
    "---\n",
    "The Matthews correlation coefficient (MCC) or phi coefficient is used in machine learning as a measure of the quality of binary (two-class) classifications\n",
    "\n",
    "View on Wikipedia :  **[Matthews correlation coefficient (MCC)](https://en.wikipedia.org/wiki/Matthews_correlation_coefficient)**\n"
   ]
  },
  {
   "cell_type": "markdown",
   "id": "bac5a017",
   "metadata": {
    "execution": {
     "iopub.execute_input": "2022-08-11T17:10:16.561773Z",
     "iopub.status.busy": "2022-08-11T17:10:16.561064Z",
     "iopub.status.idle": "2022-08-11T17:10:16.677016Z",
     "shell.execute_reply": "2022-08-11T17:10:16.677575Z",
     "shell.execute_reply.started": "2022-06-11T01:42:24.529401Z"
    },
    "id": "rtEqTtkxX3uL",
    "outputId": "04d92f93-1cce-44d1-d83c-583ad4006e08",
    "papermill": {
     "duration": 0.402617,
     "end_time": "2022-08-11T17:10:16.677756",
     "exception": false,
     "start_time": "2022-08-11T17:10:16.275139",
     "status": "completed"
    },
    "tags": []
   },
   "source": [
    "printmd(\"**Correlation Between Dichotomous Features with Target : Churn**\")\n",
    "\n",
    "for col in dichotomous_cols:\n",
    "    print(col.ljust(left_padding), matthews_corrcoef(df_churn[col], df_churn['Churn']))"
   ]
  },
  {
   "cell_type": "markdown",
   "id": "133afd93",
   "metadata": {
    "id": "qjbHm9YYDxw4",
    "papermill": {
     "duration": 0.278946,
     "end_time": "2022-08-11T17:10:17.238147",
     "exception": false,
     "start_time": "2022-08-11T17:10:16.959201",
     "status": "completed"
    },
    "tags": []
   },
   "source": [
    "<a id='6.5'></a>\n",
    "## 6.5 Categorical & categorical "
   ]
  },
  {
   "cell_type": "markdown",
   "id": "84d32b5d",
   "metadata": {
    "id": "okRi3satv3so",
    "papermill": {
     "duration": 0.280518,
     "end_time": "2022-08-11T17:10:17.797817",
     "exception": false,
     "start_time": "2022-08-11T17:10:17.517299",
     "status": "completed"
    },
    "tags": []
   },
   "source": [
    "<a id='6.5.1'></a>\n",
    "### 6.5.1 Chi-Square\n",
    "\n",
    "Detect independence between 2 categorical variables, 2x2 or 2xMany\n",
    "\n",
    "Test statistic in the context of the chi-squared distribution with the requisite number of degrees of freedom\n",
    "\n",
    "* If Statistic >= Critical Value: significant result, reject null hypothesis (H0), dependent.\n",
    "* If Statistic < Critical Value: not significant result, fail to reject null hypothesis (H0), independent.\n",
    "\n",
    "In terms of a p-value and a chosen significance level (alpha):\n",
    "\n",
    "* If p-value <= alpha: significant result, reject null hypothesis (H0), dependent.\n",
    "* If p-value > alpha: not significant result, fail to reject null hypothesis (H0), independent"
   ]
  },
  {
   "cell_type": "markdown",
   "id": "40a11220",
   "metadata": {
    "id": "6bpnyulMucGO",
    "papermill": {
     "duration": 0.277629,
     "end_time": "2022-08-11T17:10:18.355855",
     "exception": false,
     "start_time": "2022-08-11T17:10:18.078226",
     "status": "completed"
    },
    "tags": []
   },
   "source": [
    "![image](https://user-images.githubusercontent.com/40615350/114787798-2a027900-9da2-11eb-972e-c5e52a9a628f.png)"
   ]
  },
  {
   "cell_type": "markdown",
   "id": "74551296",
   "metadata": {
    "execution": {
     "iopub.execute_input": "2022-08-11T17:10:18.917311Z",
     "iopub.status.busy": "2022-08-11T17:10:18.916532Z",
     "iopub.status.idle": "2022-08-11T17:10:18.923295Z",
     "shell.execute_reply": "2022-08-11T17:10:18.923797Z",
     "shell.execute_reply.started": "2022-06-11T01:42:24.744371Z"
    },
    "id": "NZa6sEsTuUVK",
    "papermill": {
     "duration": 0.289516,
     "end_time": "2022-08-11T17:10:18.924005",
     "exception": false,
     "start_time": "2022-08-11T17:10:18.634489",
     "status": "completed"
    },
    "tags": []
   },
   "source": [
    "# alpha/significance = 0.05\n",
    "# If p-value <= alpha: significant result, reject null hypothesis (H0), dependent\n",
    "# If p-value > alpha: not significant result, fail to reject null hypothesis (H0), independent\n",
    "\n",
    "def calculate_chi_square(feature1, feature2='Churn'):\n",
    "    printmd(f\"Correlation between **{feature1}** and **{feature2}**\")\n",
    "    crosstab = pd.crosstab(df_churn[feature1], df_churn[feature2])\n",
    "    # display(crosstab)\n",
    "    stat, p, dof, expected = stats.chi2_contingency(crosstab,correction=True)\n",
    "\n",
    "\n",
    "    print(f'p-value : {p}, degree of freedom: {dof}')\n",
    "    # print(\"expected frequencies :\\n\", expected)\n",
    "\n",
    "    # interpret test-statistic\n",
    "    prob = 0.95\n",
    "    critical = stats.chi2.ppf(prob, dof)\n",
    "    print('probability=%.3f, critical=%.3f, stat=%.3f' % (prob, critical, stat))\n",
    "\n",
    "    if abs(stat) >= critical:\n",
    "        print('Dependent (reject H0)')\n",
    "    else:\n",
    "        print('Independent (fail to reject H0)')\n",
    "\n",
    "    # interpret p-value\n",
    "    alpha = 1.0 - prob\n",
    "\n",
    "    print('significance=%.3f, p=%.3f' % (alpha, p))\n",
    "    if p <= alpha:\n",
    "        print('Dependent (reject H0)')\n",
    "    else:\n",
    "        print('Independent (fail to reject H0)')\n",
    "    print('-----------------------------------\\n')\n",
    "\n",
    "# credit : https://machinelearningmastery.com/chi-squared-test-for-machine-learning"
   ]
  },
  {
   "cell_type": "markdown",
   "id": "8ae5a255",
   "metadata": {
    "id": "j3JVKIQbf5j5",
    "papermill": {
     "duration": 0.28057,
     "end_time": "2022-08-11T17:10:19.488073",
     "exception": false,
     "start_time": "2022-08-11T17:10:19.207503",
     "status": "completed"
    },
    "tags": []
   },
   "source": [
    "#### Dichotomous Features"
   ]
  },
  {
   "cell_type": "markdown",
   "id": "26f479a9",
   "metadata": {
    "execution": {
     "iopub.execute_input": "2022-08-11T17:10:20.053261Z",
     "iopub.status.busy": "2022-08-11T17:10:20.052531Z",
     "iopub.status.idle": "2022-08-11T17:10:20.130114Z",
     "shell.execute_reply": "2022-08-11T17:10:20.130655Z",
     "shell.execute_reply.started": "2022-06-11T01:42:24.754630Z"
    },
    "id": "2i_G_SO3KPGv",
    "outputId": "d0092427-4f8f-4893-a0a5-817f1c816625",
    "papermill": {
     "duration": 0.363463,
     "end_time": "2022-08-11T17:10:20.130837",
     "exception": false,
     "start_time": "2022-08-11T17:10:19.767374",
     "status": "completed"
    },
    "tags": []
   },
   "source": [
    "printmd(\"**Chi-Squre Correlation Between Dichotomous Features with Target : Churn**\")\n",
    "\n",
    "for col in dichotomous_cols:\n",
    "    calculate_chi_square(col)\n"
   ]
  },
  {
   "cell_type": "markdown",
   "id": "a1ea05c7",
   "metadata": {
    "id": "nzALNxI4OM4U",
    "papermill": {
     "duration": 0.283456,
     "end_time": "2022-08-11T17:10:20.700311",
     "exception": false,
     "start_time": "2022-08-11T17:10:20.416855",
     "status": "completed"
    },
    "tags": []
   },
   "source": [
    "**With 5% significance level 'PhoneService' and 'gender' features are not dependent with the target : Churn**"
   ]
  },
  {
   "cell_type": "markdown",
   "id": "5d553590",
   "metadata": {
    "id": "x8whth4ff990",
    "papermill": {
     "duration": 0.28579,
     "end_time": "2022-08-11T17:10:21.271111",
     "exception": false,
     "start_time": "2022-08-11T17:10:20.985321",
     "status": "completed"
    },
    "tags": []
   },
   "source": [
    "### Polytomous Features"
   ]
  },
  {
   "cell_type": "markdown",
   "id": "463edff1",
   "metadata": {
    "execution": {
     "iopub.execute_input": "2022-08-11T17:10:21.849755Z",
     "iopub.status.busy": "2022-08-11T17:10:21.848662Z",
     "iopub.status.idle": "2022-08-11T17:10:22.002583Z",
     "shell.execute_reply": "2022-08-11T17:10:22.001949Z",
     "shell.execute_reply.started": "2022-06-11T01:42:24.863808Z"
    },
    "id": "F9aaKwfUN5hk",
    "outputId": "9caca26e-e50d-4036-abdf-4b36e61d4c6d",
    "papermill": {
     "duration": 0.445832,
     "end_time": "2022-08-11T17:10:22.002737",
     "exception": false,
     "start_time": "2022-08-11T17:10:21.556905",
     "status": "completed"
    },
    "tags": []
   },
   "source": [
    "printmd(\"**Chi-Squre Correlation Between Polytomous Features with Target : Churn**\")\n",
    "\n",
    "for col in polytomous_cols:\n",
    "    calculate_chi_square(col)"
   ]
  },
  {
   "cell_type": "markdown",
   "id": "cd4220b6",
   "metadata": {
    "id": "h8wu0KfVgafZ",
    "papermill": {
     "duration": 0.322979,
     "end_time": "2022-08-11T17:10:22.623555",
     "exception": false,
     "start_time": "2022-08-11T17:10:22.300576",
     "status": "completed"
    },
    "tags": []
   },
   "source": [
    "**With 5% significance level All polytomous features are dependent with the target : Churn**"
   ]
  },
  {
   "cell_type": "markdown",
   "id": "886067a6",
   "metadata": {
    "id": "Zk7KDyN9-DJA",
    "papermill": {
     "duration": 0.324986,
     "end_time": "2022-08-11T17:10:23.277171",
     "exception": false,
     "start_time": "2022-08-11T17:10:22.952185",
     "status": "completed"
    },
    "tags": []
   },
   "source": [
    "<a id='6.5.2'></a>\n",
    "###  6.5.2 Cramér’s V\n",
    "---\n",
    "It is based on a nominal variation of **Pearson’s Chi-Square** Test\\\n",
    "Like correlation, Cramer’s V is symmetrical — it is insensitive to swapping x and y\n",
    "\n",
    "Cramer's V is used to examine the association between **two categorical variables when there is more than a 2 X 2 contingency** (e.g., 2 X 3).\\\n",
    "In these more complicated designs, **phi correlation test** is not appropriate, but Cramer's statistic is. Cramer's V represents the association or correlation between two variables. This statistic is also referred to as **\"Cramers Phi\"**\n",
    "\n",
    "To know more about this, visit this article : [the-search-for-categorical-correlation](https://towardsdatascience.com/the-search-for-categorical-correlation-a1cf7f1888c9)"
   ]
  },
  {
   "cell_type": "markdown",
   "id": "51524d9a",
   "metadata": {
    "execution": {
     "iopub.execute_input": "2022-08-11T17:10:23.906737Z",
     "iopub.status.busy": "2022-08-11T17:10:23.905614Z",
     "iopub.status.idle": "2022-08-11T17:10:23.907591Z",
     "shell.execute_reply": "2022-08-11T17:10:23.908192Z",
     "shell.execute_reply.started": "2022-06-11T01:42:25.041945Z"
    },
    "id": "DdRdkcwP-CaW",
    "papermill": {
     "duration": 0.317775,
     "end_time": "2022-08-11T17:10:23.908373",
     "exception": false,
     "start_time": "2022-08-11T17:10:23.590598",
     "status": "completed"
    },
    "tags": []
   },
   "source": [
    "def cramers_v(x, y):\n",
    "    \"\"\" calculate Cramers V statistic for categorial-categorial association.\n",
    "      uses correction from Bergsma and Wicher,\n",
    "      Journal of the Korean Statistical Society 42 (2013): 323-328\n",
    "    \"\"\"\n",
    "    confusion_matrix = pd.crosstab(x,y)\n",
    "    chi2 = stats.chi2_contingency(confusion_matrix)[0]\n",
    "    n = confusion_matrix.sum().sum()\n",
    "    phi2 = chi2/n\n",
    "    r,k = confusion_matrix.shape\n",
    "    phi2corr = max(0, phi2-((k-1)*(r-1))/(n-1))\n",
    "    rcorr = r-((r-1)**2)/(n-1)\n",
    "    kcorr = k-((k-1)**2)/(n-1)\n",
    "    return np.sqrt(phi2corr/min((kcorr-1),(rcorr-1)))\n",
    "\n",
    "# credit : https://stackoverflow.com/a/46498792/11105356"
   ]
  },
  {
   "cell_type": "markdown",
   "id": "f2c8e5d7",
   "metadata": {
    "execution": {
     "iopub.execute_input": "2022-08-11T17:10:24.529870Z",
     "iopub.status.busy": "2022-08-11T17:10:24.529193Z",
     "iopub.status.idle": "2022-08-11T17:10:24.647845Z",
     "shell.execute_reply": "2022-08-11T17:10:24.648663Z",
     "shell.execute_reply.started": "2022-06-11T01:42:25.053483Z"
    },
    "id": "6pH5eJB3-IbZ",
    "outputId": "d4aa6132-5708-4788-e2d2-2f1bf45e432c",
    "papermill": {
     "duration": 0.425523,
     "end_time": "2022-08-11T17:10:24.648923",
     "exception": false,
     "start_time": "2022-08-11T17:10:24.223400",
     "status": "completed"
    },
    "tags": []
   },
   "source": [
    "printmd(\"**Correlation Between Polytomous Features with Target : Churn**\")\n",
    "cramer_v_val_dict = {}\n",
    "for col in polytomous_cols:\n",
    "    cramer_v_val_dict[col] = cramers_v(df_churn[col], df_churn['Churn'])\n",
    "\n",
    "cramer_v_val_dict_sorted = sorted(cramer_v_val_dict.items(), key=lambda x:x[1], reverse=True)\n",
    "\n",
    "for k,v in cramer_v_val_dict_sorted:\n",
    "    print(k.ljust(left_padding), v)\n",
    "\n",
    "printmd(\"<br>**Contract, OnlineSecurity, TechSupport, InternetService are moderately correlated with Churn**<br>\")            "
   ]
  },
  {
   "cell_type": "markdown",
   "id": "a1bb7071",
   "metadata": {
    "execution": {
     "iopub.execute_input": "2022-08-11T17:10:25.245188Z",
     "iopub.status.busy": "2022-08-11T17:10:25.244450Z",
     "iopub.status.idle": "2022-08-11T17:10:25.677213Z",
     "shell.execute_reply": "2022-08-11T17:10:25.677762Z",
     "shell.execute_reply.started": "2022-06-11T01:42:25.206849Z"
    },
    "id": "JVp-ZXm3dGUW",
    "outputId": "348395eb-3cae-4ad6-b985-562df86c897e",
    "papermill": {
     "duration": 0.735452,
     "end_time": "2022-08-11T17:10:25.677961",
     "exception": false,
     "start_time": "2022-08-11T17:10:24.942509",
     "status": "completed"
    },
    "tags": []
   },
   "source": [
    "printmd(\"**Cramers V Heatmap on Polytomous Features and Target: Churn**\")\n",
    "cramers_v_val = pd.DataFrame(index=['Churn'], columns=polytomous_cols)\n",
    "\n",
    "for j in range(0,len(polytomous_cols)):\n",
    "    u = cramers_v(df_churn['Churn'], df_churn[polytomous_cols[j]])\n",
    "    cramers_v_val.loc[:,polytomous_cols[j]] = u\n",
    "\n",
    "cramers_v_val.fillna(value=np.nan,inplace=True)\n",
    "plt.figure(figsize=(20,1))\n",
    "sns.heatmap(cramers_v_val,annot=True,fmt='.3f', cmap=\"YlGnBu\")\n",
    "plt.show()"
   ]
  },
  {
   "cell_type": "markdown",
   "id": "3963d578",
   "metadata": {
    "id": "h73KRmXQDuYM",
    "papermill": {
     "duration": 0.330446,
     "end_time": "2022-08-11T17:10:26.301078",
     "exception": false,
     "start_time": "2022-08-11T17:10:25.970632",
     "status": "completed"
    },
    "tags": []
   },
   "source": [
    "#### Using Scipy Module"
   ]
  },
  {
   "cell_type": "markdown",
   "id": "cae92338",
   "metadata": {
    "execution": {
     "iopub.execute_input": "2022-08-11T17:10:26.934373Z",
     "iopub.status.busy": "2022-08-11T17:10:26.933560Z",
     "iopub.status.idle": "2022-08-11T17:10:26.951686Z",
     "shell.execute_reply": "2022-08-11T17:10:26.951152Z",
     "shell.execute_reply.started": "2022-06-11T01:42:25.689662Z"
    },
    "id": "vq36Zhn5CdpW",
    "outputId": "c14c5371-9edf-4b53-c6ec-68287aa48b7f",
    "papermill": {
     "duration": 0.341297,
     "end_time": "2022-08-11T17:10:26.951824",
     "exception": false,
     "start_time": "2022-08-11T17:10:26.610527",
     "status": "completed"
    },
    "tags": []
   },
   "source": [
    "crosstab = pd.crosstab(df_churn['OnlineSecurity'], df_churn['Churn'])\n",
    "display(crosstab)\n",
    "printmd(f\"Association between OnlineSecurity and Target:Churn **{stats.contingency.association(crosstab, method='cramer')}**\")"
   ]
  },
  {
   "cell_type": "markdown",
   "id": "3f2a0fa5",
   "metadata": {
    "id": "lajFEaLxSaOu",
    "papermill": {
     "duration": 0.324334,
     "end_time": "2022-08-11T17:10:27.650181",
     "exception": false,
     "start_time": "2022-08-11T17:10:27.325847",
     "status": "completed"
    },
    "tags": []
   },
   "source": [
    "<a id='6.5.3'></a>\n",
    "### 6.5.3 Uncertainty Coefficient\n",
    "---\n",
    "\n",
    "\n",
    "AKA **Theil’s U** - an **asymmetric** measure of association between categorical features\n",
    "\n",
    "It is is based on the conditional entropy between x and y — or in human language, given the value of x, how many possible states does y have, and how often do they occur. \n",
    "\n",
    "Formaly marked as U(x|y); Just like Cramer’s V, the output value is on the range of [0,1], where 0 means that feature y provides no information about feature x, and 1 means that feature y provides full information about features x's value \n",
    "\n",
    "**Unlike Cramer’s V, it is asymmetric**\n",
    "\n",
    "So we will not lose any valuable information unlike symmetric tests "
   ]
  },
  {
   "cell_type": "markdown",
   "id": "ad94e627",
   "metadata": {
    "_kg_hide-input": true,
    "execution": {
     "iopub.execute_input": "2022-08-11T17:10:28.298388Z",
     "iopub.status.busy": "2022-08-11T17:10:28.297297Z",
     "iopub.status.idle": "2022-08-11T17:10:28.300046Z",
     "shell.execute_reply": "2022-08-11T17:10:28.299392Z",
     "shell.execute_reply.started": "2022-06-11T01:42:25.720816Z"
    },
    "id": "KUcM_-a1Sb7A",
    "papermill": {
     "duration": 0.331798,
     "end_time": "2022-08-11T17:10:28.300195",
     "exception": false,
     "start_time": "2022-08-11T17:10:27.968397",
     "status": "completed"
    },
    "tags": []
   },
   "source": [
    "def conditional_entropy(x,y):\n",
    "  # entropy of x given y\n",
    "    y_counter = Counter(y)\n",
    "    xy_counter = Counter(list(zip(x,y)))\n",
    "    total_occurrences = sum(y_counter.values())\n",
    "    entropy = 0\n",
    "    for xy in xy_counter.keys():\n",
    "        p_xy = xy_counter[xy] / total_occurrences\n",
    "        p_y = y_counter[xy[1]] / total_occurrences\n",
    "        entropy += p_xy * math.log(p_y/p_xy)\n",
    "    return entropy\n",
    "\n",
    "def theil_u(x,y):\n",
    "    s_xy = conditional_entropy(x,y)\n",
    "    x_counter = Counter(x)\n",
    "    total_occurrences = sum(x_counter.values())\n",
    "    p_x = list(map(lambda n: n/total_occurrences, x_counter.values()))\n",
    "    s_x = stats.entropy(p_x)\n",
    "    if s_x == 0:\n",
    "        return 1\n",
    "    else:\n",
    "        return (s_x - s_xy) / s_x"
   ]
  },
  {
   "cell_type": "markdown",
   "id": "c4c1806c",
   "metadata": {
    "execution": {
     "iopub.execute_input": "2022-08-11T17:10:29.018674Z",
     "iopub.status.busy": "2022-08-11T17:10:28.987571Z",
     "iopub.status.idle": "2022-08-11T17:10:29.449862Z",
     "shell.execute_reply": "2022-08-11T17:10:29.450415Z",
     "shell.execute_reply.started": "2022-06-11T01:42:25.731588Z"
    },
    "id": "KMLexP_uScx-",
    "outputId": "403c3274-b645-4464-ff46-d8be5c570cf0",
    "papermill": {
     "duration": 0.833055,
     "end_time": "2022-08-11T17:10:29.450608",
     "exception": false,
     "start_time": "2022-08-11T17:10:28.617553",
     "status": "completed"
    },
    "tags": []
   },
   "source": [
    "theilu = pd.DataFrame(index=['Churn'], columns=cat_cols)\n",
    "\n",
    "for j in range(0,len(cat_cols)):\n",
    "    u = theil_u(df_churn['Churn'].tolist(),df_churn[cat_cols[j]].tolist())\n",
    "    theilu.loc[:,cat_cols[j]] = u\n",
    "\n",
    "theilu.fillna(value=np.nan,inplace=True)\n",
    "plt.figure(figsize=(20,1))\n",
    "sns.heatmap(theilu,annot=True,fmt='.2f')\n",
    "plt.show()\n",
    "\n",
    "printmd(\"**Contract, OnlineSecurity, TechSupport, tenure-binned are moderately correlated with Churn**\")            "
   ]
  },
  {
   "cell_type": "markdown",
   "id": "e914da2f",
   "metadata": {
    "id": "Uv5HMe-St0Z4",
    "papermill": {
     "duration": 0.315767,
     "end_time": "2022-08-11T17:10:30.081310",
     "exception": false,
     "start_time": "2022-08-11T17:10:29.765543",
     "status": "completed"
    },
    "tags": []
   },
   "source": [
    "<a id='6.6'></a>\n",
    "## 6.6 Collinearity\n",
    "\n",
    "For categorical variables, multicollinearity can be detected with **Spearman rank correlation coefficient** (ordinal variables) and **chi-square** test (nominal variables)\n",
    "\n",
    "Spearman's ρ was already performed in a previous section that can be used as a collinearity measure\n",
    "\n",
    "That's why let's just proceed with **chi-square** here -"
   ]
  },
  {
   "cell_type": "markdown",
   "id": "327c0596",
   "metadata": {
    "id": "T3faoSjE1SUC",
    "papermill": {
     "duration": 0.308882,
     "end_time": "2022-08-11T17:10:30.705760",
     "exception": false,
     "start_time": "2022-08-11T17:10:30.396878",
     "status": "completed"
    },
    "tags": []
   },
   "source": [
    "<a id='6.6.1'></a>\n",
    "### 6.6.1 Chi-Square"
   ]
  },
  {
   "cell_type": "markdown",
   "id": "24920af5",
   "metadata": {
    "execution": {
     "iopub.execute_input": "2022-08-11T17:10:31.310508Z",
     "iopub.status.busy": "2022-08-11T17:10:31.309575Z",
     "iopub.status.idle": "2022-08-11T17:10:31.329383Z",
     "shell.execute_reply": "2022-08-11T17:10:31.330318Z",
     "shell.execute_reply.started": "2022-06-11T01:42:26.299958Z"
    },
    "id": "OlYVry--3I8X",
    "outputId": "f657d4a8-5093-48a0-ff6e-9ee3271c690a",
    "papermill": {
     "duration": 0.321806,
     "end_time": "2022-08-11T17:10:31.330636",
     "exception": false,
     "start_time": "2022-08-11T17:10:31.008830",
     "status": "completed"
    },
    "tags": []
   },
   "source": [
    "calculate_chi_square('PaymentMethod','MultipleLines')"
   ]
  },
  {
   "cell_type": "markdown",
   "id": "b18398a0",
   "metadata": {
    "execution": {
     "iopub.execute_input": "2022-08-11T17:10:31.932737Z",
     "iopub.status.busy": "2022-08-11T17:10:31.931775Z",
     "iopub.status.idle": "2022-08-11T17:10:31.949877Z",
     "shell.execute_reply": "2022-08-11T17:10:31.950592Z",
     "shell.execute_reply.started": "2022-06-11T01:42:26.324129Z"
    },
    "id": "Yc27W9kS04UP",
    "outputId": "a5962e53-ed64-4180-f4f5-8da84da9ad09",
    "papermill": {
     "duration": 0.320413,
     "end_time": "2022-08-11T17:10:31.950814",
     "exception": false,
     "start_time": "2022-08-11T17:10:31.630401",
     "status": "completed"
    },
    "tags": []
   },
   "source": [
    "calculate_chi_square('PaymentMethod','PhoneService')"
   ]
  },
  {
   "cell_type": "markdown",
   "id": "25f577a9",
   "metadata": {
    "execution": {
     "iopub.execute_input": "2022-08-11T17:10:32.552974Z",
     "iopub.status.busy": "2022-08-11T17:10:32.552239Z",
     "iopub.status.idle": "2022-08-11T17:10:32.569807Z",
     "shell.execute_reply": "2022-08-11T17:10:32.570646Z",
     "shell.execute_reply.started": "2022-06-11T01:42:26.348414Z"
    },
    "id": "d_vcunBE065B",
    "outputId": "16b452c1-d98a-4cd1-bc4f-f47d7d673cd3",
    "papermill": {
     "duration": 0.321499,
     "end_time": "2022-08-11T17:10:32.570888",
     "exception": false,
     "start_time": "2022-08-11T17:10:32.249389",
     "status": "completed"
    },
    "tags": []
   },
   "source": [
    "calculate_chi_square('PaymentMethod','Contract')"
   ]
  },
  {
   "cell_type": "markdown",
   "id": "1488c5c5",
   "metadata": {
    "id": "Cweqk0qIostx",
    "papermill": {
     "duration": 0.302525,
     "end_time": "2022-08-11T17:10:33.178869",
     "exception": false,
     "start_time": "2022-08-11T17:10:32.876344",
     "status": "completed"
    },
    "tags": []
   },
   "source": [
    "<a id='6.7'></a>\n",
    "## 6.7 Visualization"
   ]
  },
  {
   "cell_type": "markdown",
   "id": "201e0a1d",
   "metadata": {
    "id": "zG-h8NkT5o2n",
    "papermill": {
     "duration": 0.298956,
     "end_time": "2022-08-11T17:10:33.779218",
     "exception": false,
     "start_time": "2022-08-11T17:10:33.480262",
     "status": "completed"
    },
    "tags": []
   },
   "source": [
    "### Terms and InterestRate "
   ]
  },
  {
   "cell_type": "code",
   "execution_count": null,
   "id": "15514fe9",
   "metadata": {
    "_kg_hide-input": true,
    "execution": {
     "iopub.execute_input": "2022-08-11T17:10:34.383805Z",
     "iopub.status.busy": "2022-08-11T17:10:34.383115Z",
     "iopub.status.idle": "2022-08-11T17:10:34.817775Z",
     "shell.execute_reply": "2022-08-11T17:10:34.818229Z",
     "shell.execute_reply.started": "2022-06-11T01:42:26.374249Z"
    },
    "id": "B0wrCvgQJjrm",
    "outputId": "3f7ba76e-5919-4ccf-8a13-799f3ac2fdf8",
    "papermill": {
     "duration": 0.73985,
     "end_time": "2022-08-11T17:10:34.818402",
     "exception": false,
     "start_time": "2022-08-11T17:10:34.078552",
     "status": "completed"
    },
    "tags": []
   },
   "outputs": [],
   "source": [
    "plt.figure(figsize=(10,6),dpi=100)\n",
    "sns.kdeplot(df_churn.Terms, color='b', shade=True)\n",
    "sns.kdeplot(df_churn.InterestRate, color='r', shade=True)\n",
    "  \n",
    "plt.xlabel('Terms vs Interest Rate')\n",
    "plt.ylabel('Probability Density')\n",
    "plt.legend()\n",
    "plt.show()\n",
    "\n",
    "printmd(\"\"\"**Both are are not normally distributed, skewed,Interest Rate has a \n",
    "Bi-modal distribution <br>Most customers took loans of less than 10 months, \n",
    "Interest rates for most people is either 15 or 40**\"\"\")"
   ]
  },
  {
   "cell_type": "code",
   "execution_count": null,
   "id": "c52f23a4",
   "metadata": {
    "_kg_hide-input": true,
    "execution": {
     "iopub.execute_input": "2022-08-11T17:10:35.427730Z",
     "iopub.status.busy": "2022-08-11T17:10:35.426628Z",
     "iopub.status.idle": "2022-08-11T17:10:35.533491Z",
     "shell.execute_reply": "2022-08-11T17:10:35.532936Z",
     "shell.execute_reply.started": "2022-06-11T01:42:26.828531Z"
    },
    "id": "TRsYWGKA_4JL",
    "outputId": "4a4c75cd-4cf4-4d8f-c067-069fc5ee9551",
    "papermill": {
     "duration": 0.412435,
     "end_time": "2022-08-11T17:10:35.533649",
     "exception": false,
     "start_time": "2022-08-11T17:10:35.121214",
     "status": "completed"
    },
    "tags": []
   },
   "outputs": [],
   "source": [
    "# https://stackoverflow.com/a/65242391/11105356\n",
    "\n",
    "df_g = df_churn.groupby(['Occupation', 'cluster']).size().reset_index()\n",
    "df_g['percentage'] = df_churn.groupby(['Occupation', 'cluster']).size().groupby(level=0).apply(lambda x: 100 * x / float(x.sum())).values\n",
    "df_g.columns = ['Occupation', 'cluster', 'Counts', 'Percentage']\n",
    "\n",
    "fig = px.bar(df_g, x='Occupation', y='Counts', \n",
    "       color='cluster',\n",
    "       color_discrete_map={\n",
    "        'Yes': '#99D594',\n",
    "        'No': '#FC8D59',\n",
    "    }, \n",
    "    text=df_g['Percentage'].apply(lambda x: '{0:1.2f}%'.format(x)))\n",
    "\n",
    "display(fig)\n",
    "printmd(\"**A higher percentage of both Farmers and Business persons are in cluster 1(Good loans) while that percentage is less under the unemployed**\")"
   ]
  },
  {
   "cell_type": "markdown",
   "id": "678a1193",
   "metadata": {
    "id": "5PbbkyJHJUMM",
    "papermill": {
     "duration": 0.315796,
     "end_time": "2022-08-11T17:10:36.169478",
     "exception": false,
     "start_time": "2022-08-11T17:10:35.853682",
     "status": "completed"
    },
    "tags": []
   },
   "source": [
    "### Interestrate and cluster"
   ]
  },
  {
   "cell_type": "code",
   "execution_count": null,
   "id": "c6accdf0",
   "metadata": {
    "_kg_hide-input": true,
    "execution": {
     "iopub.execute_input": "2022-08-11T17:10:36.853702Z",
     "iopub.status.busy": "2022-08-11T17:10:36.852986Z",
     "iopub.status.idle": "2022-08-11T17:10:37.147674Z",
     "shell.execute_reply": "2022-08-11T17:10:37.146940Z",
     "shell.execute_reply.started": "2022-06-11T01:42:26.956970Z"
    },
    "id": "noc2C-QYTJxQ",
    "outputId": "36252860-f614-41af-cc1e-aeba0bbd19fe",
    "papermill": {
     "duration": 0.614565,
     "end_time": "2022-08-11T17:10:37.147824",
     "exception": false,
     "start_time": "2022-08-11T17:10:36.533259",
     "status": "completed"
    },
    "tags": []
   },
   "outputs": [],
   "source": [
    "sns.set(rc={'figure.figsize':(15,8)})\n",
    "ax=sns.countplot(x='InterestRate',hue='cluster',data=df_churn)\n",
    "for p in ax.patches:\n",
    "    patch_height = p.get_height()\n",
    "    if np.isnan(patch_height):\n",
    "        patch_height = 0\n",
    "    ax.annotate('{}'.format(int(patch_height)), (p.get_x()+0.05, patch_height+10))\n",
    "plt.show()\n",
    "\n",
    "printmd(\"**Most churned users has Month-to-month contract**\")"
   ]
  },
  {
   "cell_type": "markdown",
   "id": "35b2d2f8",
   "metadata": {
    "id": "LjNuEONiJaUj",
    "papermill": {
     "duration": 0.312549,
     "end_time": "2022-08-11T17:10:37.798427",
     "exception": false,
     "start_time": "2022-08-11T17:10:37.485878",
     "status": "completed"
    },
    "tags": []
   },
   "source": [
    "### Gender and cluster"
   ]
  },
  {
   "cell_type": "code",
   "execution_count": null,
   "id": "2f25f629",
   "metadata": {
    "_kg_hide-input": true,
    "execution": {
     "iopub.execute_input": "2022-08-11T17:10:38.428500Z",
     "iopub.status.busy": "2022-08-11T17:10:38.427776Z",
     "iopub.status.idle": "2022-08-11T17:10:38.740778Z",
     "shell.execute_reply": "2022-08-11T17:10:38.741349Z",
     "shell.execute_reply.started": "2022-06-11T01:42:27.263435Z"
    },
    "id": "xA8_Mt4DT9j8",
    "outputId": "436d481e-a268-44df-9661-a2dadc1c3f00",
    "papermill": {
     "duration": 0.633453,
     "end_time": "2022-08-11T17:10:38.741536",
     "exception": false,
     "start_time": "2022-08-11T17:10:38.108083",
     "status": "completed"
    },
    "tags": []
   },
   "outputs": [],
   "source": [
    "sns.set(rc={'figure.figsize':(15,8)})\n",
    "ax=sns.countplot(x='Gender',hue='cluster',data=df_churn)\n",
    "for p in ax.patches:\n",
    "    patch_height = p.get_height()\n",
    "    if np.isnan(patch_height):\n",
    "        patch_height = 0\n",
    "    ax.annotate('{}'.format(int(patch_height)), (p.get_x()+0.05, patch_height+10))\n",
    "plt.show()\n",
    "\n",
    "printmd(\"**M**\")"
   ]
  },
  {
   "cell_type": "markdown",
   "id": "2bd917a3",
   "metadata": {
    "id": "f3aq4IDPJcml",
    "papermill": {
     "duration": 0.318553,
     "end_time": "2022-08-11T17:10:39.369041",
     "exception": false,
     "start_time": "2022-08-11T17:10:39.050488",
     "status": "completed"
    },
    "tags": []
   },
   "source": [
    "### MaritalStatus and cluster"
   ]
  },
  {
   "cell_type": "code",
   "execution_count": null,
   "id": "82e2ba28",
   "metadata": {
    "_kg_hide-input": true,
    "execution": {
     "iopub.execute_input": "2022-08-11T17:10:39.999241Z",
     "iopub.status.busy": "2022-08-11T17:10:39.998545Z",
     "iopub.status.idle": "2022-08-11T17:10:40.430780Z",
     "shell.execute_reply": "2022-08-11T17:10:40.431315Z",
     "shell.execute_reply.started": "2022-06-11T01:42:27.583754Z"
    },
    "id": "7PmBSNRojwSp",
    "outputId": "a209d985-dd0e-4fe5-9018-23bf142baf0b",
    "papermill": {
     "duration": 0.748772,
     "end_time": "2022-08-11T17:10:40.431496",
     "exception": false,
     "start_time": "2022-08-11T17:10:39.682724",
     "status": "completed"
    },
    "tags": []
   },
   "outputs": [],
   "source": [
    "sns.catplot(x='MaritalStatus',hue='cluster',data=df_churn, kind=\"count\");\n",
    "\n",
    "printmd(\"**M**\")"
   ]
  },
  {
   "cell_type": "markdown",
   "id": "f57fa854",
   "metadata": {
    "id": "oQDbSZrwJgSc",
    "papermill": {
     "duration": 0.310336,
     "end_time": "2022-08-11T17:10:41.054674",
     "exception": false,
     "start_time": "2022-08-11T17:10:40.744338",
     "status": "completed"
    },
    "tags": []
   },
   "source": [
    "### Gender, Terms and cluster"
   ]
  },
  {
   "cell_type": "code",
   "execution_count": null,
   "id": "d6694b44",
   "metadata": {
    "_kg_hide-input": true,
    "execution": {
     "iopub.execute_input": "2022-08-11T17:10:41.686649Z",
     "iopub.status.busy": "2022-08-11T17:10:41.685894Z",
     "iopub.status.idle": "2022-08-11T17:10:42.339043Z",
     "shell.execute_reply": "2022-08-11T17:10:42.339538Z",
     "shell.execute_reply.started": "2022-06-11T01:42:28.059453Z"
    },
    "id": "aMSXcK2kHPBV",
    "outputId": "4be35919-eed7-4324-dd54-9f6bfccefc88",
    "papermill": {
     "duration": 0.97212,
     "end_time": "2022-08-11T17:10:42.339724",
     "exception": false,
     "start_time": "2022-08-11T17:10:41.367604",
     "status": "completed"
    },
    "tags": []
   },
   "outputs": [],
   "source": [
    "sns.catplot(x='cluster',y='Terms', col = 'Gender', data=df_churn,\n",
    "                kind='bar', aspect=.6, palette='Set2')\n",
    "\n",
    "printmd(\"**Gender is uncorrelated with clusters**\")"
   ]
  },
  {
   "cell_type": "markdown",
   "id": "5b6770c9",
   "metadata": {
    "id": "nAlwFqs0UL9i",
    "papermill": {
     "duration": 0.312961,
     "end_time": "2022-08-11T17:10:42.970327",
     "exception": false,
     "start_time": "2022-08-11T17:10:42.657366",
     "status": "completed"
    },
    "tags": []
   },
   "source": [
    "### Checking Outliers"
   ]
  },
  {
   "cell_type": "markdown",
   "id": "e24b8950",
   "metadata": {
    "_kg_hide-input": true,
    "execution": {
     "iopub.execute_input": "2022-08-11T17:10:43.610512Z",
     "iopub.status.busy": "2022-08-11T17:10:43.608345Z",
     "iopub.status.idle": "2022-08-11T17:10:43.918945Z",
     "shell.execute_reply": "2022-08-11T17:10:43.919536Z",
     "shell.execute_reply.started": "2022-06-11T01:42:28.811977Z"
    },
    "id": "Ul8G7vnFm0oT",
    "outputId": "692f32a6-23ef-472c-9d71-2f118b516015",
    "papermill": {
     "duration": 0.635832,
     "end_time": "2022-08-11T17:10:43.919715",
     "exception": false,
     "start_time": "2022-08-11T17:10:43.283883",
     "status": "completed"
    },
    "tags": []
   },
   "source": [
    "px.box(df_churn, x=\"Churn\", y=\"MonthlyCharges\")"
   ]
  },
  {
   "cell_type": "markdown",
   "id": "e4f17360",
   "metadata": {
    "_kg_hide-input": true,
    "execution": {
     "iopub.execute_input": "2022-08-11T17:10:44.633694Z",
     "iopub.status.busy": "2022-08-11T17:10:44.632659Z",
     "iopub.status.idle": "2022-08-11T17:10:44.757592Z",
     "shell.execute_reply": "2022-08-11T17:10:44.758236Z",
     "shell.execute_reply.started": "2022-06-11T01:42:29.166616Z"
    },
    "id": "GkTh0AYSqMgF",
    "outputId": "57c62e73-fd7c-475c-df16-0002c40468a6",
    "papermill": {
     "duration": 0.48434,
     "end_time": "2022-08-11T17:10:44.758430",
     "exception": false,
     "start_time": "2022-08-11T17:10:44.274090",
     "status": "completed"
    },
    "tags": []
   },
   "source": [
    "px.box(df_churn, x=\"Churn\", y=\"TotalCharges\")"
   ]
  },
  {
   "cell_type": "markdown",
   "id": "99fb0e92",
   "metadata": {
    "_kg_hide-input": true,
    "execution": {
     "iopub.execute_input": "2022-08-11T17:10:45.603560Z",
     "iopub.status.busy": "2022-08-11T17:10:45.602580Z",
     "iopub.status.idle": "2022-08-11T17:10:45.724900Z",
     "shell.execute_reply": "2022-08-11T17:10:45.725528Z",
     "shell.execute_reply.started": "2022-06-11T01:42:29.313424Z"
    },
    "id": "yQSXQUXrp483",
    "outputId": "4a51cf22-3be3-435c-b4b2-ea604df4ed88",
    "papermill": {
     "duration": 0.572705,
     "end_time": "2022-08-11T17:10:45.725718",
     "exception": false,
     "start_time": "2022-08-11T17:10:45.153013",
     "status": "completed"
    },
    "tags": []
   },
   "source": [
    "px.box(df_churn, x=\"Churn\", y=\"tenure\")"
   ]
  },
  {
   "cell_type": "markdown",
   "id": "8d547647",
   "metadata": {
    "_kg_hide-input": true,
    "execution": {
     "iopub.execute_input": "2022-08-11T17:10:46.574611Z",
     "iopub.status.busy": "2022-08-11T17:10:46.573624Z",
     "iopub.status.idle": "2022-08-11T17:10:46.870590Z",
     "shell.execute_reply": "2022-08-11T17:10:46.871127Z",
     "shell.execute_reply.started": "2022-06-11T01:42:29.453985Z"
    },
    "id": "1xKEIi1wqix2",
    "outputId": "900b5e24-dd11-46c1-954e-6e095be107c2",
    "papermill": {
     "duration": 0.718948,
     "end_time": "2022-08-11T17:10:46.871307",
     "exception": false,
     "start_time": "2022-08-11T17:10:46.152359",
     "status": "completed"
    },
    "tags": []
   },
   "source": [
    "plt.figure(figsize=(15,8))\n",
    "ax = sns.boxplot(x=\"PaymentMethod\", y=\"TotalCharges\", data=df_churn)\n",
    "plt.show()\n",
    "\n",
    "printmd(\"**Total Charges for many users are in extreme level in Mailed Check payment method**\")"
   ]
  },
  {
   "cell_type": "markdown",
   "id": "bc8e015f",
   "metadata": {
    "_kg_hide-input": true,
    "execution": {
     "iopub.execute_input": "2022-08-11T17:10:47.721638Z",
     "iopub.status.busy": "2022-08-11T17:10:47.720642Z",
     "iopub.status.idle": "2022-08-11T17:10:48.014745Z",
     "shell.execute_reply": "2022-08-11T17:10:48.014048Z",
     "shell.execute_reply.started": "2022-06-11T01:42:29.750023Z"
    },
    "id": "9RB5DMftrTbe",
    "outputId": "6f1940d0-5c67-49bf-a16a-ec8c1e755a56",
    "papermill": {
     "duration": 0.722145,
     "end_time": "2022-08-11T17:10:48.014902",
     "exception": false,
     "start_time": "2022-08-11T17:10:47.292757",
     "status": "completed"
    },
    "tags": []
   },
   "source": [
    "plt.figure(figsize=(15,8))\n",
    "ax = sns.boxplot(x=\"PaymentMethod\", y=\"MonthlyCharges\", data=df_churn)\n",
    "plt.show()"
   ]
  },
  {
   "cell_type": "markdown",
   "id": "f1a4e187",
   "metadata": {
    "id": "HcI9IFYooiP4",
    "papermill": {
     "duration": 0.435507,
     "end_time": "2022-08-11T17:10:48.915587",
     "exception": false,
     "start_time": "2022-08-11T17:10:48.480080",
     "status": "completed"
    },
    "tags": []
   },
   "source": [
    "<a id='7'></a>\n",
    "# 7 Multivariate Analysis"
   ]
  },
  {
   "cell_type": "markdown",
   "id": "ec86b44d",
   "metadata": {
    "id": "SveayR93Ex21",
    "papermill": {
     "duration": 0.424516,
     "end_time": "2022-08-11T17:10:49.766330",
     "exception": false,
     "start_time": "2022-08-11T17:10:49.341814",
     "status": "completed"
    },
    "tags": []
   },
   "source": [
    "<a id='7.1'></a>\n",
    "### 7.1 Multicollinearity (Kruskal–Wallis)\n",
    "\n",
    "For categorical and a continuous variable, multicollinearity can be measured by **t-test** (if the categorical variable has 2 categories, parametric) or **ANOVA** (more than 2 categories, parametric)\n",
    "\n",
    "**Kruskal–Wallis test** is more commonly used when we have **three or more levels**. For two levels, the **Mann Whitney U Test** is appropriate \n",
    "\n",
    "The **parametric equivalent of the Kruskal–Wallis test** is the one-way analysis of variance (ANOVA)\n",
    "\n",
    "Hypothses - \n",
    "\n",
    "* H0: All sample distributions are equal.\n",
    "* H1: One or more sample distributions are not equal.\n"
   ]
  },
  {
   "cell_type": "code",
   "execution_count": null,
   "id": "ede7f311",
   "metadata": {
    "execution": {
     "iopub.execute_input": "2022-08-11T17:10:50.616122Z",
     "iopub.status.busy": "2022-08-11T17:10:50.615138Z",
     "iopub.status.idle": "2022-08-11T17:10:50.624540Z",
     "shell.execute_reply": "2022-08-11T17:10:50.625282Z",
     "shell.execute_reply.started": "2022-06-11T01:42:30.044291Z"
    },
    "id": "t-jxLwQgtGls",
    "outputId": "42fe031b-20da-4c19-f0bb-053d8a4aba75",
    "papermill": {
     "duration": 0.436821,
     "end_time": "2022-08-11T17:10:50.625511",
     "exception": false,
     "start_time": "2022-08-11T17:10:50.188690",
     "status": "completed"
    },
    "tags": []
   },
   "outputs": [],
   "source": [
    "# compare samples\n",
    "stat, p = stats.kruskal(df_churn['InterestRate'], df_churn['Terms'], df_churn['DisbursedAmount'])\n",
    "print('Statistics=%.3f, p=%.3f' % (stat, p))\n",
    "# interpret\n",
    "alpha = 0.05\n",
    "if p > alpha:\n",
    "    print('Same distributions (fail to reject H0)')\n",
    "else:\n",
    "    print('Different distributions (reject H0)')"
   ]
  },
  {
   "cell_type": "code",
   "execution_count": null,
   "id": "62a1adaa",
   "metadata": {
    "execution": {
     "iopub.execute_input": "2022-08-11T17:10:51.485932Z",
     "iopub.status.busy": "2022-08-11T17:10:51.485013Z",
     "iopub.status.idle": "2022-08-11T17:10:51.512328Z",
     "shell.execute_reply": "2022-08-11T17:10:51.511787Z",
     "shell.execute_reply.started": "2022-06-11T01:42:30.061383Z"
    },
    "id": "quRTCEPYyvq8",
    "outputId": "e7e810e8-677d-40fb-c89a-94dceda38fa0",
    "papermill": {
     "duration": 0.461927,
     "end_time": "2022-08-11T17:10:51.512482",
     "exception": false,
     "start_time": "2022-08-11T17:10:51.050555",
     "status": "completed"
    },
    "tags": []
   },
   "outputs": [],
   "source": [
    "# compare samples\n",
    "stat, p = stats.kruskal(df_churn['Gender'], df_churn['MaritalStatus'], df_churn['Occupation'])\n",
    "print('Statistics=%.3f, p=%.3f' % (stat, p))\n",
    "# interpret\n",
    "alpha = 0.05\n",
    "if p > alpha:\n",
    "    print('Same distributions (fail to reject H0)')\n",
    "else:\n",
    "    print('Different distributions (reject H0)')"
   ]
  },
  {
   "cell_type": "code",
   "execution_count": null,
   "id": "392ad387",
   "metadata": {
    "execution": {
     "iopub.execute_input": "2022-08-11T17:10:52.367160Z",
     "iopub.status.busy": "2022-08-11T17:10:52.366160Z",
     "iopub.status.idle": "2022-08-11T17:10:52.432105Z",
     "shell.execute_reply": "2022-08-11T17:10:52.431276Z",
     "shell.execute_reply.started": "2022-06-11T01:42:30.119524Z"
    },
    "id": "1R3ZPwYe1Cff",
    "outputId": "0add47c0-df0a-4026-9a03-c20b527ca809",
    "papermill": {
     "duration": 0.492327,
     "end_time": "2022-08-11T17:10:52.432308",
     "exception": false,
     "start_time": "2022-08-11T17:10:51.939981",
     "status": "completed"
    },
    "tags": []
   },
   "outputs": [],
   "source": [
    "# compare samples\n",
    "stat, p = stats.kruskal(df_churn['DisbursedAmount'], df_churn['PercentageCompleted'])\n",
    "print('Statistics=%.3f, p=%.3f' % (stat, p))\n",
    "# interpret\n",
    "alpha = 0.05\n",
    "if p > alpha:\n",
    "    print('Same distributions (fail to reject H0)')\n",
    "else:\n",
    "    print('Different distributions (reject H0)')"
   ]
  },
  {
   "cell_type": "markdown",
   "id": "e8c3eed1",
   "metadata": {
    "id": "lvkEby72HZVb",
    "papermill": {
     "duration": 0.420248,
     "end_time": "2022-08-11T17:10:53.277845",
     "exception": false,
     "start_time": "2022-08-11T17:10:52.857597",
     "status": "completed"
    },
    "tags": []
   },
   "source": [
    "<a id='7.2'></a>\n",
    "## 7.2 Frequency Distribution"
   ]
  },
  {
   "cell_type": "code",
   "execution_count": null,
   "id": "0585ea94",
   "metadata": {
    "_kg_hide-input": true,
    "execution": {
     "iopub.execute_input": "2022-08-11T17:10:54.220415Z",
     "iopub.status.busy": "2022-08-11T17:10:54.219671Z",
     "iopub.status.idle": "2022-08-11T17:10:54.221956Z",
     "shell.execute_reply": "2022-08-11T17:10:54.222632Z",
     "shell.execute_reply.started": "2022-06-11T01:42:30.200224Z"
    },
    "id": "d-Hu7NI4okMA",
    "papermill": {
     "duration": 0.472145,
     "end_time": "2022-08-11T17:10:54.222812",
     "exception": false,
     "start_time": "2022-08-11T17:10:53.750667",
     "status": "completed"
    },
    "tags": []
   },
   "outputs": [],
   "source": [
    "def multivariate_analysis(cat_var_1, cat_var_2, cat_var_3, target_variable=df_churn.cluster):\n",
    "    \n",
    "    fig,ax = plt.subplots(1,1,figsize = (18,5))\n",
    "    font_size = 15\n",
    "    cat_grouped_by_cat_target = pd.crosstab(index = [cat_var_1, cat_var_2, cat_var_3],\n",
    "                                        columns = target_variable, normalize = \"index\")*100                            \n",
    "    cat_grouped_by_cat_target.rename({\"Yes\":\"% Churn\", \"No\":\"% Not Churn\"}, axis = 1, inplace = True)\n",
    "    cat_grouped_by_cat_target.plot.bar(color = [\"green\", \"red\"],ax=ax)\n",
    "    ax.set_xlabel(f\"{cat_var_1.name}, {cat_var_2.name}, {cat_var_3.name}\", fontsize = font_size)\n",
    "    ax.set_ylabel(\"Relative Frequency(%)\", fontsize = font_size)\n",
    "    ax.tick_params(axis=\"x\", labelsize=font_size)\n",
    "    ax.tick_params(axis=\"y\", labelsize=font_size)\n",
    "    plt.legend(loc = \"best\")\n",
    "    return plt.show()"
   ]
  },
  {
   "cell_type": "code",
   "execution_count": null,
   "id": "96ecf41a",
   "metadata": {
    "_kg_hide-input": true,
    "execution": {
     "iopub.execute_input": "2022-08-11T17:10:55.098106Z",
     "iopub.status.busy": "2022-08-11T17:10:55.097373Z",
     "iopub.status.idle": "2022-08-11T17:10:56.031740Z",
     "shell.execute_reply": "2022-08-11T17:10:56.032329Z",
     "shell.execute_reply.started": "2022-06-11T01:42:30.212176Z"
    },
    "id": "eHhA__QHpQ0D",
    "outputId": "ce4d2e28-1389-4594-eda9-ec8d5386a4c5",
    "papermill": {
     "duration": 1.365874,
     "end_time": "2022-08-11T17:10:56.032573",
     "exception": false,
     "start_time": "2022-08-11T17:10:54.666699",
     "status": "completed"
    },
    "tags": []
   },
   "outputs": [],
   "source": [
    "multivariate_analysis(df_churn.Gender, df_churn.MaritalStatus, df_churn.Occupation)\n",
    "printmd(\"### Findings: Most of the users who defaulted were farmers\")"
   ]
  },
  {
   "cell_type": "markdown",
   "id": "dd87563c",
   "metadata": {
    "id": "we-N19dip1S9",
    "papermill": {
     "duration": 0.434904,
     "end_time": "2022-08-11T17:10:58.171368",
     "exception": false,
     "start_time": "2022-08-11T17:10:57.736464",
     "status": "completed"
    },
    "tags": []
   },
   "source": [
    "<a id='7.3'></a>\n",
    "## 7.3 Churn Count Distribution"
   ]
  },
  {
   "cell_type": "code",
   "execution_count": null,
   "id": "3b3fd3b6",
   "metadata": {
    "_kg_hide-input": true,
    "execution": {
     "iopub.execute_input": "2022-08-11T17:10:59.053459Z",
     "iopub.status.busy": "2022-08-11T17:10:59.052655Z",
     "iopub.status.idle": "2022-08-11T17:10:59.055528Z",
     "shell.execute_reply": "2022-08-11T17:10:59.054965Z",
     "shell.execute_reply.started": "2022-06-11T01:42:31.639197Z"
    },
    "id": "ptQRFfYZidi3",
    "papermill": {
     "duration": 0.450372,
     "end_time": "2022-08-11T17:10:59.055683",
     "exception": false,
     "start_time": "2022-08-11T17:10:58.605311",
     "status": "completed"
    },
    "tags": []
   },
   "outputs": [],
   "source": [
    "def plot_counting_distribution(cardinality_value):\n",
    "\n",
    "    #label encoding binary columns\n",
    "    le = LabelEncoder()\n",
    "\n",
    "    tmp_churn = df_churn[df_churn['cluster'] == 0 ]\n",
    "    tmp_no_churn = df_churn[df_churn['cluster'] == 1 ]\n",
    "\n",
    "    selected_columns = df_churn.nunique()[df_churn.nunique() == cardinality_value].keys()\n",
    "\n",
    "    for col in selected_columns :\n",
    "        tmp_churn[col] = le.fit_transform(tmp_churn[col])\n",
    "\n",
    "\n",
    "    data_frame_x = tmp_churn[selected_columns].sum().reset_index()\n",
    "    data_frame_x.columns = [\"feature\",\"Yes\"]\n",
    "    data_frame_x[1] = tmp_churn.shape[0]  - data_frame_x[0]\n",
    "    data_frame_x = data_frame_x[data_frame_x[\"feature\"] != \"cluster\"]\n",
    "\n",
    "    #count of 1's(yes)\n",
    "    trace1 = go.Scatterpolar(r=data_frame_x[0].values.tolist(), \n",
    "                          theta=data_frame_x[\"feature\"].tolist(),\n",
    "                          fill=\"toself\", name=\"Churn 1's\",\n",
    "                          mode=\"markers+lines\", visible=True,\n",
    "                          marker=dict(size=5)\n",
    "                          )\n",
    "\n",
    "    #count of 0's(No)\n",
    "    trace2 = go.Scatterpolar(r=data_frame_x[1].values.tolist(),\n",
    "                          theta=data_frame_x[\"feature\"].tolist(),\n",
    "                          fill=\"toself\",name=\"Churn 0's\",\n",
    "                          mode=\"markers+lines\", visible=True,\n",
    "                          marker=dict(size = 5)\n",
    "                          ) \n",
    "    for col in selected_columns :\n",
    "        tmp_no_churn[col] = le.fit_transform(tmp_no_churn[col])\n",
    "\n",
    "    data_frame_x = tmp_no_churn[selected_columns].sum().reset_index()\n",
    "    data_frame_x.columns  = [\"feature\",\"Yes\"]\n",
    "    data_frame_x[1]    = tmp_no_churn.shape[0]  - data_frame_x[0]\n",
    "    data_frame_x  = data_frame_x[data_frame_x[\"feature\"] != \"cluster\"]\n",
    "\n",
    "    #count of 1's(yes)\n",
    "    trace3 = go.Scatterpolar(r = data_frame_x[0].values.tolist(),\n",
    "                          theta = data_frame_x[\"feature\"].tolist(),\n",
    "                          fill  = \"toself\",name = \"NoChurn 1's\",\n",
    "                          mode = \"markers+lines\", visible=False,\n",
    "                          marker = dict(size = 5)\n",
    "                          )\n",
    "\n",
    "    #count of 0's(No)\n",
    "    trace4 = go.Scatterpolar(r = data_frame_x[1].values.tolist(),\n",
    "                          theta = data_frame_x[\"feature\"].tolist(),\n",
    "                          fill  = \"toself\",name = \"NoChurn 0's\",\n",
    "                          mode = \"markers+lines\", visible=False,\n",
    "                          marker = dict(size = 5)\n",
    "                          ) \n",
    "\n",
    "    data = [trace1, trace2, trace3, trace4]\n",
    "\n",
    "    updatemenus = list([\n",
    "      dict(active=0,\n",
    "          x=-0.15,\n",
    "          buttons=list([  \n",
    "              dict(\n",
    "                  label = 'Churn Dist',\n",
    "                  method = 'update',\n",
    "                  args = [{'visible': [True, True, False, False]}, \n",
    "                      {'title': f'Customer Churn Binary Counting Distribution' }]),\n",
    "\n",
    "              dict(\n",
    "                    label = 'No-Churn Dist',\n",
    "                  method = 'update',\n",
    "                  args = [{'visible': [False, False, True, True]},\n",
    "                      {'title': f'No Customer Churn Binary Counting Distribution'}]),\n",
    "\n",
    "          ]),\n",
    "      )\n",
    "    ])\n",
    "\n",
    "    layout = dict(title='ScatterPolar Distribution of Churn and Non-Churn Customers (Select from Dropdown)', \n",
    "                showlegend=False,\n",
    "                updatemenus=updatemenus)\n",
    "\n",
    "    fig = dict(data=data, layout=layout)\n",
    "\n",
    "    pio.show(fig)\n",
    "\n",
    "# Thanks to : https://www.kaggle.com/kabure/insightful-eda-churn-customers-models-pipeline#Feature-Engineering"
   ]
  },
  {
   "cell_type": "markdown",
   "id": "2c4eb5c3",
   "metadata": {
    "id": "7jswfZQcqAQG",
    "papermill": {
     "duration": 0.434449,
     "end_time": "2022-08-11T17:10:59.955505",
     "exception": false,
     "start_time": "2022-08-11T17:10:59.521056",
     "status": "completed"
    },
    "tags": []
   },
   "source": [
    "<a id='7.3.1'></a>\n",
    "###  7.3.1 Features With Cardinality = 2"
   ]
  },
  {
   "cell_type": "markdown",
   "id": "65e15835",
   "metadata": {
    "_kg_hide-input": true,
    "execution": {
     "iopub.execute_input": "2022-08-11T17:11:00.820339Z",
     "iopub.status.busy": "2022-08-11T17:11:00.819588Z",
     "iopub.status.idle": "2022-08-11T17:11:00.910444Z",
     "shell.execute_reply": "2022-08-11T17:11:00.909879Z",
     "shell.execute_reply.started": "2022-06-11T01:42:31.661862Z"
    },
    "id": "-XsRWsd0nxMj",
    "outputId": "cb7a4a88-07f6-412f-92ad-ffa92efb7407",
    "papermill": {
     "duration": 0.524944,
     "end_time": "2022-08-11T17:11:00.910592",
     "exception": false,
     "start_time": "2022-08-11T17:11:00.385648",
     "status": "completed"
    },
    "tags": []
   },
   "source": [
    "plot_counting_distribution(2)"
   ]
  },
  {
   "cell_type": "markdown",
   "id": "400ab146",
   "metadata": {
    "id": "LzcTSWpfqDYP",
    "papermill": {
     "duration": 0.439524,
     "end_time": "2022-08-11T17:11:01.788241",
     "exception": false,
     "start_time": "2022-08-11T17:11:01.348717",
     "status": "completed"
    },
    "tags": []
   },
   "source": [
    "<a id='7.3.2'></a>\n",
    "###  7.3.2 Features With Cardinality = 3"
   ]
  },
  {
   "cell_type": "markdown",
   "id": "356c19c3",
   "metadata": {
    "_kg_hide-input": true,
    "execution": {
     "iopub.execute_input": "2022-08-11T17:11:02.723031Z",
     "iopub.status.busy": "2022-08-11T17:11:02.722304Z",
     "iopub.status.idle": "2022-08-11T17:11:02.803486Z",
     "shell.execute_reply": "2022-08-11T17:11:02.804278Z",
     "shell.execute_reply.started": "2022-06-11T01:42:31.777544Z"
    },
    "id": "YQZ5RXJ2nzBN",
    "outputId": "2e25a51b-b780-441e-8dda-25c8bba06895",
    "papermill": {
     "duration": 0.525683,
     "end_time": "2022-08-11T17:11:02.804506",
     "exception": false,
     "start_time": "2022-08-11T17:11:02.278823",
     "status": "completed"
    },
    "tags": []
   },
   "source": [
    "plot_counting_distribution(3)"
   ]
  },
  {
   "cell_type": "markdown",
   "id": "7edbbbfc",
   "metadata": {
    "id": "GYds0Og6Q9AN",
    "papermill": {
     "duration": 0.442426,
     "end_time": "2022-08-11T17:11:03.688973",
     "exception": false,
     "start_time": "2022-08-11T17:11:03.246547",
     "status": "completed"
    },
    "tags": []
   },
   "source": [
    "<a id='8'></a>\n",
    "# 8 Save Cleaned Dataset"
   ]
  },
  {
   "cell_type": "markdown",
   "id": "67103c0a",
   "metadata": {
    "id": "X9KY0OFqbeWg",
    "papermill": {
     "duration": 0.441629,
     "end_time": "2022-08-11T17:11:04.577429",
     "exception": false,
     "start_time": "2022-08-11T17:11:04.135800",
     "status": "completed"
    },
    "tags": []
   },
   "source": [
    "\n",
    "##  combine cluster 0 and 2 as they look similar so as to have 1(Not defaulting), 0(At risk of defaulting)"
   ]
  },
  {
   "cell_type": "code",
   "execution_count": null,
   "id": "4fffe962",
   "metadata": {
    "execution": {
     "iopub.execute_input": "2022-08-11T17:11:05.494125Z",
     "iopub.status.busy": "2022-08-11T17:11:05.493147Z",
     "iopub.status.idle": "2022-08-11T17:11:05.503646Z",
     "shell.execute_reply": "2022-08-11T17:11:05.504246Z",
     "shell.execute_reply.started": "2022-06-11T01:42:31.885827Z"
    },
    "id": "ctT2rtyLWR5c",
    "papermill": {
     "duration": 0.47041,
     "end_time": "2022-08-11T17:11:05.504427",
     "exception": false,
     "start_time": "2022-08-11T17:11:05.034017",
     "status": "completed"
    },
    "tags": []
   },
   "outputs": [],
   "source": [
    "df_churn_cleaned = df_churn.copy()\n",
    "#df_churn_cleaned.Churn[df_churn_cleaned.Churn.str.lower() == 'yes'] = 1\n",
    "df_churn_cleaned.cluster[df_churn_cleaned.cluster == 2] = 0\n",
    "\n",
    "df_churn_cleaned['cluster'] = df_churn_cleaned['cluster'].astype('float')"
   ]
  },
  {
   "cell_type": "code",
   "execution_count": null,
   "id": "ba927961",
   "metadata": {
    "execution": {
     "iopub.execute_input": "2022-08-11T17:11:06.397140Z",
     "iopub.status.busy": "2022-08-11T17:11:06.396162Z",
     "iopub.status.idle": "2022-08-11T17:11:06.455385Z",
     "shell.execute_reply": "2022-08-11T17:11:06.455956Z",
     "shell.execute_reply.started": "2022-06-11T01:42:31.916262Z"
    },
    "id": "U26OFdczxVxI",
    "papermill": {
     "duration": 0.505958,
     "end_time": "2022-08-11T17:11:06.456160",
     "exception": false,
     "start_time": "2022-08-11T17:11:05.950202",
     "status": "completed"
    },
    "tags": []
   },
   "outputs": [],
   "source": [
    "df_churn_cleaned.to_csv(\"new_loan_data-cleaned.csv\", index=False)"
   ]
  },
  {
   "cell_type": "markdown",
   "id": "a06fc3ac",
   "metadata": {
    "id": "S3rlcBBs6Avj",
    "papermill": {
     "duration": 0.44405,
     "end_time": "2022-08-11T17:11:07.345940",
     "exception": false,
     "start_time": "2022-08-11T17:11:06.901890",
     "status": "completed"
    },
    "tags": []
   },
   "source": [
    "<a id='9'></a>\n",
    "# 9 Conclusion\n",
    "\n",
    "From the above analysis, we can conclude: \n",
    "\n",
    "* Customer Churn is gender neutral, i.e., Gender has no correlation with the target\n",
    "* Number of months the customer has stayed with the company (**tenure**) and the contract term of the customer (**contract**) are the most important features that have strong correlation with churn of the customer\n",
    "* OnlineSecurity, TechSupport, InternetService, PaymentMethod are moderately correlated with customer churn\n",
    "\n",
    "## What's Next ?\n",
    "\n",
    "**Model building, hyperparameter optimization and deployment**\n",
    "\n",
    "##### I applied XGBoost, Catboost and LightGBM and performed hyperparameter tuning using Optuna for all of the classifiers. Also I demonstrated how to save and load the model with their standard format.\n",
    "\n",
    "##### Please visit this notebook to see the rest of the project - \n",
    "\n",
    "\n",
    "### [Churn Prediction Part 2 : Triple Boost Stacking Ensemble + Optuna Tuning](https://www.kaggle.com/ahmedshahriarsakib/churn-prediction-part2-triple-boost-stack-optuna)\n",
    "\n",
    "\n",
    "#### Also I deployed the project using [**streamlit**](https://streamlit.io)\n",
    "\n",
    "#### Streamlit App Preview\n",
    "\n",
    "![Telco Customer Churn Prediction Streamlit](https://user-images.githubusercontent.com/40615350/142819900-60053284-5266-4a66-87a3-cddcb2f0d929.gif \"Telco Customer Churn Prediction Streamlit\")\n",
    "\n",
    "---\n",
    "\n",
    "#### Please click the button below if you want to check the live app\n",
    "\n",
    "[![Live in Streamlit](https://static.streamlit.io/badges/streamlit_badge_black_white.svg)](https://share.streamlit.io//ahmedshahriar/Telco-Customer-Churn-Prediction-Streamlit-App/main/app.py)\n",
    "\n",
    "---\n",
    "\n",
    "### If you like this project please feel free to fork the kernel,use the code, share the notebook and give an upvote. If you have any questions or suggestions to improve the analysis please comment below "
   ]
  },
  {
   "cell_type": "markdown",
   "id": "f86501b2",
   "metadata": {
    "id": "_VgcsV0m6C3f",
    "papermill": {
     "duration": 0.498964,
     "end_time": "2022-08-11T17:11:08.287178",
     "exception": false,
     "start_time": "2022-08-11T17:11:07.788214",
     "status": "completed"
    },
    "tags": []
   },
   "source": [
    "<a id='10'></a>\n",
    "# 10 Reference\n",
    "\n",
    "\n",
    "\n",
    "1. [Statstest](https://www.statstest.com/relationship)\n",
    "2. [Parametric nonparametric tests healthknowledge - healthknowledge.org](https://www.healthknowledge.org.uk/public-health-textbook/research-methods/1b-statistical-methods/parametric-nonparametric-tests)\n",
    "3. [Feature Selection Method For Machine Learning - machinelearningmastery](https://machinelearningmastery.com/feature-selection-with-real-and-categorical-data)\n",
    "4. [The Search for Categorical Correlation - towardsdatascience](https://towardsdatascience.com/the-search-for-categorical-correlation-a1cf7f1888c9)\n",
    "5. [Nonparametric statistical significance](https://machinelearningmastery.com/nonparametric-statistical-significance-tests-in-python/)\n",
    "6. [Eta-squared - ResearchGate](https://www.researchgate.net/post/Can_I_use_Pearsons_correlation_coefficient_to_know_the_relation_between_perception_and_gender_age_income)\n",
    "7. [T-test examples - analyticsvidhya](https://www.analyticsvidhya.com/blog/2021/07/t-test-performing-hypothesis-testing-with-python/)\n",
    "8. [Nonparametric Statistical Hypothesis Tests - machinelearningmastery](https://machinelearningmastery.com/nonparametric-statistical-significance-tests-in-python/)\n",
    "9. [Kendalls-tau](https://www.statstest.com/kendalls-tau/)\n",
    "10. [Chi-Squared Test for Machine Learning](https://machinelearningmastery.com/chi-squared-test-for-machine-learning/)\n",
    "11. [Parametric-and-non-parametric-data](https://www.statisticshowto.com/probability-and-statistics/statistics-definitions/parametric-and-non-parametric-data/)\n",
    "12. [Mann-whitney-u-test for non-parametric](https://www.statisticshowto.com/mann-whitney-u-test/)\n",
    "13. [Point-biserial correlation, Phi, & Cramer's V](http://web.pdx.edu/~newsomj/pa551/lectur15.htm)\n",
    "14. [Theia's Uncertainity](https://en.wikipedia.org/wiki/Uncertainty_coefficient)\n",
    "15. [Non-parametric-correlation-for-continuous-and-dichotomous-variables](https://stats.stackexchange.com/questions/86637/non-parametric-correlation-for-continuous-and-dichotomous-variables)\n",
    "16. [Effect Size Wiki](https://en.wikipedia.org/wiki/Effect_size)\n",
    "17. [Categorical correlation](https://towardsdatascience.com/the-search-for-categorical-correlation-a1cf7f1888c9)\n",
    "18. [Correlation_ratio dython](http://shakedzy.xyz/dython/modules/nominal/#correlation_ratio)\n",
    "19. [Tetrachoric’s correlation](https://junye0798.com/post/everythin-you-need-to-know-about-correlation/)\n",
    "20. [Chi-square](http://web.pdx.edu/~newsomj/pa551/lectur11.htm)\n",
    "21. [Kruskal-wallis - statisticshowto](https://www.statisticshowto.com/probability-and-statistics/statistics-definitions/kruskal-wallis/)\n",
    "22. [Everything You Need To Know About Correlation](https://junye0798.com/post/everythin-you-need-to-know-about-correlation)\n"
   ]
  }
 ],
 "metadata": {
  "kernelspec": {
   "display_name": "Python 3",
   "language": "python",
   "name": "python3"
  },
  "language_info": {
   "codemirror_mode": {
    "name": "ipython",
    "version": 3
   },
   "file_extension": ".py",
   "mimetype": "text/x-python",
   "name": "python",
   "nbconvert_exporter": "python",
   "pygments_lexer": "ipython3",
   "version": "3.8.8"
  },
  "papermill": {
   "default_parameters": {},
   "duration": 107.393194,
   "end_time": "2022-08-11T17:11:09.542697",
   "environment_variables": {},
   "exception": null,
   "input_path": "__notebook__.ipynb",
   "output_path": "__notebook__.ipynb",
   "parameters": {},
   "start_time": "2022-08-11T17:09:22.149503",
   "version": "2.3.3"
  }
 },
 "nbformat": 4,
 "nbformat_minor": 5
}
